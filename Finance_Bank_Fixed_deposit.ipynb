{
  "nbformat": 4,
  "nbformat_minor": 0,
  "metadata": {
    "colab": {
      "name": "Finance - Bank_Fixed_deposit",
      "provenance": [],
      "collapsed_sections": [
        "uUKi8KT1k2Hw"
      ],
      "toc_visible": true,
      "include_colab_link": true
    },
    "kernelspec": {
      "display_name": "Python 3",
      "language": "python",
      "name": "python3"
    },
    "language_info": {
      "codemirror_mode": {
        "name": "ipython",
        "version": 3
      },
      "file_extension": ".py",
      "mimetype": "text/x-python",
      "name": "python",
      "nbconvert_exporter": "python",
      "pygments_lexer": "ipython3",
      "version": "3.6.3"
    }
  },
  "cells": [
    {
      "cell_type": "markdown",
      "metadata": {
        "id": "view-in-github",
        "colab_type": "text"
      },
      "source": [
        "<a href=\"https://colab.research.google.com/github/sanu1230/Personal_Projects/blob/master/Finance_Bank_Fixed_deposit.ipynb\" target=\"_parent\"><img src=\"https://colab.research.google.com/assets/colab-badge.svg\" alt=\"Open In Colab\"/></a>"
      ]
    },
    {
      "cell_type": "markdown",
      "metadata": {
        "id": "TAwuZXfnk2CX",
        "colab_type": "text"
      },
      "source": [
        "# Predict who will opt for Fixed Deposit"
      ]
    },
    {
      "cell_type": "markdown",
      "metadata": {
        "id": "S5SCAqCtk2Ca",
        "colab_type": "text"
      },
      "source": [
        "## Client Requirement\n",
        "\n",
        "The dataset is about a marketing campaign of a bank, looking to analyze different ways to look for future strategies in order to improve future marketing campaigns for the bank. The data set is imbalanced with 4521 instances and 17 columns.\n"
      ]
    },
    {
      "cell_type": "markdown",
      "metadata": {
        "id": "c7-hXexmk2Cc",
        "colab_type": "text"
      },
      "source": [
        "## Attributes:\n",
        "\n",
        "1 - age (numeric)\n",
        "\n",
        "2 - job : type of job (categorical: \"admin.\",\"unknown\",\"unemployed\",\"management\",\"housemaid\",\"entrepreneur\",\"student\",\n",
        "                                    \"blue-collar\",\"self-employed\",\"retired\",\"technician\",\"services\") \n",
        "\n",
        "3 - marital : marital status (categorical: \"married\",\"divorced\",\"single\"; note: \"divorced\" means divorced or widowed)\n",
        "\n",
        "4 - education (categorical: \"unknown\",\"secondary\",\"primary\",\"tertiary\")\n",
        "\n",
        "5 - default: has credit in default? (binary: \"yes\",\"no\")\n",
        "\n",
        "6 - balance: average yearly balance, in euros (numeric) \n",
        "\n",
        "7 - housing: has housing loan? (binary: \"yes\",\"no\")\n",
        "\n",
        "8 - loan: has personal loan? (binary: \"yes\",\"no\")\n",
        "\n",
        "9 - contact: contact communication type (categorical: \"unknown\",\"telephone\",\"cellular\") \n",
        "\n",
        "10 - day: last contact day of the month (numeric)\n",
        "\n",
        "11 - month: last contact month of year (categorical: \"jan\", \"feb\", \"mar\", ..., \"nov\", \"dec\")\n",
        "\n",
        "12 - duration: last contact duration, in seconds (numeric)\n",
        "\n",
        "13 - campaign: number of contacts performed during this campaign and for this client (numeric, includes last contact)\n",
        "\n",
        "14 - pdays: number of days that passed by after the client was last contacted from a previous campaign (numeric, -1 means client was not previously contacted)\n",
        "  \n",
        "15 - previous: number of contacts performed before this campaign and for this client (numeric)\n",
        "\n",
        "16 - poutcome: outcome of the previous marketing campaign (categorical: \"unknown\",\"other\",\"failure\",\"success\")\n",
        "\n",
        " Response Variable (desired target):__\n",
        "\n",
        "17 - y - has the client subscribed to a __Fixed_deposit?__ (binary: \"yes\",\"no\")"
      ]
    },
    {
      "cell_type": "markdown",
      "metadata": {
        "id": "6OXzCgM7k2Cd",
        "colab_type": "text"
      },
      "source": [
        "## Objective"
      ]
    },
    {
      "cell_type": "markdown",
      "metadata": {
        "id": "CdJ-iSXgk2Cd",
        "colab_type": "text"
      },
      "source": [
        "The Objective of this analysis is to Predict who will do a Term Deposit in the Financial Institution"
      ]
    },
    {
      "cell_type": "markdown",
      "metadata": {
        "id": "XXqgS7Z_k2Ce",
        "colab_type": "text"
      },
      "source": [
        "## Importing necessary packages"
      ]
    },
    {
      "cell_type": "code",
      "metadata": {
        "colab_type": "code",
        "id": "WuUER6Q3Dj9M",
        "colab": {
          "base_uri": "https://localhost:8080/",
          "height": 70
        },
        "outputId": "a923bb7d-083e-4e28-b41d-05ba5960f149"
      },
      "source": [
        "import pandas as pd \n",
        "import seaborn as sns \n",
        "import matplotlib.pyplot as plt \n",
        "\n",
        "from sklearn.ensemble import RandomForestClassifier  \n",
        "from sklearn.svm import SVC   \n",
        "from sklearn.preprocessing import StandardScaler    "
      ],
      "execution_count": 1,
      "outputs": [
        {
          "output_type": "stream",
          "text": [
            "/usr/local/lib/python3.6/dist-packages/statsmodels/tools/_testing.py:19: FutureWarning: pandas.util.testing is deprecated. Use the functions in the public API at pandas.testing instead.\n",
            "  import pandas.util.testing as tm\n"
          ],
          "name": "stderr"
        }
      ]
    },
    {
      "cell_type": "markdown",
      "metadata": {
        "id": "W1RrfyiOk2Ci",
        "colab_type": "text"
      },
      "source": [
        "## Loading Dataset"
      ]
    },
    {
      "cell_type": "code",
      "metadata": {
        "id": "QTf56rv7ipsG",
        "colab_type": "code",
        "colab": {
          "base_uri": "https://localhost:8080/",
          "height": 202
        },
        "outputId": "6ebaccaf-3516-4867-e5ca-6930c5ff5dfb"
      },
      "source": [
        "!wget https://raw.githubusercontent.com/UpXDataScience/FA-Bootcamp/master/Day3/Termdeposit.zip"
      ],
      "execution_count": 2,
      "outputs": [
        {
          "output_type": "stream",
          "text": [
            "--2020-08-12 17:46:08--  https://raw.githubusercontent.com/UpXDataScience/FA-Bootcamp/master/Day3/Termdeposit.zip\n",
            "Resolving raw.githubusercontent.com (raw.githubusercontent.com)... 151.101.0.133, 151.101.64.133, 151.101.128.133, ...\n",
            "Connecting to raw.githubusercontent.com (raw.githubusercontent.com)|151.101.0.133|:443... connected.\n",
            "HTTP request sent, awaiting response... 200 OK\n",
            "Length: 65374 (64K) [application/zip]\n",
            "Saving to: ‘Termdeposit.zip’\n",
            "\n",
            "\rTermdeposit.zip       0%[                    ]       0  --.-KB/s               \rTermdeposit.zip     100%[===================>]  63.84K  --.-KB/s    in 0.03s   \n",
            "\n",
            "2020-08-12 17:46:08 (2.29 MB/s) - ‘Termdeposit.zip’ saved [65374/65374]\n",
            "\n"
          ],
          "name": "stdout"
        }
      ]
    },
    {
      "cell_type": "code",
      "metadata": {
        "id": "AfI2rhRkcmWC",
        "colab_type": "code",
        "colab": {
          "base_uri": "https://localhost:8080/",
          "height": 185
        },
        "outputId": "f9e915f7-b9bc-4007-d71e-8cc21bbf116c"
      },
      "source": [
        "!unzip Termdeposit.zip"
      ],
      "execution_count": 3,
      "outputs": [
        {
          "output_type": "stream",
          "text": [
            "Archive:  Termdeposit.zip\n",
            "  inflating: Bank_Term_Deposit_Train.csv  \n",
            "  inflating: Day1_Actual_output.xls  \n",
            "  inflating: Day1_input.xls          \n",
            "  inflating: Day2_Actual_output.xls  \n",
            "  inflating: Day2_input.xls          \n",
            "  inflating: Day3_Actual_output.xls  \n",
            "  inflating: Day3_input.xls          \n",
            "  inflating: Day4_Actual_output.xls  \n",
            "  inflating: Day4_input.xls          \n"
          ],
          "name": "stdout"
        }
      ]
    },
    {
      "cell_type": "code",
      "metadata": {
        "colab_type": "code",
        "id": "5Ed5rAafDj_4",
        "colab": {}
      },
      "source": [
        "df=pd.read_csv(\"Bank_Term_Deposit_Train.csv\")           "
      ],
      "execution_count": 4,
      "outputs": []
    },
    {
      "cell_type": "code",
      "metadata": {
        "colab_type": "code",
        "id": "Dd6yvhjosICl",
        "colab": {}
      },
      "source": [
        "pd.options.display.max_columns=None  "
      ],
      "execution_count": 5,
      "outputs": []
    },
    {
      "cell_type": "code",
      "metadata": {
        "colab_type": "code",
        "id": "dgAHbObFDkCn",
        "colab": {
          "base_uri": "https://localhost:8080/",
          "height": 232
        },
        "outputId": "eaac2b4a-ab1a-4904-eae6-325b62394ac9"
      },
      "source": [
        "df.head()"
      ],
      "execution_count": 6,
      "outputs": [
        {
          "output_type": "execute_result",
          "data": {
            "text/html": [
              "<div>\n",
              "<style scoped>\n",
              "    .dataframe tbody tr th:only-of-type {\n",
              "        vertical-align: middle;\n",
              "    }\n",
              "\n",
              "    .dataframe tbody tr th {\n",
              "        vertical-align: top;\n",
              "    }\n",
              "\n",
              "    .dataframe thead th {\n",
              "        text-align: right;\n",
              "    }\n",
              "</style>\n",
              "<table border=\"1\" class=\"dataframe\">\n",
              "  <thead>\n",
              "    <tr style=\"text-align: right;\">\n",
              "      <th></th>\n",
              "      <th>Unnamed: 0</th>\n",
              "      <th>age</th>\n",
              "      <th>job</th>\n",
              "      <th>marital</th>\n",
              "      <th>education</th>\n",
              "      <th>default</th>\n",
              "      <th>balance</th>\n",
              "      <th>housing</th>\n",
              "      <th>loan</th>\n",
              "      <th>contact</th>\n",
              "      <th>day</th>\n",
              "      <th>month</th>\n",
              "      <th>duration</th>\n",
              "      <th>campaign</th>\n",
              "      <th>pdays</th>\n",
              "      <th>previous</th>\n",
              "      <th>poutcome</th>\n",
              "      <th>y</th>\n",
              "    </tr>\n",
              "  </thead>\n",
              "  <tbody>\n",
              "    <tr>\n",
              "      <th>0</th>\n",
              "      <td>0</td>\n",
              "      <td>30</td>\n",
              "      <td>unemployed</td>\n",
              "      <td>married</td>\n",
              "      <td>primary</td>\n",
              "      <td>no</td>\n",
              "      <td>1787</td>\n",
              "      <td>no</td>\n",
              "      <td>no</td>\n",
              "      <td>cellular</td>\n",
              "      <td>19</td>\n",
              "      <td>oct</td>\n",
              "      <td>79</td>\n",
              "      <td>1</td>\n",
              "      <td>-1</td>\n",
              "      <td>0</td>\n",
              "      <td>unknown</td>\n",
              "      <td>no</td>\n",
              "    </tr>\n",
              "    <tr>\n",
              "      <th>1</th>\n",
              "      <td>1</td>\n",
              "      <td>33</td>\n",
              "      <td>services</td>\n",
              "      <td>married</td>\n",
              "      <td>secondary</td>\n",
              "      <td>no</td>\n",
              "      <td>4789</td>\n",
              "      <td>yes</td>\n",
              "      <td>yes</td>\n",
              "      <td>cellular</td>\n",
              "      <td>11</td>\n",
              "      <td>may</td>\n",
              "      <td>220</td>\n",
              "      <td>1</td>\n",
              "      <td>339</td>\n",
              "      <td>4</td>\n",
              "      <td>failure</td>\n",
              "      <td>no</td>\n",
              "    </tr>\n",
              "    <tr>\n",
              "      <th>2</th>\n",
              "      <td>2</td>\n",
              "      <td>35</td>\n",
              "      <td>management</td>\n",
              "      <td>single</td>\n",
              "      <td>tertiary</td>\n",
              "      <td>no</td>\n",
              "      <td>1350</td>\n",
              "      <td>yes</td>\n",
              "      <td>no</td>\n",
              "      <td>cellular</td>\n",
              "      <td>16</td>\n",
              "      <td>apr</td>\n",
              "      <td>185</td>\n",
              "      <td>1</td>\n",
              "      <td>330</td>\n",
              "      <td>1</td>\n",
              "      <td>failure</td>\n",
              "      <td>no</td>\n",
              "    </tr>\n",
              "    <tr>\n",
              "      <th>3</th>\n",
              "      <td>3</td>\n",
              "      <td>30</td>\n",
              "      <td>management</td>\n",
              "      <td>married</td>\n",
              "      <td>tertiary</td>\n",
              "      <td>no</td>\n",
              "      <td>1476</td>\n",
              "      <td>yes</td>\n",
              "      <td>yes</td>\n",
              "      <td>unknown</td>\n",
              "      <td>3</td>\n",
              "      <td>jun</td>\n",
              "      <td>199</td>\n",
              "      <td>4</td>\n",
              "      <td>-1</td>\n",
              "      <td>0</td>\n",
              "      <td>unknown</td>\n",
              "      <td>no</td>\n",
              "    </tr>\n",
              "    <tr>\n",
              "      <th>4</th>\n",
              "      <td>4</td>\n",
              "      <td>59</td>\n",
              "      <td>blue-collar</td>\n",
              "      <td>married</td>\n",
              "      <td>secondary</td>\n",
              "      <td>no</td>\n",
              "      <td>0</td>\n",
              "      <td>yes</td>\n",
              "      <td>no</td>\n",
              "      <td>unknown</td>\n",
              "      <td>5</td>\n",
              "      <td>may</td>\n",
              "      <td>226</td>\n",
              "      <td>1</td>\n",
              "      <td>-1</td>\n",
              "      <td>0</td>\n",
              "      <td>unknown</td>\n",
              "      <td>no</td>\n",
              "    </tr>\n",
              "  </tbody>\n",
              "</table>\n",
              "</div>"
            ],
            "text/plain": [
              "   Unnamed: 0  age          job  marital  education default  balance housing  \\\n",
              "0           0   30   unemployed  married    primary      no     1787      no   \n",
              "1           1   33     services  married  secondary      no     4789     yes   \n",
              "2           2   35   management   single   tertiary      no     1350     yes   \n",
              "3           3   30   management  married   tertiary      no     1476     yes   \n",
              "4           4   59  blue-collar  married  secondary      no        0     yes   \n",
              "\n",
              "  loan   contact  day month  duration  campaign  pdays  previous poutcome   y  \n",
              "0   no  cellular   19   oct        79         1     -1         0  unknown  no  \n",
              "1  yes  cellular   11   may       220         1    339         4  failure  no  \n",
              "2   no  cellular   16   apr       185         1    330         1  failure  no  \n",
              "3  yes   unknown    3   jun       199         4     -1         0  unknown  no  \n",
              "4   no   unknown    5   may       226         1     -1         0  unknown  no  "
            ]
          },
          "metadata": {
            "tags": []
          },
          "execution_count": 6
        }
      ]
    },
    {
      "cell_type": "code",
      "metadata": {
        "id": "928QugCOk2Cv",
        "colab_type": "code",
        "colab": {}
      },
      "source": [
        "del df['Unnamed: 0']        # Removing the first column"
      ],
      "execution_count": 7,
      "outputs": []
    },
    {
      "cell_type": "code",
      "metadata": {
        "colab_type": "code",
        "id": "3B8-3UwgDkE4",
        "colab": {
          "base_uri": "https://localhost:8080/",
          "height": 34
        },
        "outputId": "8e47c64d-8bb6-49e8-ea81-42a3ef91c21b"
      },
      "source": [
        "df.shape    # Checking the number of rows and columns"
      ],
      "execution_count": 8,
      "outputs": [
        {
          "output_type": "execute_result",
          "data": {
            "text/plain": [
              "(4413, 17)"
            ]
          },
          "metadata": {
            "tags": []
          },
          "execution_count": 8
        }
      ]
    },
    {
      "cell_type": "markdown",
      "metadata": {
        "id": "eiq60u7Zk2Cy",
        "colab_type": "text"
      },
      "source": [
        "## Understanding datatypes"
      ]
    },
    {
      "cell_type": "code",
      "metadata": {
        "colab_type": "code",
        "id": "eb_u4JTNDkHa",
        "colab": {
          "base_uri": "https://localhost:8080/",
          "height": 420
        },
        "outputId": "f548739b-9272-47a2-88e1-4bd00af21dfa"
      },
      "source": [
        "df.info() # Checking the info, missing values and data types"
      ],
      "execution_count": 9,
      "outputs": [
        {
          "output_type": "stream",
          "text": [
            "<class 'pandas.core.frame.DataFrame'>\n",
            "RangeIndex: 4413 entries, 0 to 4412\n",
            "Data columns (total 17 columns):\n",
            " #   Column     Non-Null Count  Dtype \n",
            "---  ------     --------------  ----- \n",
            " 0   age        4413 non-null   int64 \n",
            " 1   job        4413 non-null   object\n",
            " 2   marital    4413 non-null   object\n",
            " 3   education  4413 non-null   object\n",
            " 4   default    4413 non-null   object\n",
            " 5   balance    4413 non-null   int64 \n",
            " 6   housing    4413 non-null   object\n",
            " 7   loan       4413 non-null   object\n",
            " 8   contact    4413 non-null   object\n",
            " 9   day        4413 non-null   int64 \n",
            " 10  month      4413 non-null   object\n",
            " 11  duration   4413 non-null   int64 \n",
            " 12  campaign   4413 non-null   int64 \n",
            " 13  pdays      4413 non-null   int64 \n",
            " 14  previous   4413 non-null   int64 \n",
            " 15  poutcome   4413 non-null   object\n",
            " 16  y          4413 non-null   object\n",
            "dtypes: int64(7), object(10)\n",
            "memory usage: 586.2+ KB\n"
          ],
          "name": "stdout"
        }
      ]
    },
    {
      "cell_type": "code",
      "metadata": {
        "id": "vl_cR9P-k2C1",
        "colab_type": "code",
        "colab": {
          "base_uri": "https://localhost:8080/",
          "height": 319
        },
        "outputId": "f4f0facc-c34e-42b6-cbda-afc00c54f957"
      },
      "source": [
        "df.isnull().sum()                                                                    # Checking the missing values"
      ],
      "execution_count": 10,
      "outputs": [
        {
          "output_type": "execute_result",
          "data": {
            "text/plain": [
              "age          0\n",
              "job          0\n",
              "marital      0\n",
              "education    0\n",
              "default      0\n",
              "balance      0\n",
              "housing      0\n",
              "loan         0\n",
              "contact      0\n",
              "day          0\n",
              "month        0\n",
              "duration     0\n",
              "campaign     0\n",
              "pdays        0\n",
              "previous     0\n",
              "poutcome     0\n",
              "y            0\n",
              "dtype: int64"
            ]
          },
          "metadata": {
            "tags": []
          },
          "execution_count": 10
        }
      ]
    },
    {
      "cell_type": "code",
      "metadata": {
        "id": "qS5FCiK2k2C4",
        "colab_type": "code",
        "colab": {
          "base_uri": "https://localhost:8080/",
          "height": 67
        },
        "outputId": "5f4cdfb6-8199-49ba-c34d-8278cc686f26"
      },
      "source": [
        "df.y.value_counts()                                                                 # Find the total number of observations across all the classes given in Output var"
      ],
      "execution_count": 11,
      "outputs": [
        {
          "output_type": "execute_result",
          "data": {
            "text/plain": [
              "no     3904\n",
              "yes     509\n",
              "Name: y, dtype: int64"
            ]
          },
          "metadata": {
            "tags": []
          },
          "execution_count": 11
        }
      ]
    },
    {
      "cell_type": "code",
      "metadata": {
        "id": "LD7kh34gk2C6",
        "colab_type": "code",
        "colab": {
          "base_uri": "https://localhost:8080/",
          "height": 284
        },
        "outputId": "efe38f8f-b969-4897-9036-370d5ac8b8ea"
      },
      "source": [
        "df.describe()                                                                      # Checking the descriptive statistics"
      ],
      "execution_count": null,
      "outputs": [
        {
          "output_type": "execute_result",
          "data": {
            "text/html": [
              "<div>\n",
              "<style scoped>\n",
              "    .dataframe tbody tr th:only-of-type {\n",
              "        vertical-align: middle;\n",
              "    }\n",
              "\n",
              "    .dataframe tbody tr th {\n",
              "        vertical-align: top;\n",
              "    }\n",
              "\n",
              "    .dataframe thead th {\n",
              "        text-align: right;\n",
              "    }\n",
              "</style>\n",
              "<table border=\"1\" class=\"dataframe\">\n",
              "  <thead>\n",
              "    <tr style=\"text-align: right;\">\n",
              "      <th></th>\n",
              "      <th>age</th>\n",
              "      <th>balance</th>\n",
              "      <th>day</th>\n",
              "      <th>duration</th>\n",
              "      <th>campaign</th>\n",
              "      <th>pdays</th>\n",
              "      <th>previous</th>\n",
              "    </tr>\n",
              "  </thead>\n",
              "  <tbody>\n",
              "    <tr>\n",
              "      <th>count</th>\n",
              "      <td>4413.000000</td>\n",
              "      <td>4413.000000</td>\n",
              "      <td>4413.000000</td>\n",
              "      <td>4413.000000</td>\n",
              "      <td>4413.000000</td>\n",
              "      <td>4413.000000</td>\n",
              "      <td>4413.000000</td>\n",
              "    </tr>\n",
              "    <tr>\n",
              "      <th>mean</th>\n",
              "      <td>41.203716</td>\n",
              "      <td>1419.201224</td>\n",
              "      <td>15.921142</td>\n",
              "      <td>263.663494</td>\n",
              "      <td>2.800136</td>\n",
              "      <td>39.455472</td>\n",
              "      <td>0.537729</td>\n",
              "    </tr>\n",
              "    <tr>\n",
              "      <th>std</th>\n",
              "      <td>10.577605</td>\n",
              "      <td>3008.200835</td>\n",
              "      <td>8.252401</td>\n",
              "      <td>259.753338</td>\n",
              "      <td>3.124920</td>\n",
              "      <td>99.893990</td>\n",
              "      <td>1.689185</td>\n",
              "    </tr>\n",
              "    <tr>\n",
              "      <th>min</th>\n",
              "      <td>19.000000</td>\n",
              "      <td>-3313.000000</td>\n",
              "      <td>1.000000</td>\n",
              "      <td>4.000000</td>\n",
              "      <td>1.000000</td>\n",
              "      <td>-1.000000</td>\n",
              "      <td>0.000000</td>\n",
              "    </tr>\n",
              "    <tr>\n",
              "      <th>25%</th>\n",
              "      <td>33.000000</td>\n",
              "      <td>69.000000</td>\n",
              "      <td>9.000000</td>\n",
              "      <td>104.000000</td>\n",
              "      <td>1.000000</td>\n",
              "      <td>-1.000000</td>\n",
              "      <td>0.000000</td>\n",
              "    </tr>\n",
              "    <tr>\n",
              "      <th>50%</th>\n",
              "      <td>39.000000</td>\n",
              "      <td>443.000000</td>\n",
              "      <td>16.000000</td>\n",
              "      <td>185.000000</td>\n",
              "      <td>2.000000</td>\n",
              "      <td>-1.000000</td>\n",
              "      <td>0.000000</td>\n",
              "    </tr>\n",
              "    <tr>\n",
              "      <th>75%</th>\n",
              "      <td>49.000000</td>\n",
              "      <td>1472.000000</td>\n",
              "      <td>21.000000</td>\n",
              "      <td>330.000000</td>\n",
              "      <td>3.000000</td>\n",
              "      <td>-1.000000</td>\n",
              "      <td>0.000000</td>\n",
              "    </tr>\n",
              "    <tr>\n",
              "      <th>max</th>\n",
              "      <td>87.000000</td>\n",
              "      <td>71188.000000</td>\n",
              "      <td>31.000000</td>\n",
              "      <td>3025.000000</td>\n",
              "      <td>50.000000</td>\n",
              "      <td>871.000000</td>\n",
              "      <td>25.000000</td>\n",
              "    </tr>\n",
              "  </tbody>\n",
              "</table>\n",
              "</div>"
            ],
            "text/plain": [
              "               age       balance          day     duration     campaign  \\\n",
              "count  4413.000000   4413.000000  4413.000000  4413.000000  4413.000000   \n",
              "mean     41.203716   1419.201224    15.921142   263.663494     2.800136   \n",
              "std      10.577605   3008.200835     8.252401   259.753338     3.124920   \n",
              "min      19.000000  -3313.000000     1.000000     4.000000     1.000000   \n",
              "25%      33.000000     69.000000     9.000000   104.000000     1.000000   \n",
              "50%      39.000000    443.000000    16.000000   185.000000     2.000000   \n",
              "75%      49.000000   1472.000000    21.000000   330.000000     3.000000   \n",
              "max      87.000000  71188.000000    31.000000  3025.000000    50.000000   \n",
              "\n",
              "             pdays     previous  \n",
              "count  4413.000000  4413.000000  \n",
              "mean     39.455472     0.537729  \n",
              "std      99.893990     1.689185  \n",
              "min      -1.000000     0.000000  \n",
              "25%      -1.000000     0.000000  \n",
              "50%      -1.000000     0.000000  \n",
              "75%      -1.000000     0.000000  \n",
              "max     871.000000    25.000000  "
            ]
          },
          "metadata": {
            "tags": []
          },
          "execution_count": 161
        }
      ]
    },
    {
      "cell_type": "markdown",
      "metadata": {
        "id": "eIAHP5Ajk2C9",
        "colab_type": "text"
      },
      "source": [
        "## Data Visualization"
      ]
    },
    {
      "cell_type": "markdown",
      "metadata": {
        "id": "7l5lwHEDgFjp",
        "colab_type": "text"
      },
      "source": [
        "### Account 'balance' & 'education' of customers based on 'FD' results."
      ]
    },
    {
      "cell_type": "code",
      "metadata": {
        "id": "zYN5nhfak2C9",
        "colab_type": "code",
        "colab": {
          "base_uri": "https://localhost:8080/",
          "height": 388
        },
        "outputId": "b4724eec-b6ee-4522-98a8-b86107c77871"
      },
      "source": [
        "plt.figure(figsize=[10,6])                                     \n",
        "sns.barplot(y=df['balance'], x=df['y'], hue=df.education)     \n",
        "plt.xlabel(\"FD:yes/no\")              \n",
        "plt.show()             "
      ],
      "execution_count": 13,
      "outputs": [
        {
          "output_type": "display_data",
          "data": {
            "image/png": "[encoded data removed]",
            "text/plain": [
              "<Figure size 720x432 with 1 Axes>"
            ]
          },
          "metadata": {
            "tags": [],
            "needs_background": "light"
          }
        }
      ]
    },
    {
      "cell_type": "markdown",
      "metadata": {
        "id": "-mHyz2EZk2DA",
        "colab_type": "text"
      },
      "source": [
        "People who have term deposit have more balance in bank.  <br> \n",
        "This is because term deposit is a good investment scheme with high rate of interest.  <br>\n",
        "People who have term deposit are more educated."
      ]
    },
    {
      "cell_type": "markdown",
      "metadata": {
        "id": "YY4zu5GMgndq",
        "colab_type": "text"
      },
      "source": [
        "### Customers 'age' &'education' based on 'FD' results"
      ]
    },
    {
      "cell_type": "code",
      "metadata": {
        "id": "rtnatzxIk2DB",
        "colab_type": "code",
        "colab": {
          "base_uri": "https://localhost:8080/",
          "height": 388
        },
        "outputId": "07275dc1-30aa-4dcb-db1e-bbef04e7d268"
      },
      "source": [
        "plt.figure(figsize=[10, 6]) \n",
        "sns.barplot(y=df['age'], x=df['y'], hue=df.education)\n",
        "plt.xlabel(\"FD:yes/no\")    \n",
        "plt.show()                                          "
      ],
      "execution_count": 14,
      "outputs": [
        {
          "output_type": "display_data",
          "data": {
            "image/png": "[encoded data removed]",
            "text/plain": [
              "<Figure size 720x432 with 1 Axes>"
            ]
          },
          "metadata": {
            "tags": [],
            "needs_background": "light"
          }
        }
      ]
    },
    {
      "cell_type": "markdown",
      "metadata": {
        "id": "5eX2j31ck2DD",
        "colab_type": "text"
      },
      "source": [
        "People who have term deposit have more age.  <br>\n",
        "It can be deduced that aged people create term deposit to save their retirement benefit."
      ]
    },
    {
      "cell_type": "markdown",
      "metadata": {
        "id": "yQMY2ZSqhe9d",
        "colab_type": "text"
      },
      "source": [
        "### FD marketing campaign result distribution based on customers account 'balance' and if any 'personal loan'."
      ]
    },
    {
      "cell_type": "code",
      "metadata": {
        "id": "g9paxp3ek2DE",
        "colab_type": "code",
        "colab": {
          "base_uri": "https://localhost:8080/",
          "height": 388
        },
        "outputId": "e45f65b3-2ffc-4497-8af6-519a352f2186"
      },
      "source": [
        "plt.figure(figsize=[10,6])                            \n",
        "sns.barplot(y=df['y'],x=df['balance'], hue=df.loan)    \n",
        "plt.show()"
      ],
      "execution_count": 16,
      "outputs": [
        {
          "output_type": "display_data",
          "data": {
            "image/png": "[encoded data removed]",
            "text/plain": [
              "<Figure size 720x432 with 1 Axes>"
            ]
          },
          "metadata": {
            "tags": [],
            "needs_background": "light"
          }
        }
      ]
    },
    {
      "cell_type": "markdown",
      "metadata": {
        "id": "LIZ8vU0pk2DH",
        "colab_type": "text"
      },
      "source": [
        "Those who have annual balance is close to 1500 euro and don't have loan are not doing Term Deposit. We should inspect more which factors are prohibiting them from doing a Term Deposit"
      ]
    },
    {
      "cell_type": "markdown",
      "metadata": {
        "id": "xRf-aVnKhv10",
        "colab_type": "text"
      },
      "source": [
        "### Finding Outliers"
      ]
    },
    {
      "cell_type": "code",
      "metadata": {
        "id": "ZR4qX3k0k2DH",
        "colab_type": "code",
        "colab": {
          "base_uri": "https://localhost:8080/",
          "height": 388
        },
        "outputId": "c82376cf-d7ab-4213-f381-c1dab2af1595"
      },
      "source": [
        "plt.figure(figsize=[10, 6])                                           # Setting the size of the figure\n",
        "sns.boxplot(x=df.y, y=df.balance, hue=df.loan)                         # Bar plot\n",
        "plt.show()"
      ],
      "execution_count": 17,
      "outputs": [
        {
          "output_type": "display_data",
          "data": {
            "image/png": "[encoded data removed]",
            "text/plain": [
              "<Figure size 720x432 with 1 Axes>"
            ]
          },
          "metadata": {
            "tags": [],
            "needs_background": "light"
          }
        }
      ]
    },
    {
      "cell_type": "markdown",
      "metadata": {
        "id": "HVaoUcJrk2DL",
        "colab_type": "text"
      },
      "source": [
        "We find some outliers in Annual balance in those who are not doing TD and having no loan"
      ]
    },
    {
      "cell_type": "markdown",
      "metadata": {
        "id": "bEZQPWYkiFja",
        "colab_type": "text"
      },
      "source": [
        "### Finding people with good savings and less responsibility and exp and still no FD"
      ]
    },
    {
      "cell_type": "code",
      "metadata": {
        "id": "EoxKQ7WBk2DL",
        "colab_type": "code",
        "colab": {
          "base_uri": "https://localhost:8080/",
          "height": 67
        },
        "outputId": "2eb70c1e-f600-4ebe-ecc0-05fddab0e16e"
      },
      "source": [
        "df[df.loan=='no'][df.y=='no'][df.balance>=1000][df.marital=='single'].shape[0] # 293 people having no loan,single and annual\n",
        "# greater than equal to 1000 are not doing Term Deposit."
      ],
      "execution_count": 18,
      "outputs": [
        {
          "output_type": "stream",
          "text": [
            "/usr/local/lib/python3.6/dist-packages/ipykernel_launcher.py:1: UserWarning: Boolean Series key will be reindexed to match DataFrame index.\n",
            "  \"\"\"Entry point for launching an IPython kernel.\n"
          ],
          "name": "stderr"
        },
        {
          "output_type": "execute_result",
          "data": {
            "text/plain": [
              "293"
            ]
          },
          "metadata": {
            "tags": []
          },
          "execution_count": 18
        }
      ]
    },
    {
      "cell_type": "markdown",
      "metadata": {
        "id": "rcV1-vCqiZZ9",
        "colab_type": "text"
      },
      "source": [
        "### Distribution of Age"
      ]
    },
    {
      "cell_type": "code",
      "metadata": {
        "id": "vvcecMVvk2DQ",
        "colab_type": "code",
        "colab": {
          "base_uri": "https://localhost:8080/",
          "height": 340
        },
        "outputId": "7acddda7-3a0c-48ff-d38f-24971de6d365"
      },
      "source": [
        "# Distribution plot of Age\n",
        "\n",
        "from matplotlib import style\n",
        "plt.figure(figsize=[10,5])\n",
        "style.use('ggplot')\n",
        "sns.distplot(df['age'])\n",
        "plt.show()"
      ],
      "execution_count": 19,
      "outputs": [
        {
          "output_type": "display_data",
          "data": {
            "image/png": "[encoded data removed]",
            "text/plain": [
              "<Figure size 720x360 with 1 Axes>"
            ]
          },
          "metadata": {
            "tags": [],
            "needs_background": "light"
          }
        }
      ]
    },
    {
      "cell_type": "markdown",
      "metadata": {
        "id": "sDKnaqFZiel5",
        "colab_type": "text"
      },
      "source": [
        "### Distribution of balance"
      ]
    },
    {
      "cell_type": "code",
      "metadata": {
        "id": "2Y4seemLk2DU",
        "colab_type": "code",
        "colab": {
          "base_uri": "https://localhost:8080/",
          "height": 337
        },
        "outputId": "079ff1d7-b7a2-4eec-a050-15510fbd6032"
      },
      "source": [
        "# Distribution plot of balance\n",
        "\n",
        "from matplotlib import style\n",
        "plt.figure(figsize=[10,5])\n",
        "style.use('ggplot')\n",
        "sns.distplot(df['balance'])\n",
        "plt.show()"
      ],
      "execution_count": 20,
      "outputs": [
        {
          "output_type": "display_data",
          "data": {
            "image/png": "[encoded data removed]",
            "text/plain": [
              "<Figure size 720x360 with 1 Axes>"
            ]
          },
          "metadata": {
            "tags": []
          }
        }
      ]
    },
    {
      "cell_type": "markdown",
      "metadata": {
        "id": "BlvRCugnk2DW",
        "colab_type": "text"
      },
      "source": [
        "Balance variable is highly skewed to the right. Max number of people having low annual balance"
      ]
    },
    {
      "cell_type": "markdown",
      "metadata": {
        "id": "yZAcA6tTk2DW",
        "colab_type": "text"
      },
      "source": [
        "### Let's see how our Output variable looks like"
      ]
    },
    {
      "cell_type": "code",
      "metadata": {
        "id": "dKv7ku2Fk2DX",
        "colab_type": "code",
        "colab": {
          "base_uri": "https://localhost:8080/",
          "height": 67
        },
        "outputId": "c40bc1a6-f922-4694-9b89-76e5d7c5c35e"
      },
      "source": [
        "df.y.value_counts()                       # Checking the number of values for each class"
      ],
      "execution_count": 21,
      "outputs": [
        {
          "output_type": "execute_result",
          "data": {
            "text/plain": [
              "no     3904\n",
              "yes     509\n",
              "Name: y, dtype: int64"
            ]
          },
          "metadata": {
            "tags": []
          },
          "execution_count": 21
        }
      ]
    },
    {
      "cell_type": "code",
      "metadata": {
        "id": "J6Ky834sk2DZ",
        "colab_type": "code",
        "colab": {}
      },
      "source": [
        "no=df['y']=='no'#.size()\n",
        "no=no.sum()\n",
        "yes=df['y']=='yes'\n",
        "yes=yes.sum()"
      ],
      "execution_count": 22,
      "outputs": []
    },
    {
      "cell_type": "code",
      "metadata": {
        "id": "Z4y35k12k2Dc",
        "colab_type": "code",
        "colab": {
          "base_uri": "https://localhost:8080/",
          "height": 466
        },
        "outputId": "fe6f82ef-f7aa-48cd-f152-7af3fdcf2ae1"
      },
      "source": [
        "# Pie chart of both the classes\n",
        "\n",
        "plt.figure(figsize=[8, 8])\n",
        "variables=['Yes','No']\n",
        "values=[yes,no]\n",
        "plt.pie(values,labels=variables, autopct='%1.1f%%', startangle=90, )\n",
        "plt.show()"
      ],
      "execution_count": 24,
      "outputs": [
        {
          "output_type": "display_data",
          "data": {
            "image/png": "[encoded data removed]",
            "text/plain": [
              "<Figure size 576x576 with 1 Axes>"
            ]
          },
          "metadata": {
            "tags": []
          }
        }
      ]
    },
    {
      "cell_type": "code",
      "metadata": {
        "id": "0q2lQ7pgk2Di",
        "colab_type": "code",
        "colab": {
          "base_uri": "https://localhost:8080/",
          "height": 34
        },
        "outputId": "7ab57c21-141a-4ca1-8b0d-7e6f4d213682"
      },
      "source": [
        "df.shape # Checking the number of rows and columns in the dataframe"
      ],
      "execution_count": 25,
      "outputs": [
        {
          "output_type": "execute_result",
          "data": {
            "text/plain": [
              "(4413, 17)"
            ]
          },
          "metadata": {
            "tags": []
          },
          "execution_count": 25
        }
      ]
    },
    {
      "cell_type": "markdown",
      "metadata": {
        "id": "l9_lsvi5e8U9",
        "colab_type": "text"
      },
      "source": [
        "## One-Hot-Encoding"
      ]
    },
    {
      "cell_type": "code",
      "metadata": {
        "colab_type": "code",
        "id": "sJDKPh46PcF7",
        "colab": {}
      },
      "source": [
        "# Creating features and the labels\n",
        "\n",
        "X=df.drop(['y'],1)\n",
        "y=df['y']"
      ],
      "execution_count": 26,
      "outputs": []
    },
    {
      "cell_type": "code",
      "metadata": {
        "id": "3TEX2WeYk2Dg",
        "colab_type": "code",
        "colab": {}
      },
      "source": [
        "x=X.copy()"
      ],
      "execution_count": 27,
      "outputs": []
    },
    {
      "cell_type": "code",
      "metadata": {
        "id": "cK0UppqUX64z",
        "colab_type": "code",
        "colab": {
          "base_uri": "https://localhost:8080/",
          "height": 84
        },
        "outputId": "71f93eca-b3a6-4255-9dd4-5cab56e486de"
      },
      "source": [
        "X.columns"
      ],
      "execution_count": 28,
      "outputs": [
        {
          "output_type": "execute_result",
          "data": {
            "text/plain": [
              "Index(['age', 'job', 'marital', 'education', 'default', 'balance', 'housing',\n",
              "       'loan', 'contact', 'day', 'month', 'duration', 'campaign', 'pdays',\n",
              "       'previous', 'poutcome'],\n",
              "      dtype='object')"
            ]
          },
          "metadata": {
            "tags": []
          },
          "execution_count": 28
        }
      ]
    },
    {
      "cell_type": "code",
      "metadata": {
        "id": "_A6MflG4k2Dk",
        "colab_type": "code",
        "colab": {
          "base_uri": "https://localhost:8080/",
          "height": 34
        },
        "outputId": "6e264b99-c286-4690-95b0-e6350457b5c4"
      },
      "source": [
        "# Getting the dummy values of categorical features.\n",
        "\n",
        "cat_cols = ['job', 'marital', 'education', 'default', 'housing', 'loan', 'contact', 'month', 'poutcome']\n",
        "\n",
        "encoded_cols = pd.get_dummies(X[cat_cols], drop_first=True)\n",
        "\n",
        "encoded_cols.shape"
      ],
      "execution_count": 29,
      "outputs": [
        {
          "output_type": "execute_result",
          "data": {
            "text/plain": [
              "(4413, 35)"
            ]
          },
          "metadata": {
            "tags": []
          },
          "execution_count": 29
        }
      ]
    },
    {
      "cell_type": "code",
      "metadata": {
        "id": "Y5283CBKk2Dn",
        "colab_type": "code",
        "colab": {
          "base_uri": "https://localhost:8080/",
          "height": 34
        },
        "outputId": "2c474066-1a5d-4b6d-e54a-c6e8d10c4e10"
      },
      "source": [
        "# Merge all the dummified categorical columns\n",
        "\n",
        "X_encoded = X.drop(cat_cols, axis=1)\n",
        "X_encoded = pd.concat([X_encoded, encoded_cols],1)\n",
        "\n",
        "X_encoded.shape"
      ],
      "execution_count": 30,
      "outputs": [
        {
          "output_type": "execute_result",
          "data": {
            "text/plain": [
              "(4413, 42)"
            ]
          },
          "metadata": {
            "tags": []
          },
          "execution_count": 30
        }
      ]
    },
    {
      "cell_type": "code",
      "metadata": {
        "id": "BDVjdQXhodLC",
        "colab_type": "code",
        "colab": {
          "base_uri": "https://localhost:8080/",
          "height": 232
        },
        "outputId": "cd1ed390-de4d-438d-dd19-514ffbb57386"
      },
      "source": [
        "X_encoded.head()"
      ],
      "execution_count": 31,
      "outputs": [
        {
          "output_type": "execute_result",
          "data": {
            "text/html": [
              "<div>\n",
              "<style scoped>\n",
              "    .dataframe tbody tr th:only-of-type {\n",
              "        vertical-align: middle;\n",
              "    }\n",
              "\n",
              "    .dataframe tbody tr th {\n",
              "        vertical-align: top;\n",
              "    }\n",
              "\n",
              "    .dataframe thead th {\n",
              "        text-align: right;\n",
              "    }\n",
              "</style>\n",
              "<table border=\"1\" class=\"dataframe\">\n",
              "  <thead>\n",
              "    <tr style=\"text-align: right;\">\n",
              "      <th></th>\n",
              "      <th>age</th>\n",
              "      <th>balance</th>\n",
              "      <th>day</th>\n",
              "      <th>duration</th>\n",
              "      <th>campaign</th>\n",
              "      <th>pdays</th>\n",
              "      <th>previous</th>\n",
              "      <th>job_blue-collar</th>\n",
              "      <th>job_entrepreneur</th>\n",
              "      <th>job_housemaid</th>\n",
              "      <th>job_management</th>\n",
              "      <th>job_retired</th>\n",
              "      <th>job_self-employed</th>\n",
              "      <th>job_services</th>\n",
              "      <th>job_student</th>\n",
              "      <th>job_technician</th>\n",
              "      <th>job_unemployed</th>\n",
              "      <th>job_unknown</th>\n",
              "      <th>marital_married</th>\n",
              "      <th>marital_single</th>\n",
              "      <th>education_secondary</th>\n",
              "      <th>education_tertiary</th>\n",
              "      <th>education_unknown</th>\n",
              "      <th>default_yes</th>\n",
              "      <th>housing_yes</th>\n",
              "      <th>loan_yes</th>\n",
              "      <th>contact_telephone</th>\n",
              "      <th>contact_unknown</th>\n",
              "      <th>month_aug</th>\n",
              "      <th>month_dec</th>\n",
              "      <th>month_feb</th>\n",
              "      <th>month_jan</th>\n",
              "      <th>month_jul</th>\n",
              "      <th>month_jun</th>\n",
              "      <th>month_mar</th>\n",
              "      <th>month_may</th>\n",
              "      <th>month_nov</th>\n",
              "      <th>month_oct</th>\n",
              "      <th>month_sep</th>\n",
              "      <th>poutcome_other</th>\n",
              "      <th>poutcome_success</th>\n",
              "      <th>poutcome_unknown</th>\n",
              "    </tr>\n",
              "  </thead>\n",
              "  <tbody>\n",
              "    <tr>\n",
              "      <th>0</th>\n",
              "      <td>30</td>\n",
              "      <td>1787</td>\n",
              "      <td>19</td>\n",
              "      <td>79</td>\n",
              "      <td>1</td>\n",
              "      <td>-1</td>\n",
              "      <td>0</td>\n",
              "      <td>0</td>\n",
              "      <td>0</td>\n",
              "      <td>0</td>\n",
              "      <td>0</td>\n",
              "      <td>0</td>\n",
              "      <td>0</td>\n",
              "      <td>0</td>\n",
              "      <td>0</td>\n",
              "      <td>0</td>\n",
              "      <td>1</td>\n",
              "      <td>0</td>\n",
              "      <td>1</td>\n",
              "      <td>0</td>\n",
              "      <td>0</td>\n",
              "      <td>0</td>\n",
              "      <td>0</td>\n",
              "      <td>0</td>\n",
              "      <td>0</td>\n",
              "      <td>0</td>\n",
              "      <td>0</td>\n",
              "      <td>0</td>\n",
              "      <td>0</td>\n",
              "      <td>0</td>\n",
              "      <td>0</td>\n",
              "      <td>0</td>\n",
              "      <td>0</td>\n",
              "      <td>0</td>\n",
              "      <td>0</td>\n",
              "      <td>0</td>\n",
              "      <td>0</td>\n",
              "      <td>1</td>\n",
              "      <td>0</td>\n",
              "      <td>0</td>\n",
              "      <td>0</td>\n",
              "      <td>1</td>\n",
              "    </tr>\n",
              "    <tr>\n",
              "      <th>1</th>\n",
              "      <td>33</td>\n",
              "      <td>4789</td>\n",
              "      <td>11</td>\n",
              "      <td>220</td>\n",
              "      <td>1</td>\n",
              "      <td>339</td>\n",
              "      <td>4</td>\n",
              "      <td>0</td>\n",
              "      <td>0</td>\n",
              "      <td>0</td>\n",
              "      <td>0</td>\n",
              "      <td>0</td>\n",
              "      <td>0</td>\n",
              "      <td>1</td>\n",
              "      <td>0</td>\n",
              "      <td>0</td>\n",
              "      <td>0</td>\n",
              "      <td>0</td>\n",
              "      <td>1</td>\n",
              "      <td>0</td>\n",
              "      <td>1</td>\n",
              "      <td>0</td>\n",
              "      <td>0</td>\n",
              "      <td>0</td>\n",
              "      <td>1</td>\n",
              "      <td>1</td>\n",
              "      <td>0</td>\n",
              "      <td>0</td>\n",
              "      <td>0</td>\n",
              "      <td>0</td>\n",
              "      <td>0</td>\n",
              "      <td>0</td>\n",
              "      <td>0</td>\n",
              "      <td>0</td>\n",
              "      <td>0</td>\n",
              "      <td>1</td>\n",
              "      <td>0</td>\n",
              "      <td>0</td>\n",
              "      <td>0</td>\n",
              "      <td>0</td>\n",
              "      <td>0</td>\n",
              "      <td>0</td>\n",
              "    </tr>\n",
              "    <tr>\n",
              "      <th>2</th>\n",
              "      <td>35</td>\n",
              "      <td>1350</td>\n",
              "      <td>16</td>\n",
              "      <td>185</td>\n",
              "      <td>1</td>\n",
              "      <td>330</td>\n",
              "      <td>1</td>\n",
              "      <td>0</td>\n",
              "      <td>0</td>\n",
              "      <td>0</td>\n",
              "      <td>1</td>\n",
              "      <td>0</td>\n",
              "      <td>0</td>\n",
              "      <td>0</td>\n",
              "      <td>0</td>\n",
              "      <td>0</td>\n",
              "      <td>0</td>\n",
              "      <td>0</td>\n",
              "      <td>0</td>\n",
              "      <td>1</td>\n",
              "      <td>0</td>\n",
              "      <td>1</td>\n",
              "      <td>0</td>\n",
              "      <td>0</td>\n",
              "      <td>1</td>\n",
              "      <td>0</td>\n",
              "      <td>0</td>\n",
              "      <td>0</td>\n",
              "      <td>0</td>\n",
              "      <td>0</td>\n",
              "      <td>0</td>\n",
              "      <td>0</td>\n",
              "      <td>0</td>\n",
              "      <td>0</td>\n",
              "      <td>0</td>\n",
              "      <td>0</td>\n",
              "      <td>0</td>\n",
              "      <td>0</td>\n",
              "      <td>0</td>\n",
              "      <td>0</td>\n",
              "      <td>0</td>\n",
              "      <td>0</td>\n",
              "    </tr>\n",
              "    <tr>\n",
              "      <th>3</th>\n",
              "      <td>30</td>\n",
              "      <td>1476</td>\n",
              "      <td>3</td>\n",
              "      <td>199</td>\n",
              "      <td>4</td>\n",
              "      <td>-1</td>\n",
              "      <td>0</td>\n",
              "      <td>0</td>\n",
              "      <td>0</td>\n",
              "      <td>0</td>\n",
              "      <td>1</td>\n",
              "      <td>0</td>\n",
              "      <td>0</td>\n",
              "      <td>0</td>\n",
              "      <td>0</td>\n",
              "      <td>0</td>\n",
              "      <td>0</td>\n",
              "      <td>0</td>\n",
              "      <td>1</td>\n",
              "      <td>0</td>\n",
              "      <td>0</td>\n",
              "      <td>1</td>\n",
              "      <td>0</td>\n",
              "      <td>0</td>\n",
              "      <td>1</td>\n",
              "      <td>1</td>\n",
              "      <td>0</td>\n",
              "      <td>1</td>\n",
              "      <td>0</td>\n",
              "      <td>0</td>\n",
              "      <td>0</td>\n",
              "      <td>0</td>\n",
              "      <td>0</td>\n",
              "      <td>1</td>\n",
              "      <td>0</td>\n",
              "      <td>0</td>\n",
              "      <td>0</td>\n",
              "      <td>0</td>\n",
              "      <td>0</td>\n",
              "      <td>0</td>\n",
              "      <td>0</td>\n",
              "      <td>1</td>\n",
              "    </tr>\n",
              "    <tr>\n",
              "      <th>4</th>\n",
              "      <td>59</td>\n",
              "      <td>0</td>\n",
              "      <td>5</td>\n",
              "      <td>226</td>\n",
              "      <td>1</td>\n",
              "      <td>-1</td>\n",
              "      <td>0</td>\n",
              "      <td>1</td>\n",
              "      <td>0</td>\n",
              "      <td>0</td>\n",
              "      <td>0</td>\n",
              "      <td>0</td>\n",
              "      <td>0</td>\n",
              "      <td>0</td>\n",
              "      <td>0</td>\n",
              "      <td>0</td>\n",
              "      <td>0</td>\n",
              "      <td>0</td>\n",
              "      <td>1</td>\n",
              "      <td>0</td>\n",
              "      <td>1</td>\n",
              "      <td>0</td>\n",
              "      <td>0</td>\n",
              "      <td>0</td>\n",
              "      <td>1</td>\n",
              "      <td>0</td>\n",
              "      <td>0</td>\n",
              "      <td>1</td>\n",
              "      <td>0</td>\n",
              "      <td>0</td>\n",
              "      <td>0</td>\n",
              "      <td>0</td>\n",
              "      <td>0</td>\n",
              "      <td>0</td>\n",
              "      <td>0</td>\n",
              "      <td>1</td>\n",
              "      <td>0</td>\n",
              "      <td>0</td>\n",
              "      <td>0</td>\n",
              "      <td>0</td>\n",
              "      <td>0</td>\n",
              "      <td>1</td>\n",
              "    </tr>\n",
              "  </tbody>\n",
              "</table>\n",
              "</div>"
            ],
            "text/plain": [
              "   age  balance  day  duration  campaign  pdays  previous  job_blue-collar  \\\n",
              "0   30     1787   19        79         1     -1         0                0   \n",
              "1   33     4789   11       220         1    339         4                0   \n",
              "2   35     1350   16       185         1    330         1                0   \n",
              "3   30     1476    3       199         4     -1         0                0   \n",
              "4   59        0    5       226         1     -1         0                1   \n",
              "\n",
              "   job_entrepreneur  job_housemaid  job_management  job_retired  \\\n",
              "0                 0              0               0            0   \n",
              "1                 0              0               0            0   \n",
              "2                 0              0               1            0   \n",
              "3                 0              0               1            0   \n",
              "4                 0              0               0            0   \n",
              "\n",
              "   job_self-employed  job_services  job_student  job_technician  \\\n",
              "0                  0             0            0               0   \n",
              "1                  0             1            0               0   \n",
              "2                  0             0            0               0   \n",
              "3                  0             0            0               0   \n",
              "4                  0             0            0               0   \n",
              "\n",
              "   job_unemployed  job_unknown  marital_married  marital_single  \\\n",
              "0               1            0                1               0   \n",
              "1               0            0                1               0   \n",
              "2               0            0                0               1   \n",
              "3               0            0                1               0   \n",
              "4               0            0                1               0   \n",
              "\n",
              "   education_secondary  education_tertiary  education_unknown  default_yes  \\\n",
              "0                    0                   0                  0            0   \n",
              "1                    1                   0                  0            0   \n",
              "2                    0                   1                  0            0   \n",
              "3                    0                   1                  0            0   \n",
              "4                    1                   0                  0            0   \n",
              "\n",
              "   housing_yes  loan_yes  contact_telephone  contact_unknown  month_aug  \\\n",
              "0            0         0                  0                0          0   \n",
              "1            1         1                  0                0          0   \n",
              "2            1         0                  0                0          0   \n",
              "3            1         1                  0                1          0   \n",
              "4            1         0                  0                1          0   \n",
              "\n",
              "   month_dec  month_feb  month_jan  month_jul  month_jun  month_mar  \\\n",
              "0          0          0          0          0          0          0   \n",
              "1          0          0          0          0          0          0   \n",
              "2          0          0          0          0          0          0   \n",
              "3          0          0          0          0          1          0   \n",
              "4          0          0          0          0          0          0   \n",
              "\n",
              "   month_may  month_nov  month_oct  month_sep  poutcome_other  \\\n",
              "0          0          0          1          0               0   \n",
              "1          1          0          0          0               0   \n",
              "2          0          0          0          0               0   \n",
              "3          0          0          0          0               0   \n",
              "4          1          0          0          0               0   \n",
              "\n",
              "   poutcome_success  poutcome_unknown  \n",
              "0                 0                 1  \n",
              "1                 0                 0  \n",
              "2                 0                 0  \n",
              "3                 0                 1  \n",
              "4                 0                 1  "
            ]
          },
          "metadata": {
            "tags": []
          },
          "execution_count": 31
        }
      ]
    },
    {
      "cell_type": "markdown",
      "metadata": {
        "id": "mD1tPaG1k2Dt",
        "colab_type": "text"
      },
      "source": [
        "#### Checking the shape of input and output variables"
      ]
    },
    {
      "cell_type": "code",
      "metadata": {
        "id": "orAOJN6Bk2Dt",
        "colab_type": "code",
        "colab": {
          "base_uri": "https://localhost:8080/",
          "height": 34
        },
        "outputId": "c86acdf0-01a9-42f2-fbbc-db00dede16ea"
      },
      "source": [
        "y.shape"
      ],
      "execution_count": 32,
      "outputs": [
        {
          "output_type": "execute_result",
          "data": {
            "text/plain": [
              "(4413,)"
            ]
          },
          "metadata": {
            "tags": []
          },
          "execution_count": 32
        }
      ]
    },
    {
      "cell_type": "code",
      "metadata": {
        "id": "tXb82Jb7k2Dv",
        "colab_type": "code",
        "colab": {
          "base_uri": "https://localhost:8080/",
          "height": 34
        },
        "outputId": "f3b22a80-4103-4bd5-f701-6de9225e70c0"
      },
      "source": [
        "X_encoded.shape"
      ],
      "execution_count": 33,
      "outputs": [
        {
          "output_type": "execute_result",
          "data": {
            "text/plain": [
              "(4413, 42)"
            ]
          },
          "metadata": {
            "tags": []
          },
          "execution_count": 33
        }
      ]
    },
    {
      "cell_type": "markdown",
      "metadata": {
        "id": "Jq3PNVqRk2Dx",
        "colab_type": "text"
      },
      "source": [
        "### Label Encoding"
      ]
    },
    {
      "cell_type": "code",
      "metadata": {
        "id": "0OYIhTWCk2Dy",
        "colab_type": "code",
        "colab": {}
      },
      "source": [
        "# Label Encoding the y variable\n",
        "\n",
        "from sklearn.preprocessing import LabelEncoder\n",
        "le=LabelEncoder()"
      ],
      "execution_count": 34,
      "outputs": []
    },
    {
      "cell_type": "code",
      "metadata": {
        "id": "PU2z1meFk2D7",
        "colab_type": "code",
        "colab": {}
      },
      "source": [
        "y=le.fit_transform(y)"
      ],
      "execution_count": 35,
      "outputs": []
    },
    {
      "cell_type": "code",
      "metadata": {
        "id": "SYg3rybdk2D9",
        "colab_type": "code",
        "colab": {
          "base_uri": "https://localhost:8080/",
          "height": 136
        },
        "outputId": "f66c120c-234b-4b7d-cf56-2f86ef4b268a"
      },
      "source": [
        "pd.crosstab(y,'Count') # This shows that the dataset is imbalanced and we need to perform SMOTE"
      ],
      "execution_count": 36,
      "outputs": [
        {
          "output_type": "execute_result",
          "data": {
            "text/html": [
              "<div>\n",
              "<style scoped>\n",
              "    .dataframe tbody tr th:only-of-type {\n",
              "        vertical-align: middle;\n",
              "    }\n",
              "\n",
              "    .dataframe tbody tr th {\n",
              "        vertical-align: top;\n",
              "    }\n",
              "\n",
              "    .dataframe thead th {\n",
              "        text-align: right;\n",
              "    }\n",
              "</style>\n",
              "<table border=\"1\" class=\"dataframe\">\n",
              "  <thead>\n",
              "    <tr style=\"text-align: right;\">\n",
              "      <th>col_0</th>\n",
              "      <th>Count</th>\n",
              "    </tr>\n",
              "    <tr>\n",
              "      <th>row_0</th>\n",
              "      <th></th>\n",
              "    </tr>\n",
              "  </thead>\n",
              "  <tbody>\n",
              "    <tr>\n",
              "      <th>0</th>\n",
              "      <td>3904</td>\n",
              "    </tr>\n",
              "    <tr>\n",
              "      <th>1</th>\n",
              "      <td>509</td>\n",
              "    </tr>\n",
              "  </tbody>\n",
              "</table>\n",
              "</div>"
            ],
            "text/plain": [
              "col_0  Count\n",
              "row_0       \n",
              "0       3904\n",
              "1        509"
            ]
          },
          "metadata": {
            "tags": []
          },
          "execution_count": 36
        }
      ]
    },
    {
      "cell_type": "markdown",
      "metadata": {
        "id": "UDSX4xzgk2EA",
        "colab_type": "text"
      },
      "source": [
        "## Handling imbalanced data using SMOTE"
      ]
    },
    {
      "cell_type": "markdown",
      "metadata": {
        "id": "JQ9y3fR3k2EE",
        "colab_type": "text"
      },
      "source": [
        "**Using SMOTE**\n",
        "- We'll do over-sampling thus increase the number of instances while balancing the dataset"
      ]
    },
    {
      "cell_type": "code",
      "metadata": {
        "colab_type": "code",
        "id": "BqVK90wZj5EQ",
        "colab": {
          "base_uri": "https://localhost:8080/",
          "height": 138
        },
        "outputId": "8489cc73-b540-4056-de7a-f0415a2800bb"
      },
      "source": [
        "from imblearn.over_sampling import SMOTE\n",
        "smote=SMOTE(ratio='minority')\n",
        "x_sm, y_sm = smote.fit_sample(X_encoded, y)"
      ],
      "execution_count": 38,
      "outputs": [
        {
          "output_type": "stream",
          "text": [
            "/usr/local/lib/python3.6/dist-packages/sklearn/externals/six.py:31: FutureWarning: The module is deprecated in version 0.21 and will be removed in version 0.23 since we've dropped support for Python 2.7. Please rely on the official version of six (https://pypi.org/project/six/).\n",
            "  \"(https://pypi.org/project/six/).\", FutureWarning)\n",
            "/usr/local/lib/python3.6/dist-packages/sklearn/utils/deprecation.py:144: FutureWarning: The sklearn.neighbors.base module is  deprecated in version 0.22 and will be removed in version 0.24. The corresponding classes / functions should instead be imported from sklearn.neighbors. Anything that cannot be imported from sklearn.neighbors is now part of the private API.\n",
            "  warnings.warn(message, FutureWarning)\n",
            "/usr/local/lib/python3.6/dist-packages/sklearn/utils/deprecation.py:87: FutureWarning: Function safe_indexing is deprecated; safe_indexing is deprecated in version 0.22 and will be removed in version 0.24.\n",
            "  warnings.warn(msg, category=FutureWarning)\n"
          ],
          "name": "stderr"
        }
      ]
    },
    {
      "cell_type": "code",
      "metadata": {
        "id": "aO-hg515k2EG",
        "colab_type": "code",
        "colab": {
          "base_uri": "https://localhost:8080/",
          "height": 50
        },
        "outputId": "a347ee4e-66b1-464a-94f0-d73af96332d0"
      },
      "source": [
        "print(x_sm.shape)\n",
        "print(y_sm.shape)"
      ],
      "execution_count": 39,
      "outputs": [
        {
          "output_type": "stream",
          "text": [
            "(7808, 42)\n",
            "(7808,)\n"
          ],
          "name": "stdout"
        }
      ]
    },
    {
      "cell_type": "code",
      "metadata": {
        "colab_type": "code",
        "id": "VGzRdcXUPcKZ",
        "colab": {
          "base_uri": "https://localhost:8080/",
          "height": 84
        },
        "outputId": "f0524e55-cbb4-4690-f36f-f43aa3f4a704"
      },
      "source": [
        "# Splitting the data into train and test set and checking their shape\n",
        "\n",
        "from sklearn.model_selection import train_test_split\n",
        "\n",
        "x_train,x_test,y_train,y_test=train_test_split(x_sm,y_sm,test_size=0.30,random_state=12)\n",
        "\n",
        "print('X_train', x_train.shape)\n",
        "print('y_train', y_train.shape)\n",
        "print('X_test', x_test.shape)\n",
        "print('y_test', y_test.shape)"
      ],
      "execution_count": 40,
      "outputs": [
        {
          "output_type": "stream",
          "text": [
            "X_train (5465, 42)\n",
            "y_train (5465,)\n",
            "X_test (2343, 42)\n",
            "y_test (2343,)\n"
          ],
          "name": "stdout"
        }
      ]
    },
    {
      "cell_type": "code",
      "metadata": {
        "id": "53GS6DeWk2EL",
        "colab_type": "code",
        "colab": {
          "base_uri": "https://localhost:8080/",
          "height": 67
        },
        "outputId": "88ade3d8-7cf8-4872-b7f7-183198658a97"
      },
      "source": [
        "pd.Series(y_sm).value_counts() # After SMOTE the classes are balanced"
      ],
      "execution_count": 41,
      "outputs": [
        {
          "output_type": "execute_result",
          "data": {
            "text/plain": [
              "1    3904\n",
              "0    3904\n",
              "dtype: int64"
            ]
          },
          "metadata": {
            "tags": []
          },
          "execution_count": 41
        }
      ]
    },
    {
      "cell_type": "code",
      "metadata": {
        "id": "7pOt3GTck2EN",
        "colab_type": "code",
        "colab": {
          "base_uri": "https://localhost:8080/",
          "height": 67
        },
        "outputId": "875e36e7-662e-49b9-d72a-b769637b6e19"
      },
      "source": [
        "pd.Series(y_test).value_counts()"
      ],
      "execution_count": 42,
      "outputs": [
        {
          "output_type": "execute_result",
          "data": {
            "text/plain": [
              "1    1198\n",
              "0    1145\n",
              "dtype: int64"
            ]
          },
          "metadata": {
            "tags": []
          },
          "execution_count": 42
        }
      ]
    },
    {
      "cell_type": "markdown",
      "metadata": {
        "id": "fjPZKkowofd_",
        "colab_type": "text"
      },
      "source": [
        "## LightGBM Model"
      ]
    },
    {
      "cell_type": "code",
      "metadata": {
        "id": "dIzJhplZk2ER",
        "colab_type": "code",
        "colab": {}
      },
      "source": [
        "import lightgbm as lgb"
      ],
      "execution_count": 43,
      "outputs": []
    },
    {
      "cell_type": "code",
      "metadata": {
        "id": "0MD_qeO3k2EU",
        "colab_type": "code",
        "colab": {}
      },
      "source": [
        "train_data = lgb.Dataset(x_train, label=y_train)\n",
        "\n",
        "params = {}\n",
        "params['learning_rate'] = 0.003                      # Learning rate \n",
        "params['boosting_type'] = 'gbdt'                     # Gradient Boosting Decision Tree\n",
        "params['objective'] = 'binary'                       # Classify into binary classes\n",
        "params['metric'] = 'binary_logloss'                  # metric is binary logloss\n",
        "params['sub_feature'] = 0.5                          \n",
        "params['num_leaves'] = 15                            # number of leaves in a full tree\n",
        "params['min_data'] = 50                              # minimum number of data in the last leaf \n",
        "params['max_depth'] = 10                             # depth of tree\n",
        "\n",
        "\n",
        "clf = lgb.train(params, train_data, 200)             # Train the model for 200 iteration"
      ],
      "execution_count": 45,
      "outputs": []
    },
    {
      "cell_type": "markdown",
      "metadata": {
        "id": "oi5SDfBak2EW",
        "colab_type": "text"
      },
      "source": [
        "### Prediction  of train data"
      ]
    },
    {
      "cell_type": "code",
      "metadata": {
        "id": "wpM315ltk2EX",
        "colab_type": "code",
        "colab": {}
      },
      "source": [
        "train_pred = clf.predict(x_train)"
      ],
      "execution_count": 46,
      "outputs": []
    },
    {
      "cell_type": "code",
      "metadata": {
        "id": "BMDd3ldAk2Ea",
        "colab_type": "code",
        "colab": {}
      },
      "source": [
        "#convert into binary values\n",
        "for i in range(0,5465):         # 6246 is the number of records\n",
        "    if train_pred[i]>=.5:       # setting threshold to .5\n",
        "       train_pred[i]=1\n",
        "    else:  \n",
        "       train_pred[i]=0"
      ],
      "execution_count": 47,
      "outputs": []
    },
    {
      "cell_type": "code",
      "metadata": {
        "id": "W1ExF1mqA3Bq",
        "colab_type": "code",
        "colab": {
          "base_uri": "https://localhost:8080/",
          "height": 34
        },
        "outputId": "0fe58be4-415f-40a4-9d1e-36b15f50d584"
      },
      "source": [
        "train_pred"
      ],
      "execution_count": 48,
      "outputs": [
        {
          "output_type": "execute_result",
          "data": {
            "text/plain": [
              "array([1., 0., 1., ..., 0., 1., 1.])"
            ]
          },
          "metadata": {
            "tags": []
          },
          "execution_count": 48
        }
      ]
    },
    {
      "cell_type": "markdown",
      "metadata": {
        "id": "R5MahaSGk2EY",
        "colab_type": "text"
      },
      "source": [
        "### Prediction on test data"
      ]
    },
    {
      "cell_type": "code",
      "metadata": {
        "id": "gfid7VEXk2EZ",
        "colab_type": "code",
        "colab": {}
      },
      "source": [
        "lightgbm_pred=clf.predict(x_test)"
      ],
      "execution_count": 49,
      "outputs": []
    },
    {
      "cell_type": "code",
      "metadata": {
        "id": "d3EsOFUpk2Eh",
        "colab_type": "code",
        "colab": {}
      },
      "source": [
        "y_pred=clf.predict(x_test)\n",
        "#convert into binary values\n",
        "for i in range(0,2343):\n",
        "    if y_pred[i]>=.5:       # setting threshold to .5\n",
        "       y_pred[i]=1\n",
        "    else:  \n",
        "       y_pred[i]=0"
      ],
      "execution_count": 50,
      "outputs": []
    },
    {
      "cell_type": "code",
      "metadata": {
        "id": "WD8uHKdDk2Ei",
        "colab_type": "code",
        "colab": {
          "base_uri": "https://localhost:8080/",
          "height": 34
        },
        "outputId": "ecfb996d-1041-46c5-b216-fcb299a2d978"
      },
      "source": [
        "y_pred"
      ],
      "execution_count": 51,
      "outputs": [
        {
          "output_type": "execute_result",
          "data": {
            "text/plain": [
              "array([0., 1., 0., ..., 1., 1., 0.])"
            ]
          },
          "metadata": {
            "tags": []
          },
          "execution_count": 51
        }
      ]
    },
    {
      "cell_type": "markdown",
      "metadata": {
        "id": "cKYz6ZyHk2Ec",
        "colab_type": "text"
      },
      "source": [
        "### Train performance"
      ]
    },
    {
      "cell_type": "code",
      "metadata": {
        "id": "SwHfUK0Yk2Ed",
        "colab_type": "code",
        "colab": {
          "base_uri": "https://localhost:8080/",
          "height": 34
        },
        "outputId": "789bc417-3115-4e80-f687-c741b3763d91"
      },
      "source": [
        "from sklearn.metrics import accuracy_score, classification_report, confusion_matrix\n",
        "\n",
        "print(accuracy_score(y_train, train_pred))            # Accuracy of the model"
      ],
      "execution_count": 52,
      "outputs": [
        {
          "output_type": "stream",
          "text": [
            "0.9147301006404391\n"
          ],
          "name": "stdout"
        }
      ]
    },
    {
      "cell_type": "code",
      "metadata": {
        "id": "ImAf1usnB9oF",
        "colab_type": "code",
        "colab": {
          "base_uri": "https://localhost:8080/",
          "height": 50
        },
        "outputId": "86195f89-2703-44a7-d0a0-459cf886a699"
      },
      "source": [
        "print(confusion_matrix(y_train, train_pred))"
      ],
      "execution_count": 53,
      "outputs": [
        {
          "output_type": "stream",
          "text": [
            "[[2566  193]\n",
            " [ 273 2433]]\n"
          ],
          "name": "stdout"
        }
      ]
    },
    {
      "cell_type": "code",
      "metadata": {
        "id": "ucluJwIak2Ee",
        "colab_type": "code",
        "colab": {
          "base_uri": "https://localhost:8080/",
          "height": 168
        },
        "outputId": "afb3e514-823e-47e2-856c-31a7d0cc6fb2"
      },
      "source": [
        "print(classification_report(y_train, train_pred))     "
      ],
      "execution_count": 54,
      "outputs": [
        {
          "output_type": "stream",
          "text": [
            "              precision    recall  f1-score   support\n",
            "\n",
            "           0       0.90      0.93      0.92      2759\n",
            "           1       0.93      0.90      0.91      2706\n",
            "\n",
            "    accuracy                           0.91      5465\n",
            "   macro avg       0.92      0.91      0.91      5465\n",
            "weighted avg       0.92      0.91      0.91      5465\n",
            "\n"
          ],
          "name": "stdout"
        }
      ]
    },
    {
      "cell_type": "markdown",
      "metadata": {
        "id": "7kYBbvtIk2Eg",
        "colab_type": "text"
      },
      "source": [
        "### Test performance"
      ]
    },
    {
      "cell_type": "code",
      "metadata": {
        "id": "H3x3a6bok2Em",
        "colab_type": "code",
        "colab": {
          "base_uri": "https://localhost:8080/",
          "height": 286
        },
        "outputId": "95e85f7b-8d14-4406-9b46-ffc7c2121bf1"
      },
      "source": [
        "# Checking all the metrics for the Test data\n",
        "\n",
        "print(confusion_matrix(y_test, y_pred))                                # Print confusion matrix\n",
        "\n",
        "accuracy=accuracy_score(y_pred,y_test)\n",
        "\n",
        "print('\\n accuracy_score \\n',accuracy_score(y_test,y_pred))\n",
        "\n",
        "print('\\n classification_report \\n',classification_report(y_test,y_pred))"
      ],
      "execution_count": 55,
      "outputs": [
        {
          "output_type": "stream",
          "text": [
            "[[1062   83]\n",
            " [ 138 1060]]\n",
            "\n",
            " accuracy_score \n",
            " 0.9056764831412719\n",
            "\n",
            " classification_report \n",
            "               precision    recall  f1-score   support\n",
            "\n",
            "           0       0.89      0.93      0.91      1145\n",
            "           1       0.93      0.88      0.91      1198\n",
            "\n",
            "    accuracy                           0.91      2343\n",
            "   macro avg       0.91      0.91      0.91      2343\n",
            "weighted avg       0.91      0.91      0.91      2343\n",
            "\n"
          ],
          "name": "stdout"
        }
      ]
    },
    {
      "cell_type": "markdown",
      "metadata": {
        "id": "k3j_7fpt6Tyu",
        "colab_type": "text"
      },
      "source": [
        "### Recall Score"
      ]
    },
    {
      "cell_type": "code",
      "metadata": {
        "id": "dilYsMtqk2En",
        "colab_type": "code",
        "colab": {
          "base_uri": "https://localhost:8080/",
          "height": 34
        },
        "outputId": "934df643-6458-4732-aae5-737c24ae289e"
      },
      "source": [
        "from sklearn.metrics import recall_score\n",
        "recall_score(y_test, y_pred)"
      ],
      "execution_count": 56,
      "outputs": [
        {
          "output_type": "execute_result",
          "data": {
            "text/plain": [
              "0.8848080133555927"
            ]
          },
          "metadata": {
            "tags": []
          },
          "execution_count": 56
        }
      ]
    },
    {
      "cell_type": "markdown",
      "metadata": {
        "id": "m6IrJmeak2Ep",
        "colab_type": "text"
      },
      "source": [
        "# Prediction for upcoming four days"
      ]
    },
    {
      "cell_type": "markdown",
      "metadata": {
        "id": "llCU0I31k2Eq",
        "colab_type": "text"
      },
      "source": [
        "## Day 1 prediction"
      ]
    },
    {
      "cell_type": "markdown",
      "metadata": {
        "id": "4cyMr-G6k2Eq",
        "colab_type": "text"
      },
      "source": [
        "### Import Day 1 data"
      ]
    },
    {
      "cell_type": "code",
      "metadata": {
        "id": "iLuUA37tk2Es",
        "colab_type": "code",
        "colab": {
          "base_uri": "https://localhost:8080/",
          "height": 34
        },
        "outputId": "00484b67-cb8b-4790-a549-246dcffb55e6"
      },
      "source": [
        "day1=pd.read_csv('Day1_input.xls')\n",
        "day1.shape"
      ],
      "execution_count": 59,
      "outputs": [
        {
          "output_type": "execute_result",
          "data": {
            "text/plain": [
              "(27, 16)"
            ]
          },
          "metadata": {
            "tags": []
          },
          "execution_count": 59
        }
      ]
    },
    {
      "cell_type": "code",
      "metadata": {
        "id": "zcsKrcehk2Eu",
        "colab_type": "code",
        "colab": {
          "base_uri": "https://localhost:8080/",
          "height": 195
        },
        "outputId": "1a36a788-41c3-40f4-8418-255218452b13"
      },
      "source": [
        "day1.tail()  "
      ],
      "execution_count": 60,
      "outputs": [
        {
          "output_type": "execute_result",
          "data": {
            "text/html": [
              "<div>\n",
              "<style scoped>\n",
              "    .dataframe tbody tr th:only-of-type {\n",
              "        vertical-align: middle;\n",
              "    }\n",
              "\n",
              "    .dataframe tbody tr th {\n",
              "        vertical-align: top;\n",
              "    }\n",
              "\n",
              "    .dataframe thead th {\n",
              "        text-align: right;\n",
              "    }\n",
              "</style>\n",
              "<table border=\"1\" class=\"dataframe\">\n",
              "  <thead>\n",
              "    <tr style=\"text-align: right;\">\n",
              "      <th></th>\n",
              "      <th>age</th>\n",
              "      <th>job</th>\n",
              "      <th>marital</th>\n",
              "      <th>education</th>\n",
              "      <th>default</th>\n",
              "      <th>balance</th>\n",
              "      <th>housing</th>\n",
              "      <th>loan</th>\n",
              "      <th>contact</th>\n",
              "      <th>day</th>\n",
              "      <th>month</th>\n",
              "      <th>duration</th>\n",
              "      <th>campaign</th>\n",
              "      <th>pdays</th>\n",
              "      <th>previous</th>\n",
              "      <th>poutcome</th>\n",
              "    </tr>\n",
              "  </thead>\n",
              "  <tbody>\n",
              "    <tr>\n",
              "      <th>22</th>\n",
              "      <td>60</td>\n",
              "      <td>admin.</td>\n",
              "      <td>married</td>\n",
              "      <td>unknown</td>\n",
              "      <td>no</td>\n",
              "      <td>1088</td>\n",
              "      <td>yes</td>\n",
              "      <td>no</td>\n",
              "      <td>cellular</td>\n",
              "      <td>26</td>\n",
              "      <td>may</td>\n",
              "      <td>149</td>\n",
              "      <td>1</td>\n",
              "      <td>-1</td>\n",
              "      <td>0</td>\n",
              "      <td>unknown</td>\n",
              "    </tr>\n",
              "    <tr>\n",
              "      <th>23</th>\n",
              "      <td>37</td>\n",
              "      <td>technician</td>\n",
              "      <td>single</td>\n",
              "      <td>secondary</td>\n",
              "      <td>no</td>\n",
              "      <td>228</td>\n",
              "      <td>yes</td>\n",
              "      <td>no</td>\n",
              "      <td>cellular</td>\n",
              "      <td>20</td>\n",
              "      <td>aug</td>\n",
              "      <td>1740</td>\n",
              "      <td>2</td>\n",
              "      <td>-1</td>\n",
              "      <td>0</td>\n",
              "      <td>unknown</td>\n",
              "    </tr>\n",
              "    <tr>\n",
              "      <th>24</th>\n",
              "      <td>20</td>\n",
              "      <td>student</td>\n",
              "      <td>single</td>\n",
              "      <td>secondary</td>\n",
              "      <td>no</td>\n",
              "      <td>502</td>\n",
              "      <td>no</td>\n",
              "      <td>no</td>\n",
              "      <td>cellular</td>\n",
              "      <td>30</td>\n",
              "      <td>apr</td>\n",
              "      <td>261</td>\n",
              "      <td>1</td>\n",
              "      <td>-1</td>\n",
              "      <td>0</td>\n",
              "      <td>unknown</td>\n",
              "    </tr>\n",
              "    <tr>\n",
              "      <th>25</th>\n",
              "      <td>68</td>\n",
              "      <td>retired</td>\n",
              "      <td>divorced</td>\n",
              "      <td>secondary</td>\n",
              "      <td>no</td>\n",
              "      <td>4189</td>\n",
              "      <td>no</td>\n",
              "      <td>no</td>\n",
              "      <td>telephone</td>\n",
              "      <td>14</td>\n",
              "      <td>jul</td>\n",
              "      <td>897</td>\n",
              "      <td>2</td>\n",
              "      <td>-1</td>\n",
              "      <td>0</td>\n",
              "      <td>unknown</td>\n",
              "    </tr>\n",
              "    <tr>\n",
              "      <th>26</th>\n",
              "      <td>32</td>\n",
              "      <td>management</td>\n",
              "      <td>single</td>\n",
              "      <td>tertiary</td>\n",
              "      <td>no</td>\n",
              "      <td>2536</td>\n",
              "      <td>yes</td>\n",
              "      <td>no</td>\n",
              "      <td>cellular</td>\n",
              "      <td>26</td>\n",
              "      <td>aug</td>\n",
              "      <td>958</td>\n",
              "      <td>6</td>\n",
              "      <td>-1</td>\n",
              "      <td>0</td>\n",
              "      <td>unknown</td>\n",
              "    </tr>\n",
              "  </tbody>\n",
              "</table>\n",
              "</div>"
            ],
            "text/plain": [
              "    age         job   marital  education default  balance housing loan  \\\n",
              "22   60      admin.   married    unknown      no     1088     yes   no   \n",
              "23   37  technician    single  secondary      no      228     yes   no   \n",
              "24   20     student    single  secondary      no      502      no   no   \n",
              "25   68     retired  divorced  secondary      no     4189      no   no   \n",
              "26   32  management    single   tertiary      no     2536     yes   no   \n",
              "\n",
              "      contact  day month  duration  campaign  pdays  previous poutcome  \n",
              "22   cellular   26   may       149         1     -1         0  unknown  \n",
              "23   cellular   20   aug      1740         2     -1         0  unknown  \n",
              "24   cellular   30   apr       261         1     -1         0  unknown  \n",
              "25  telephone   14   jul       897         2     -1         0  unknown  \n",
              "26   cellular   26   aug       958         6     -1         0  unknown  "
            ]
          },
          "metadata": {
            "tags": []
          },
          "execution_count": 60
        }
      ]
    },
    {
      "cell_type": "markdown",
      "metadata": {
        "id": "LlHu9XvIylHU",
        "colab_type": "text"
      },
      "source": [
        "### Feature Engineering - Day 1"
      ]
    },
    {
      "cell_type": "code",
      "metadata": {
        "id": "6zlK0aTpK_Bg",
        "colab_type": "code",
        "colab": {}
      },
      "source": [
        "cat_cols = ['job', 'marital', 'education', 'default', 'housing', 'loan', 'contact', 'month', 'poutcome']"
      ],
      "execution_count": 61,
      "outputs": []
    },
    {
      "cell_type": "code",
      "metadata": {
        "id": "Un2aNzubM-SM",
        "colab_type": "code",
        "colab": {
          "base_uri": "https://localhost:8080/",
          "height": 195
        },
        "outputId": "b926b386-4e61-48ce-99f6-33775bf3311b"
      },
      "source": [
        "'''since, in the day1 data the features do not all the values as in the df data; \n",
        "to get all 42 features after one-hot-coding we will merge the day1 data with the df data'''\n",
        "\n",
        "df_day1 = pd.concat([X, day1], axis=0)\n",
        "df_day1.tail()"
      ],
      "execution_count": 62,
      "outputs": [
        {
          "output_type": "execute_result",
          "data": {
            "text/html": [
              "<div>\n",
              "<style scoped>\n",
              "    .dataframe tbody tr th:only-of-type {\n",
              "        vertical-align: middle;\n",
              "    }\n",
              "\n",
              "    .dataframe tbody tr th {\n",
              "        vertical-align: top;\n",
              "    }\n",
              "\n",
              "    .dataframe thead th {\n",
              "        text-align: right;\n",
              "    }\n",
              "</style>\n",
              "<table border=\"1\" class=\"dataframe\">\n",
              "  <thead>\n",
              "    <tr style=\"text-align: right;\">\n",
              "      <th></th>\n",
              "      <th>age</th>\n",
              "      <th>job</th>\n",
              "      <th>marital</th>\n",
              "      <th>education</th>\n",
              "      <th>default</th>\n",
              "      <th>balance</th>\n",
              "      <th>housing</th>\n",
              "      <th>loan</th>\n",
              "      <th>contact</th>\n",
              "      <th>day</th>\n",
              "      <th>month</th>\n",
              "      <th>duration</th>\n",
              "      <th>campaign</th>\n",
              "      <th>pdays</th>\n",
              "      <th>previous</th>\n",
              "      <th>poutcome</th>\n",
              "    </tr>\n",
              "  </thead>\n",
              "  <tbody>\n",
              "    <tr>\n",
              "      <th>22</th>\n",
              "      <td>60</td>\n",
              "      <td>admin.</td>\n",
              "      <td>married</td>\n",
              "      <td>unknown</td>\n",
              "      <td>no</td>\n",
              "      <td>1088</td>\n",
              "      <td>yes</td>\n",
              "      <td>no</td>\n",
              "      <td>cellular</td>\n",
              "      <td>26</td>\n",
              "      <td>may</td>\n",
              "      <td>149</td>\n",
              "      <td>1</td>\n",
              "      <td>-1</td>\n",
              "      <td>0</td>\n",
              "      <td>unknown</td>\n",
              "    </tr>\n",
              "    <tr>\n",
              "      <th>23</th>\n",
              "      <td>37</td>\n",
              "      <td>technician</td>\n",
              "      <td>single</td>\n",
              "      <td>secondary</td>\n",
              "      <td>no</td>\n",
              "      <td>228</td>\n",
              "      <td>yes</td>\n",
              "      <td>no</td>\n",
              "      <td>cellular</td>\n",
              "      <td>20</td>\n",
              "      <td>aug</td>\n",
              "      <td>1740</td>\n",
              "      <td>2</td>\n",
              "      <td>-1</td>\n",
              "      <td>0</td>\n",
              "      <td>unknown</td>\n",
              "    </tr>\n",
              "    <tr>\n",
              "      <th>24</th>\n",
              "      <td>20</td>\n",
              "      <td>student</td>\n",
              "      <td>single</td>\n",
              "      <td>secondary</td>\n",
              "      <td>no</td>\n",
              "      <td>502</td>\n",
              "      <td>no</td>\n",
              "      <td>no</td>\n",
              "      <td>cellular</td>\n",
              "      <td>30</td>\n",
              "      <td>apr</td>\n",
              "      <td>261</td>\n",
              "      <td>1</td>\n",
              "      <td>-1</td>\n",
              "      <td>0</td>\n",
              "      <td>unknown</td>\n",
              "    </tr>\n",
              "    <tr>\n",
              "      <th>25</th>\n",
              "      <td>68</td>\n",
              "      <td>retired</td>\n",
              "      <td>divorced</td>\n",
              "      <td>secondary</td>\n",
              "      <td>no</td>\n",
              "      <td>4189</td>\n",
              "      <td>no</td>\n",
              "      <td>no</td>\n",
              "      <td>telephone</td>\n",
              "      <td>14</td>\n",
              "      <td>jul</td>\n",
              "      <td>897</td>\n",
              "      <td>2</td>\n",
              "      <td>-1</td>\n",
              "      <td>0</td>\n",
              "      <td>unknown</td>\n",
              "    </tr>\n",
              "    <tr>\n",
              "      <th>26</th>\n",
              "      <td>32</td>\n",
              "      <td>management</td>\n",
              "      <td>single</td>\n",
              "      <td>tertiary</td>\n",
              "      <td>no</td>\n",
              "      <td>2536</td>\n",
              "      <td>yes</td>\n",
              "      <td>no</td>\n",
              "      <td>cellular</td>\n",
              "      <td>26</td>\n",
              "      <td>aug</td>\n",
              "      <td>958</td>\n",
              "      <td>6</td>\n",
              "      <td>-1</td>\n",
              "      <td>0</td>\n",
              "      <td>unknown</td>\n",
              "    </tr>\n",
              "  </tbody>\n",
              "</table>\n",
              "</div>"
            ],
            "text/plain": [
              "    age         job   marital  education default  balance housing loan  \\\n",
              "22   60      admin.   married    unknown      no     1088     yes   no   \n",
              "23   37  technician    single  secondary      no      228     yes   no   \n",
              "24   20     student    single  secondary      no      502      no   no   \n",
              "25   68     retired  divorced  secondary      no     4189      no   no   \n",
              "26   32  management    single   tertiary      no     2536     yes   no   \n",
              "\n",
              "      contact  day month  duration  campaign  pdays  previous poutcome  \n",
              "22   cellular   26   may       149         1     -1         0  unknown  \n",
              "23   cellular   20   aug      1740         2     -1         0  unknown  \n",
              "24   cellular   30   apr       261         1     -1         0  unknown  \n",
              "25  telephone   14   jul       897         2     -1         0  unknown  \n",
              "26   cellular   26   aug       958         6     -1         0  unknown  "
            ]
          },
          "metadata": {
            "tags": []
          },
          "execution_count": 62
        }
      ]
    },
    {
      "cell_type": "code",
      "metadata": {
        "id": "62KXuhWlk2E0",
        "colab_type": "code",
        "colab": {
          "base_uri": "https://localhost:8080/",
          "height": 34
        },
        "outputId": "fa506b90-47ad-463b-aca9-233e63d6505d"
      },
      "source": [
        "# Dummify categorical features \n",
        "\n",
        "encoded_day1 = pd.get_dummies(df_day1[cat_cols], drop_first=True)\n",
        "encoded_day1.shape"
      ],
      "execution_count": 63,
      "outputs": [
        {
          "output_type": "execute_result",
          "data": {
            "text/plain": [
              "(4440, 35)"
            ]
          },
          "metadata": {
            "tags": []
          },
          "execution_count": 63
        }
      ]
    },
    {
      "cell_type": "code",
      "metadata": {
        "id": "UB94SY8qJQT-",
        "colab_type": "code",
        "colab": {
          "base_uri": "https://localhost:8080/",
          "height": 34
        },
        "outputId": "daefbee1-b931-48a4-d148-23c5614cf002"
      },
      "source": [
        "df_day1 = df_day1.drop(cat_cols, 1)\n",
        "day1df = pd.concat([df_day1, encoded_day1], 1)\n",
        "day1df.shape\n"
      ],
      "execution_count": 64,
      "outputs": [
        {
          "output_type": "execute_result",
          "data": {
            "text/plain": [
              "(4440, 42)"
            ]
          },
          "metadata": {
            "tags": []
          },
          "execution_count": 64
        }
      ]
    },
    {
      "cell_type": "code",
      "metadata": {
        "id": "IHSeYBENPgPa",
        "colab_type": "code",
        "colab": {
          "base_uri": "https://localhost:8080/",
          "height": 34
        },
        "outputId": "b469fb7a-d10d-41ac-fe54-6cb121c48c5e"
      },
      "source": [
        "day1df = day1df[-27:]\n",
        "day1df.shape"
      ],
      "execution_count": 65,
      "outputs": [
        {
          "output_type": "execute_result",
          "data": {
            "text/plain": [
              "(27, 42)"
            ]
          },
          "metadata": {
            "tags": []
          },
          "execution_count": 65
        }
      ]
    },
    {
      "cell_type": "markdown",
      "metadata": {
        "id": "y_wRt9L7k2FA",
        "colab_type": "text"
      },
      "source": [
        "### Predicting day1 data"
      ]
    },
    {
      "cell_type": "code",
      "metadata": {
        "id": "jEcAogUQk2FA",
        "colab_type": "code",
        "colab": {}
      },
      "source": [
        "day1_pred=clf.predict(day1df)"
      ],
      "execution_count": 66,
      "outputs": []
    },
    {
      "cell_type": "code",
      "metadata": {
        "id": "Lf5WlKJRk2FB",
        "colab_type": "code",
        "colab": {}
      },
      "source": [
        "for i in range(0, 27):\n",
        "    if day1_pred[i]>=.5:       # setting threshold to .5\n",
        "       day1_pred[i]=1\n",
        "    else:  \n",
        "       day1_pred[i]=0"
      ],
      "execution_count": 67,
      "outputs": []
    },
    {
      "cell_type": "markdown",
      "metadata": {
        "id": "4SEWSF16k2FD",
        "colab_type": "text"
      },
      "source": [
        "We have received actually what happend on day1(Actual day1_output)"
      ]
    },
    {
      "cell_type": "code",
      "metadata": {
        "id": "ngUoDz0rk2FD",
        "colab_type": "code",
        "colab": {}
      },
      "source": [
        "day1_actual=pd.read_csv('Day1_Actual_output.xls')"
      ],
      "execution_count": 68,
      "outputs": []
    },
    {
      "cell_type": "code",
      "metadata": {
        "id": "4Kw-0pkEk2FF",
        "colab_type": "code",
        "colab": {
          "base_uri": "https://localhost:8080/",
          "height": 70
        },
        "outputId": "6577cc94-ce62-4625-96b2-ac2c42018d81"
      },
      "source": [
        "day1_actual=le.fit_transform(day1_actual)"
      ],
      "execution_count": 69,
      "outputs": [
        {
          "output_type": "stream",
          "text": [
            "/usr/local/lib/python3.6/dist-packages/sklearn/preprocessing/_label.py:251: DataConversionWarning: A column-vector y was passed when a 1d array was expected. Please change the shape of y to (n_samples, ), for example using ravel().\n",
            "  y = column_or_1d(y, warn=True)\n"
          ],
          "name": "stderr"
        }
      ]
    },
    {
      "cell_type": "code",
      "metadata": {
        "id": "DLmGTqd8k2FH",
        "colab_type": "code",
        "colab": {
          "base_uri": "https://localhost:8080/",
          "height": 168
        },
        "outputId": "d6c15887-80b0-4b4e-b672-8533eb62cd28"
      },
      "source": [
        "print(classification_report(day1_actual, day1_pred))"
      ],
      "execution_count": 70,
      "outputs": [
        {
          "output_type": "stream",
          "text": [
            "              precision    recall  f1-score   support\n",
            "\n",
            "           0       1.00      0.79      0.88        24\n",
            "           1       0.38      1.00      0.55         3\n",
            "\n",
            "    accuracy                           0.81        27\n",
            "   macro avg       0.69      0.90      0.71        27\n",
            "weighted avg       0.93      0.81      0.85        27\n",
            "\n"
          ],
          "name": "stdout"
        }
      ]
    },
    {
      "cell_type": "code",
      "metadata": {
        "id": "uxErVmr6k2FJ",
        "colab_type": "code",
        "colab": {
          "base_uri": "https://localhost:8080/",
          "height": 50
        },
        "outputId": "dc4ac4fc-8502-4e54-dfe7-4f222ebe2110"
      },
      "source": [
        "print(confusion_matrix(day1_actual, day1_pred))"
      ],
      "execution_count": 71,
      "outputs": [
        {
          "output_type": "stream",
          "text": [
            "[[19  5]\n",
            " [ 0  3]]\n"
          ],
          "name": "stdout"
        }
      ]
    },
    {
      "cell_type": "code",
      "metadata": {
        "id": "htXko6kJk2FM",
        "colab_type": "code",
        "colab": {
          "base_uri": "https://localhost:8080/",
          "height": 34
        },
        "outputId": "b172f367-d411-4ac3-d355-1ed09f4b03c5"
      },
      "source": [
        "day1_recall=recall_score(day1_actual, day1_pred)\n",
        "day1_recall"
      ],
      "execution_count": 72,
      "outputs": [
        {
          "output_type": "execute_result",
          "data": {
            "text/plain": [
              "1.0"
            ]
          },
          "metadata": {
            "tags": []
          },
          "execution_count": 72
        }
      ]
    },
    {
      "cell_type": "markdown",
      "metadata": {
        "id": "yHKq33i_k2FO",
        "colab_type": "text"
      },
      "source": [
        "## Day 2 prediction"
      ]
    },
    {
      "cell_type": "code",
      "metadata": {
        "id": "w3DyGB2Rk2FO",
        "colab_type": "code",
        "colab": {}
      },
      "source": [
        "day2=pd.read_csv('Day2_input.xls')"
      ],
      "execution_count": 73,
      "outputs": []
    },
    {
      "cell_type": "code",
      "metadata": {
        "id": "5tgVooESk2FQ",
        "colab_type": "code",
        "colab": {
          "base_uri": "https://localhost:8080/",
          "height": 195
        },
        "outputId": "0140a6f6-949b-49cf-9ea5-efdafe6cefcf"
      },
      "source": [
        "day2.head()"
      ],
      "execution_count": 74,
      "outputs": [
        {
          "output_type": "execute_result",
          "data": {
            "text/html": [
              "<div>\n",
              "<style scoped>\n",
              "    .dataframe tbody tr th:only-of-type {\n",
              "        vertical-align: middle;\n",
              "    }\n",
              "\n",
              "    .dataframe tbody tr th {\n",
              "        vertical-align: top;\n",
              "    }\n",
              "\n",
              "    .dataframe thead th {\n",
              "        text-align: right;\n",
              "    }\n",
              "</style>\n",
              "<table border=\"1\" class=\"dataframe\">\n",
              "  <thead>\n",
              "    <tr style=\"text-align: right;\">\n",
              "      <th></th>\n",
              "      <th>age</th>\n",
              "      <th>job</th>\n",
              "      <th>marital</th>\n",
              "      <th>education</th>\n",
              "      <th>default</th>\n",
              "      <th>balance</th>\n",
              "      <th>housing</th>\n",
              "      <th>loan</th>\n",
              "      <th>contact</th>\n",
              "      <th>day</th>\n",
              "      <th>month</th>\n",
              "      <th>duration</th>\n",
              "      <th>campaign</th>\n",
              "      <th>pdays</th>\n",
              "      <th>previous</th>\n",
              "      <th>poutcome</th>\n",
              "    </tr>\n",
              "  </thead>\n",
              "  <tbody>\n",
              "    <tr>\n",
              "      <th>0</th>\n",
              "      <td>28</td>\n",
              "      <td>technician</td>\n",
              "      <td>single</td>\n",
              "      <td>tertiary</td>\n",
              "      <td>no</td>\n",
              "      <td>0</td>\n",
              "      <td>yes</td>\n",
              "      <td>no</td>\n",
              "      <td>unknown</td>\n",
              "      <td>4</td>\n",
              "      <td>jun</td>\n",
              "      <td>205</td>\n",
              "      <td>6</td>\n",
              "      <td>-1</td>\n",
              "      <td>0</td>\n",
              "      <td>unknown</td>\n",
              "    </tr>\n",
              "    <tr>\n",
              "      <th>1</th>\n",
              "      <td>43</td>\n",
              "      <td>blue-collar</td>\n",
              "      <td>married</td>\n",
              "      <td>primary</td>\n",
              "      <td>no</td>\n",
              "      <td>2519</td>\n",
              "      <td>yes</td>\n",
              "      <td>no</td>\n",
              "      <td>cellular</td>\n",
              "      <td>16</td>\n",
              "      <td>apr</td>\n",
              "      <td>257</td>\n",
              "      <td>2</td>\n",
              "      <td>146</td>\n",
              "      <td>9</td>\n",
              "      <td>other</td>\n",
              "    </tr>\n",
              "    <tr>\n",
              "      <th>2</th>\n",
              "      <td>33</td>\n",
              "      <td>blue-collar</td>\n",
              "      <td>married</td>\n",
              "      <td>primary</td>\n",
              "      <td>no</td>\n",
              "      <td>3074</td>\n",
              "      <td>no</td>\n",
              "      <td>no</td>\n",
              "      <td>cellular</td>\n",
              "      <td>18</td>\n",
              "      <td>nov</td>\n",
              "      <td>679</td>\n",
              "      <td>1</td>\n",
              "      <td>-1</td>\n",
              "      <td>0</td>\n",
              "      <td>unknown</td>\n",
              "    </tr>\n",
              "    <tr>\n",
              "      <th>3</th>\n",
              "      <td>46</td>\n",
              "      <td>admin.</td>\n",
              "      <td>married</td>\n",
              "      <td>secondary</td>\n",
              "      <td>no</td>\n",
              "      <td>-121</td>\n",
              "      <td>yes</td>\n",
              "      <td>yes</td>\n",
              "      <td>cellular</td>\n",
              "      <td>8</td>\n",
              "      <td>jul</td>\n",
              "      <td>214</td>\n",
              "      <td>4</td>\n",
              "      <td>-1</td>\n",
              "      <td>0</td>\n",
              "      <td>unknown</td>\n",
              "    </tr>\n",
              "    <tr>\n",
              "      <th>4</th>\n",
              "      <td>40</td>\n",
              "      <td>admin.</td>\n",
              "      <td>divorced</td>\n",
              "      <td>secondary</td>\n",
              "      <td>no</td>\n",
              "      <td>212</td>\n",
              "      <td>no</td>\n",
              "      <td>no</td>\n",
              "      <td>unknown</td>\n",
              "      <td>7</td>\n",
              "      <td>jan</td>\n",
              "      <td>176</td>\n",
              "      <td>1</td>\n",
              "      <td>-1</td>\n",
              "      <td>0</td>\n",
              "      <td>unknown</td>\n",
              "    </tr>\n",
              "  </tbody>\n",
              "</table>\n",
              "</div>"
            ],
            "text/plain": [
              "   age          job   marital  education default  balance housing loan  \\\n",
              "0   28   technician    single   tertiary      no        0     yes   no   \n",
              "1   43  blue-collar   married    primary      no     2519     yes   no   \n",
              "2   33  blue-collar   married    primary      no     3074      no   no   \n",
              "3   46       admin.   married  secondary      no     -121     yes  yes   \n",
              "4   40       admin.  divorced  secondary      no      212      no   no   \n",
              "\n",
              "    contact  day month  duration  campaign  pdays  previous poutcome  \n",
              "0   unknown    4   jun       205         6     -1         0  unknown  \n",
              "1  cellular   16   apr       257         2    146         9    other  \n",
              "2  cellular   18   nov       679         1     -1         0  unknown  \n",
              "3  cellular    8   jul       214         4     -1         0  unknown  \n",
              "4   unknown    7   jan       176         1     -1         0  unknown  "
            ]
          },
          "metadata": {
            "tags": []
          },
          "execution_count": 74
        }
      ]
    },
    {
      "cell_type": "code",
      "metadata": {
        "id": "3YsLyCpgk2FS",
        "colab_type": "code",
        "colab": {
          "base_uri": "https://localhost:8080/",
          "height": 34
        },
        "outputId": "1d2abf1d-38b2-49a0-dde3-880edb52b4c4"
      },
      "source": [
        "day2.shape"
      ],
      "execution_count": 75,
      "outputs": [
        {
          "output_type": "execute_result",
          "data": {
            "text/plain": [
              "(27, 16)"
            ]
          },
          "metadata": {
            "tags": []
          },
          "execution_count": 75
        }
      ]
    },
    {
      "cell_type": "markdown",
      "metadata": {
        "id": "wQy2GENa17qW",
        "colab_type": "text"
      },
      "source": [
        "### Feature Engineering - Day 2"
      ]
    },
    {
      "cell_type": "code",
      "metadata": {
        "id": "LvxeKJa4k2FU",
        "colab_type": "code",
        "colab": {}
      },
      "source": [
        "day2_df = X.append(day2)"
      ],
      "execution_count": 79,
      "outputs": []
    },
    {
      "cell_type": "code",
      "metadata": {
        "id": "88MOhwERk2FV",
        "colab_type": "code",
        "colab": {
          "base_uri": "https://localhost:8080/",
          "height": 34
        },
        "outputId": "143a22c3-b323-44c5-9ed9-77a7ccc756e7"
      },
      "source": [
        "day2_df.shape"
      ],
      "execution_count": 80,
      "outputs": [
        {
          "output_type": "execute_result",
          "data": {
            "text/plain": [
              "(4440, 16)"
            ]
          },
          "metadata": {
            "tags": []
          },
          "execution_count": 80
        }
      ]
    },
    {
      "cell_type": "code",
      "metadata": {
        "id": "MUlx02FHXHcK",
        "colab_type": "code",
        "colab": {
          "base_uri": "https://localhost:8080/",
          "height": 34
        },
        "outputId": "c47f3d96-937d-4789-950a-928b099c54e9"
      },
      "source": [
        "# Dummify categorical features \n",
        "\n",
        "encoded_day2 = pd.get_dummies(day2_df[cat_cols], drop_first=True)\n",
        "encoded_day2.shape"
      ],
      "execution_count": 81,
      "outputs": [
        {
          "output_type": "execute_result",
          "data": {
            "text/plain": [
              "(4440, 35)"
            ]
          },
          "metadata": {
            "tags": []
          },
          "execution_count": 81
        }
      ]
    },
    {
      "cell_type": "code",
      "metadata": {
        "id": "ZuVlPQk8WZ5L",
        "colab_type": "code",
        "colab": {
          "base_uri": "https://localhost:8080/",
          "height": 232
        },
        "outputId": "0f562ef6-9ddb-4604-8dea-0174236ac7da"
      },
      "source": [
        "day2_df = day2_df.drop(cat_cols, 1)\n",
        "day2df = pd.concat([day2_df, encoded_day2], 1)\n",
        "day2df = day2df[-27:]\n",
        "day2df.head()"
      ],
      "execution_count": 84,
      "outputs": [
        {
          "output_type": "execute_result",
          "data": {
            "text/html": [
              "<div>\n",
              "<style scoped>\n",
              "    .dataframe tbody tr th:only-of-type {\n",
              "        vertical-align: middle;\n",
              "    }\n",
              "\n",
              "    .dataframe tbody tr th {\n",
              "        vertical-align: top;\n",
              "    }\n",
              "\n",
              "    .dataframe thead th {\n",
              "        text-align: right;\n",
              "    }\n",
              "</style>\n",
              "<table border=\"1\" class=\"dataframe\">\n",
              "  <thead>\n",
              "    <tr style=\"text-align: right;\">\n",
              "      <th></th>\n",
              "      <th>age</th>\n",
              "      <th>balance</th>\n",
              "      <th>day</th>\n",
              "      <th>duration</th>\n",
              "      <th>campaign</th>\n",
              "      <th>pdays</th>\n",
              "      <th>previous</th>\n",
              "      <th>job_blue-collar</th>\n",
              "      <th>job_entrepreneur</th>\n",
              "      <th>job_housemaid</th>\n",
              "      <th>job_management</th>\n",
              "      <th>job_retired</th>\n",
              "      <th>job_self-employed</th>\n",
              "      <th>job_services</th>\n",
              "      <th>job_student</th>\n",
              "      <th>job_technician</th>\n",
              "      <th>job_unemployed</th>\n",
              "      <th>job_unknown</th>\n",
              "      <th>marital_married</th>\n",
              "      <th>marital_single</th>\n",
              "      <th>education_secondary</th>\n",
              "      <th>education_tertiary</th>\n",
              "      <th>education_unknown</th>\n",
              "      <th>default_yes</th>\n",
              "      <th>housing_yes</th>\n",
              "      <th>loan_yes</th>\n",
              "      <th>contact_telephone</th>\n",
              "      <th>contact_unknown</th>\n",
              "      <th>month_aug</th>\n",
              "      <th>month_dec</th>\n",
              "      <th>month_feb</th>\n",
              "      <th>month_jan</th>\n",
              "      <th>month_jul</th>\n",
              "      <th>month_jun</th>\n",
              "      <th>month_mar</th>\n",
              "      <th>month_may</th>\n",
              "      <th>month_nov</th>\n",
              "      <th>month_oct</th>\n",
              "      <th>month_sep</th>\n",
              "      <th>poutcome_other</th>\n",
              "      <th>poutcome_success</th>\n",
              "      <th>poutcome_unknown</th>\n",
              "    </tr>\n",
              "  </thead>\n",
              "  <tbody>\n",
              "    <tr>\n",
              "      <th>0</th>\n",
              "      <td>28</td>\n",
              "      <td>0</td>\n",
              "      <td>4</td>\n",
              "      <td>205</td>\n",
              "      <td>6</td>\n",
              "      <td>-1</td>\n",
              "      <td>0</td>\n",
              "      <td>0</td>\n",
              "      <td>0</td>\n",
              "      <td>0</td>\n",
              "      <td>0</td>\n",
              "      <td>0</td>\n",
              "      <td>0</td>\n",
              "      <td>0</td>\n",
              "      <td>0</td>\n",
              "      <td>1</td>\n",
              "      <td>0</td>\n",
              "      <td>0</td>\n",
              "      <td>0</td>\n",
              "      <td>1</td>\n",
              "      <td>0</td>\n",
              "      <td>1</td>\n",
              "      <td>0</td>\n",
              "      <td>0</td>\n",
              "      <td>1</td>\n",
              "      <td>0</td>\n",
              "      <td>0</td>\n",
              "      <td>1</td>\n",
              "      <td>0</td>\n",
              "      <td>0</td>\n",
              "      <td>0</td>\n",
              "      <td>0</td>\n",
              "      <td>0</td>\n",
              "      <td>1</td>\n",
              "      <td>0</td>\n",
              "      <td>0</td>\n",
              "      <td>0</td>\n",
              "      <td>0</td>\n",
              "      <td>0</td>\n",
              "      <td>0</td>\n",
              "      <td>0</td>\n",
              "      <td>1</td>\n",
              "    </tr>\n",
              "    <tr>\n",
              "      <th>1</th>\n",
              "      <td>43</td>\n",
              "      <td>2519</td>\n",
              "      <td>16</td>\n",
              "      <td>257</td>\n",
              "      <td>2</td>\n",
              "      <td>146</td>\n",
              "      <td>9</td>\n",
              "      <td>1</td>\n",
              "      <td>0</td>\n",
              "      <td>0</td>\n",
              "      <td>0</td>\n",
              "      <td>0</td>\n",
              "      <td>0</td>\n",
              "      <td>0</td>\n",
              "      <td>0</td>\n",
              "      <td>0</td>\n",
              "      <td>0</td>\n",
              "      <td>0</td>\n",
              "      <td>1</td>\n",
              "      <td>0</td>\n",
              "      <td>0</td>\n",
              "      <td>0</td>\n",
              "      <td>0</td>\n",
              "      <td>0</td>\n",
              "      <td>1</td>\n",
              "      <td>0</td>\n",
              "      <td>0</td>\n",
              "      <td>0</td>\n",
              "      <td>0</td>\n",
              "      <td>0</td>\n",
              "      <td>0</td>\n",
              "      <td>0</td>\n",
              "      <td>0</td>\n",
              "      <td>0</td>\n",
              "      <td>0</td>\n",
              "      <td>0</td>\n",
              "      <td>0</td>\n",
              "      <td>0</td>\n",
              "      <td>0</td>\n",
              "      <td>1</td>\n",
              "      <td>0</td>\n",
              "      <td>0</td>\n",
              "    </tr>\n",
              "    <tr>\n",
              "      <th>2</th>\n",
              "      <td>33</td>\n",
              "      <td>3074</td>\n",
              "      <td>18</td>\n",
              "      <td>679</td>\n",
              "      <td>1</td>\n",
              "      <td>-1</td>\n",
              "      <td>0</td>\n",
              "      <td>1</td>\n",
              "      <td>0</td>\n",
              "      <td>0</td>\n",
              "      <td>0</td>\n",
              "      <td>0</td>\n",
              "      <td>0</td>\n",
              "      <td>0</td>\n",
              "      <td>0</td>\n",
              "      <td>0</td>\n",
              "      <td>0</td>\n",
              "      <td>0</td>\n",
              "      <td>1</td>\n",
              "      <td>0</td>\n",
              "      <td>0</td>\n",
              "      <td>0</td>\n",
              "      <td>0</td>\n",
              "      <td>0</td>\n",
              "      <td>0</td>\n",
              "      <td>0</td>\n",
              "      <td>0</td>\n",
              "      <td>0</td>\n",
              "      <td>0</td>\n",
              "      <td>0</td>\n",
              "      <td>0</td>\n",
              "      <td>0</td>\n",
              "      <td>0</td>\n",
              "      <td>0</td>\n",
              "      <td>0</td>\n",
              "      <td>0</td>\n",
              "      <td>1</td>\n",
              "      <td>0</td>\n",
              "      <td>0</td>\n",
              "      <td>0</td>\n",
              "      <td>0</td>\n",
              "      <td>1</td>\n",
              "    </tr>\n",
              "    <tr>\n",
              "      <th>3</th>\n",
              "      <td>46</td>\n",
              "      <td>-121</td>\n",
              "      <td>8</td>\n",
              "      <td>214</td>\n",
              "      <td>4</td>\n",
              "      <td>-1</td>\n",
              "      <td>0</td>\n",
              "      <td>0</td>\n",
              "      <td>0</td>\n",
              "      <td>0</td>\n",
              "      <td>0</td>\n",
              "      <td>0</td>\n",
              "      <td>0</td>\n",
              "      <td>0</td>\n",
              "      <td>0</td>\n",
              "      <td>0</td>\n",
              "      <td>0</td>\n",
              "      <td>0</td>\n",
              "      <td>1</td>\n",
              "      <td>0</td>\n",
              "      <td>1</td>\n",
              "      <td>0</td>\n",
              "      <td>0</td>\n",
              "      <td>0</td>\n",
              "      <td>1</td>\n",
              "      <td>1</td>\n",
              "      <td>0</td>\n",
              "      <td>0</td>\n",
              "      <td>0</td>\n",
              "      <td>0</td>\n",
              "      <td>0</td>\n",
              "      <td>0</td>\n",
              "      <td>1</td>\n",
              "      <td>0</td>\n",
              "      <td>0</td>\n",
              "      <td>0</td>\n",
              "      <td>0</td>\n",
              "      <td>0</td>\n",
              "      <td>0</td>\n",
              "      <td>0</td>\n",
              "      <td>0</td>\n",
              "      <td>1</td>\n",
              "    </tr>\n",
              "    <tr>\n",
              "      <th>4</th>\n",
              "      <td>40</td>\n",
              "      <td>212</td>\n",
              "      <td>7</td>\n",
              "      <td>176</td>\n",
              "      <td>1</td>\n",
              "      <td>-1</td>\n",
              "      <td>0</td>\n",
              "      <td>0</td>\n",
              "      <td>0</td>\n",
              "      <td>0</td>\n",
              "      <td>0</td>\n",
              "      <td>0</td>\n",
              "      <td>0</td>\n",
              "      <td>0</td>\n",
              "      <td>0</td>\n",
              "      <td>0</td>\n",
              "      <td>0</td>\n",
              "      <td>0</td>\n",
              "      <td>0</td>\n",
              "      <td>0</td>\n",
              "      <td>1</td>\n",
              "      <td>0</td>\n",
              "      <td>0</td>\n",
              "      <td>0</td>\n",
              "      <td>0</td>\n",
              "      <td>0</td>\n",
              "      <td>0</td>\n",
              "      <td>1</td>\n",
              "      <td>0</td>\n",
              "      <td>0</td>\n",
              "      <td>0</td>\n",
              "      <td>1</td>\n",
              "      <td>0</td>\n",
              "      <td>0</td>\n",
              "      <td>0</td>\n",
              "      <td>0</td>\n",
              "      <td>0</td>\n",
              "      <td>0</td>\n",
              "      <td>0</td>\n",
              "      <td>0</td>\n",
              "      <td>0</td>\n",
              "      <td>1</td>\n",
              "    </tr>\n",
              "  </tbody>\n",
              "</table>\n",
              "</div>"
            ],
            "text/plain": [
              "   age  balance  day  duration  campaign  pdays  previous  job_blue-collar  \\\n",
              "0   28        0    4       205         6     -1         0                0   \n",
              "1   43     2519   16       257         2    146         9                1   \n",
              "2   33     3074   18       679         1     -1         0                1   \n",
              "3   46     -121    8       214         4     -1         0                0   \n",
              "4   40      212    7       176         1     -1         0                0   \n",
              "\n",
              "   job_entrepreneur  job_housemaid  job_management  job_retired  \\\n",
              "0                 0              0               0            0   \n",
              "1                 0              0               0            0   \n",
              "2                 0              0               0            0   \n",
              "3                 0              0               0            0   \n",
              "4                 0              0               0            0   \n",
              "\n",
              "   job_self-employed  job_services  job_student  job_technician  \\\n",
              "0                  0             0            0               1   \n",
              "1                  0             0            0               0   \n",
              "2                  0             0            0               0   \n",
              "3                  0             0            0               0   \n",
              "4                  0             0            0               0   \n",
              "\n",
              "   job_unemployed  job_unknown  marital_married  marital_single  \\\n",
              "0               0            0                0               1   \n",
              "1               0            0                1               0   \n",
              "2               0            0                1               0   \n",
              "3               0            0                1               0   \n",
              "4               0            0                0               0   \n",
              "\n",
              "   education_secondary  education_tertiary  education_unknown  default_yes  \\\n",
              "0                    0                   1                  0            0   \n",
              "1                    0                   0                  0            0   \n",
              "2                    0                   0                  0            0   \n",
              "3                    1                   0                  0            0   \n",
              "4                    1                   0                  0            0   \n",
              "\n",
              "   housing_yes  loan_yes  contact_telephone  contact_unknown  month_aug  \\\n",
              "0            1         0                  0                1          0   \n",
              "1            1         0                  0                0          0   \n",
              "2            0         0                  0                0          0   \n",
              "3            1         1                  0                0          0   \n",
              "4            0         0                  0                1          0   \n",
              "\n",
              "   month_dec  month_feb  month_jan  month_jul  month_jun  month_mar  \\\n",
              "0          0          0          0          0          1          0   \n",
              "1          0          0          0          0          0          0   \n",
              "2          0          0          0          0          0          0   \n",
              "3          0          0          0          1          0          0   \n",
              "4          0          0          1          0          0          0   \n",
              "\n",
              "   month_may  month_nov  month_oct  month_sep  poutcome_other  \\\n",
              "0          0          0          0          0               0   \n",
              "1          0          0          0          0               1   \n",
              "2          0          1          0          0               0   \n",
              "3          0          0          0          0               0   \n",
              "4          0          0          0          0               0   \n",
              "\n",
              "   poutcome_success  poutcome_unknown  \n",
              "0                 0                 1  \n",
              "1                 0                 0  \n",
              "2                 0                 1  \n",
              "3                 0                 1  \n",
              "4                 0                 1  "
            ]
          },
          "metadata": {
            "tags": []
          },
          "execution_count": 84
        }
      ]
    },
    {
      "cell_type": "code",
      "metadata": {
        "id": "3go2BJjkk2Fj",
        "colab_type": "code",
        "colab": {
          "base_uri": "https://localhost:8080/",
          "height": 34
        },
        "outputId": "a645c057-7e80-4b08-e3bd-3aa6fe5c2552"
      },
      "source": [
        "day2df.shape"
      ],
      "execution_count": 85,
      "outputs": [
        {
          "output_type": "execute_result",
          "data": {
            "text/plain": [
              "(27, 42)"
            ]
          },
          "metadata": {
            "tags": []
          },
          "execution_count": 85
        }
      ]
    },
    {
      "cell_type": "markdown",
      "metadata": {
        "id": "91Qd-slV1Ru4",
        "colab_type": "text"
      },
      "source": [
        "### Predicting day 2 data"
      ]
    },
    {
      "cell_type": "code",
      "metadata": {
        "id": "jQCPJ_UOk2Fn",
        "colab_type": "code",
        "colab": {}
      },
      "source": [
        "day2_pred=clf.predict(day2df)"
      ],
      "execution_count": 86,
      "outputs": []
    },
    {
      "cell_type": "code",
      "metadata": {
        "id": "wxxJhoNkk2Fo",
        "colab_type": "code",
        "colab": {}
      },
      "source": [
        "for i in range(0, 27):\n",
        "    if day2_pred[i]>=.5:       # setting threshold to .5\n",
        "       day2_pred[i]=1\n",
        "    else:  \n",
        "       day2_pred[i]=0"
      ],
      "execution_count": 87,
      "outputs": []
    },
    {
      "cell_type": "markdown",
      "metadata": {
        "id": "Q9nRjVhAk2Fp",
        "colab_type": "text"
      },
      "source": [
        "We have received actual what happend on day2(Actual day2_output)"
      ]
    },
    {
      "cell_type": "code",
      "metadata": {
        "id": "GOe8FHtNk2Fp",
        "colab_type": "code",
        "colab": {}
      },
      "source": [
        "day2_Actual=pd.read_csv('Day2_Actual_output.xls')"
      ],
      "execution_count": 88,
      "outputs": []
    },
    {
      "cell_type": "code",
      "metadata": {
        "id": "weyEofG-k2Fq",
        "colab_type": "code",
        "colab": {
          "base_uri": "https://localhost:8080/",
          "height": 70
        },
        "outputId": "52f1540e-51db-4aed-f67b-0f3cf92453fe"
      },
      "source": [
        "day2_actual=le.fit_transform(day2_Actual)"
      ],
      "execution_count": 90,
      "outputs": [
        {
          "output_type": "stream",
          "text": [
            "/usr/local/lib/python3.6/dist-packages/sklearn/preprocessing/_label.py:251: DataConversionWarning: A column-vector y was passed when a 1d array was expected. Please change the shape of y to (n_samples, ), for example using ravel().\n",
            "  y = column_or_1d(y, warn=True)\n"
          ],
          "name": "stderr"
        }
      ]
    },
    {
      "cell_type": "code",
      "metadata": {
        "id": "sppAg1Qjk2Fs",
        "colab_type": "code",
        "colab": {
          "base_uri": "https://localhost:8080/",
          "height": 168
        },
        "outputId": "dd1420dd-b2a8-42fa-bd3b-058cf7267b40"
      },
      "source": [
        "print(classification_report(day2_actual, day2_pred))"
      ],
      "execution_count": 91,
      "outputs": [
        {
          "output_type": "stream",
          "text": [
            "              precision    recall  f1-score   support\n",
            "\n",
            "           0       0.92      0.96      0.94        24\n",
            "           1       0.50      0.33      0.40         3\n",
            "\n",
            "    accuracy                           0.89        27\n",
            "   macro avg       0.71      0.65      0.67        27\n",
            "weighted avg       0.87      0.89      0.88        27\n",
            "\n"
          ],
          "name": "stdout"
        }
      ]
    },
    {
      "cell_type": "code",
      "metadata": {
        "id": "A1880J8Sk2Ft",
        "colab_type": "code",
        "colab": {
          "base_uri": "https://localhost:8080/",
          "height": 50
        },
        "outputId": "b7e32293-da6b-4254-ff2e-720dd5fd81e5"
      },
      "source": [
        "print(confusion_matrix(day2_actual, day2_pred))"
      ],
      "execution_count": 92,
      "outputs": [
        {
          "output_type": "stream",
          "text": [
            "[[23  1]\n",
            " [ 2  1]]\n"
          ],
          "name": "stdout"
        }
      ]
    },
    {
      "cell_type": "code",
      "metadata": {
        "id": "kqWB6OsZk2Fu",
        "colab_type": "code",
        "colab": {
          "base_uri": "https://localhost:8080/",
          "height": 34
        },
        "outputId": "1930ddb6-b303-442a-f7ad-5e817d319fc3"
      },
      "source": [
        "day2_recall=recall_score(day2_actual, day2_pred)\n",
        "day2_recall"
      ],
      "execution_count": 93,
      "outputs": [
        {
          "output_type": "execute_result",
          "data": {
            "text/plain": [
              "0.3333333333333333"
            ]
          },
          "metadata": {
            "tags": []
          },
          "execution_count": 93
        }
      ]
    },
    {
      "cell_type": "markdown",
      "metadata": {
        "id": "dAguMBkNk2Fv",
        "colab_type": "text"
      },
      "source": [
        "## Day 3 prediction"
      ]
    },
    {
      "cell_type": "code",
      "metadata": {
        "id": "q9_k36FZk2Fv",
        "colab_type": "code",
        "colab": {}
      },
      "source": [
        "day3=pd.read_csv('Day3_input.xls')"
      ],
      "execution_count": 94,
      "outputs": []
    },
    {
      "cell_type": "code",
      "metadata": {
        "id": "16im2dSYk2Fx",
        "colab_type": "code",
        "colab": {
          "base_uri": "https://localhost:8080/",
          "height": 34
        },
        "outputId": "22bb575d-7d6c-491f-a93e-2d6db2e7fd29"
      },
      "source": [
        "day3.shape"
      ],
      "execution_count": 96,
      "outputs": [
        {
          "output_type": "execute_result",
          "data": {
            "text/plain": [
              "(27, 16)"
            ]
          },
          "metadata": {
            "tags": []
          },
          "execution_count": 96
        }
      ]
    },
    {
      "cell_type": "code",
      "metadata": {
        "id": "sXHac1srk2Fy",
        "colab_type": "code",
        "colab": {
          "base_uri": "https://localhost:8080/",
          "height": 195
        },
        "outputId": "a4766ee5-4335-4ffa-e668-6d0da6c91594"
      },
      "source": [
        "day3.tail()"
      ],
      "execution_count": 97,
      "outputs": [
        {
          "output_type": "execute_result",
          "data": {
            "text/html": [
              "<div>\n",
              "<style scoped>\n",
              "    .dataframe tbody tr th:only-of-type {\n",
              "        vertical-align: middle;\n",
              "    }\n",
              "\n",
              "    .dataframe tbody tr th {\n",
              "        vertical-align: top;\n",
              "    }\n",
              "\n",
              "    .dataframe thead th {\n",
              "        text-align: right;\n",
              "    }\n",
              "</style>\n",
              "<table border=\"1\" class=\"dataframe\">\n",
              "  <thead>\n",
              "    <tr style=\"text-align: right;\">\n",
              "      <th></th>\n",
              "      <th>age</th>\n",
              "      <th>job</th>\n",
              "      <th>marital</th>\n",
              "      <th>education</th>\n",
              "      <th>default</th>\n",
              "      <th>balance</th>\n",
              "      <th>housing</th>\n",
              "      <th>loan</th>\n",
              "      <th>contact</th>\n",
              "      <th>day</th>\n",
              "      <th>month</th>\n",
              "      <th>duration</th>\n",
              "      <th>campaign</th>\n",
              "      <th>pdays</th>\n",
              "      <th>previous</th>\n",
              "      <th>poutcome</th>\n",
              "    </tr>\n",
              "  </thead>\n",
              "  <tbody>\n",
              "    <tr>\n",
              "      <th>22</th>\n",
              "      <td>58</td>\n",
              "      <td>unemployed</td>\n",
              "      <td>married</td>\n",
              "      <td>secondary</td>\n",
              "      <td>no</td>\n",
              "      <td>610</td>\n",
              "      <td>yes</td>\n",
              "      <td>no</td>\n",
              "      <td>telephone</td>\n",
              "      <td>29</td>\n",
              "      <td>jul</td>\n",
              "      <td>246</td>\n",
              "      <td>2</td>\n",
              "      <td>-1</td>\n",
              "      <td>0</td>\n",
              "      <td>unknown</td>\n",
              "    </tr>\n",
              "    <tr>\n",
              "      <th>23</th>\n",
              "      <td>34</td>\n",
              "      <td>admin.</td>\n",
              "      <td>married</td>\n",
              "      <td>tertiary</td>\n",
              "      <td>no</td>\n",
              "      <td>35</td>\n",
              "      <td>yes</td>\n",
              "      <td>no</td>\n",
              "      <td>cellular</td>\n",
              "      <td>15</td>\n",
              "      <td>oct</td>\n",
              "      <td>76</td>\n",
              "      <td>1</td>\n",
              "      <td>69</td>\n",
              "      <td>2</td>\n",
              "      <td>failure</td>\n",
              "    </tr>\n",
              "    <tr>\n",
              "      <th>24</th>\n",
              "      <td>33</td>\n",
              "      <td>management</td>\n",
              "      <td>married</td>\n",
              "      <td>secondary</td>\n",
              "      <td>no</td>\n",
              "      <td>3935</td>\n",
              "      <td>yes</td>\n",
              "      <td>no</td>\n",
              "      <td>cellular</td>\n",
              "      <td>6</td>\n",
              "      <td>may</td>\n",
              "      <td>765</td>\n",
              "      <td>1</td>\n",
              "      <td>342</td>\n",
              "      <td>2</td>\n",
              "      <td>failure</td>\n",
              "    </tr>\n",
              "    <tr>\n",
              "      <th>25</th>\n",
              "      <td>61</td>\n",
              "      <td>admin.</td>\n",
              "      <td>married</td>\n",
              "      <td>unknown</td>\n",
              "      <td>no</td>\n",
              "      <td>4629</td>\n",
              "      <td>yes</td>\n",
              "      <td>no</td>\n",
              "      <td>cellular</td>\n",
              "      <td>27</td>\n",
              "      <td>jan</td>\n",
              "      <td>181</td>\n",
              "      <td>1</td>\n",
              "      <td>92</td>\n",
              "      <td>1</td>\n",
              "      <td>success</td>\n",
              "    </tr>\n",
              "    <tr>\n",
              "      <th>26</th>\n",
              "      <td>45</td>\n",
              "      <td>blue-collar</td>\n",
              "      <td>divorced</td>\n",
              "      <td>primary</td>\n",
              "      <td>no</td>\n",
              "      <td>844</td>\n",
              "      <td>no</td>\n",
              "      <td>no</td>\n",
              "      <td>unknown</td>\n",
              "      <td>5</td>\n",
              "      <td>jun</td>\n",
              "      <td>1018</td>\n",
              "      <td>3</td>\n",
              "      <td>-1</td>\n",
              "      <td>0</td>\n",
              "      <td>unknown</td>\n",
              "    </tr>\n",
              "  </tbody>\n",
              "</table>\n",
              "</div>"
            ],
            "text/plain": [
              "    age          job   marital  education default  balance housing loan  \\\n",
              "22   58   unemployed   married  secondary      no      610     yes   no   \n",
              "23   34       admin.   married   tertiary      no       35     yes   no   \n",
              "24   33   management   married  secondary      no     3935     yes   no   \n",
              "25   61       admin.   married    unknown      no     4629     yes   no   \n",
              "26   45  blue-collar  divorced    primary      no      844      no   no   \n",
              "\n",
              "      contact  day month  duration  campaign  pdays  previous poutcome  \n",
              "22  telephone   29   jul       246         2     -1         0  unknown  \n",
              "23   cellular   15   oct        76         1     69         2  failure  \n",
              "24   cellular    6   may       765         1    342         2  failure  \n",
              "25   cellular   27   jan       181         1     92         1  success  \n",
              "26    unknown    5   jun      1018         3     -1         0  unknown  "
            ]
          },
          "metadata": {
            "tags": []
          },
          "execution_count": 97
        }
      ]
    },
    {
      "cell_type": "markdown",
      "metadata": {
        "id": "VdpQ8J672GxS",
        "colab_type": "text"
      },
      "source": [
        "#### Feature Engineering - Day 3"
      ]
    },
    {
      "cell_type": "code",
      "metadata": {
        "id": "t8GJLpuuk2F1",
        "colab_type": "code",
        "colab": {
          "base_uri": "https://localhost:8080/",
          "height": 34
        },
        "outputId": "0fd9a32b-b290-42cb-ab3e-ba09342f7fe7"
      },
      "source": [
        "day3_df = X.append(day3)\n",
        "day3_df.shape"
      ],
      "execution_count": 102,
      "outputs": [
        {
          "output_type": "execute_result",
          "data": {
            "text/plain": [
              "(4440, 16)"
            ]
          },
          "metadata": {
            "tags": []
          },
          "execution_count": 102
        }
      ]
    },
    {
      "cell_type": "code",
      "metadata": {
        "id": "gYEFkoNNk2F3",
        "colab_type": "code",
        "colab": {
          "base_uri": "https://localhost:8080/",
          "height": 34
        },
        "outputId": "267f46a9-4e97-4f4b-c178-06d805597abb"
      },
      "source": [
        "# Dummify categorical features \n",
        "\n",
        "encoded_day3 = pd.get_dummies(day3_df[cat_cols], drop_first=True)\n",
        "day3_df = day3_df.drop(cat_cols, 1)\n",
        "day3df = pd.concat([day3_df, encoded_day2], 1)\n",
        "day3df = day2df[-27:]\n",
        "day3df.shape"
      ],
      "execution_count": 103,
      "outputs": [
        {
          "output_type": "execute_result",
          "data": {
            "text/plain": [
              "(27, 42)"
            ]
          },
          "metadata": {
            "tags": []
          },
          "execution_count": 103
        }
      ]
    },
    {
      "cell_type": "markdown",
      "metadata": {
        "id": "XIyfUI77k2GG",
        "colab_type": "text"
      },
      "source": [
        "#### Predicting day 3 data\n",
        "\n",
        "We have received data of day 3(Input features) and we will predict the labels using clf model"
      ]
    },
    {
      "cell_type": "code",
      "metadata": {
        "id": "3Re9wvrUk2GH",
        "colab_type": "code",
        "colab": {}
      },
      "source": [
        "day3_pred=clf.predict(day3df)"
      ],
      "execution_count": 104,
      "outputs": []
    },
    {
      "cell_type": "code",
      "metadata": {
        "id": "y0ZoZekNk2GJ",
        "colab_type": "code",
        "colab": {}
      },
      "source": [
        "for i in range(0,27):\n",
        "    if day3_pred[i]>=.5:       # setting threshold to .5\n",
        "       day3_pred[i]=1\n",
        "    else:  \n",
        "       day3_pred[i]=0"
      ],
      "execution_count": 105,
      "outputs": []
    },
    {
      "cell_type": "markdown",
      "metadata": {
        "id": "z90U9zTRk2GL",
        "colab_type": "text"
      },
      "source": [
        "We have received actual what happend on day3(Actual day3_output)"
      ]
    },
    {
      "cell_type": "code",
      "metadata": {
        "id": "zWUSEAwck2GN",
        "colab_type": "code",
        "colab": {}
      },
      "source": [
        "day3_Actual = pd.read_csv('Day3_Actual_output.xls')"
      ],
      "execution_count": 106,
      "outputs": []
    },
    {
      "cell_type": "code",
      "metadata": {
        "id": "QW-_zS3yk2GP",
        "colab_type": "code",
        "colab": {
          "base_uri": "https://localhost:8080/",
          "height": 190
        },
        "outputId": "ac04f75f-23e8-4d6d-c8d2-1a0760e09b3f"
      },
      "source": [
        "day3_Actual=le.fit_transform(day3_Actual)\n",
        "pd.crosstab(day3_Actual,'count')"
      ],
      "execution_count": 107,
      "outputs": [
        {
          "output_type": "stream",
          "text": [
            "/usr/local/lib/python3.6/dist-packages/sklearn/preprocessing/_label.py:251: DataConversionWarning: A column-vector y was passed when a 1d array was expected. Please change the shape of y to (n_samples, ), for example using ravel().\n",
            "  y = column_or_1d(y, warn=True)\n"
          ],
          "name": "stderr"
        },
        {
          "output_type": "execute_result",
          "data": {
            "text/html": [
              "<div>\n",
              "<style scoped>\n",
              "    .dataframe tbody tr th:only-of-type {\n",
              "        vertical-align: middle;\n",
              "    }\n",
              "\n",
              "    .dataframe tbody tr th {\n",
              "        vertical-align: top;\n",
              "    }\n",
              "\n",
              "    .dataframe thead th {\n",
              "        text-align: right;\n",
              "    }\n",
              "</style>\n",
              "<table border=\"1\" class=\"dataframe\">\n",
              "  <thead>\n",
              "    <tr style=\"text-align: right;\">\n",
              "      <th>col_0</th>\n",
              "      <th>count</th>\n",
              "    </tr>\n",
              "    <tr>\n",
              "      <th>row_0</th>\n",
              "      <th></th>\n",
              "    </tr>\n",
              "  </thead>\n",
              "  <tbody>\n",
              "    <tr>\n",
              "      <th>0</th>\n",
              "      <td>24</td>\n",
              "    </tr>\n",
              "    <tr>\n",
              "      <th>1</th>\n",
              "      <td>3</td>\n",
              "    </tr>\n",
              "  </tbody>\n",
              "</table>\n",
              "</div>"
            ],
            "text/plain": [
              "col_0  count\n",
              "row_0       \n",
              "0         24\n",
              "1          3"
            ]
          },
          "metadata": {
            "tags": []
          },
          "execution_count": 107
        }
      ]
    },
    {
      "cell_type": "code",
      "metadata": {
        "id": "jnKKsT7Qk2GT",
        "colab_type": "code",
        "colab": {
          "base_uri": "https://localhost:8080/",
          "height": 168
        },
        "outputId": "b5aec3f6-c445-4011-c406-a6ec80e3ad80"
      },
      "source": [
        "print(classification_report(day3_Actual, day3_pred))"
      ],
      "execution_count": 108,
      "outputs": [
        {
          "output_type": "stream",
          "text": [
            "              precision    recall  f1-score   support\n",
            "\n",
            "           0       0.92      0.96      0.94        24\n",
            "           1       0.50      0.33      0.40         3\n",
            "\n",
            "    accuracy                           0.89        27\n",
            "   macro avg       0.71      0.65      0.67        27\n",
            "weighted avg       0.87      0.89      0.88        27\n",
            "\n"
          ],
          "name": "stdout"
        }
      ]
    },
    {
      "cell_type": "code",
      "metadata": {
        "id": "mj9dorxik2GV",
        "colab_type": "code",
        "colab": {
          "base_uri": "https://localhost:8080/",
          "height": 34
        },
        "outputId": "b5cc52f2-b842-4350-a915-39b154a7f606"
      },
      "source": [
        "day3_recall=recall_score(day3_Actual, day3_pred)\n",
        "day3_recall"
      ],
      "execution_count": 110,
      "outputs": [
        {
          "output_type": "execute_result",
          "data": {
            "text/plain": [
              "0.3333333333333333"
            ]
          },
          "metadata": {
            "tags": []
          },
          "execution_count": 110
        }
      ]
    },
    {
      "cell_type": "code",
      "metadata": {
        "id": "VCaIKlnBk2GY",
        "colab_type": "code",
        "colab": {
          "base_uri": "https://localhost:8080/",
          "height": 50
        },
        "outputId": "e68a7b72-f282-4b41-86a3-3a01a60f946e"
      },
      "source": [
        "print(confusion_matrix(day3_Actual, day3_pred))"
      ],
      "execution_count": 111,
      "outputs": [
        {
          "output_type": "stream",
          "text": [
            "[[23  1]\n",
            " [ 2  1]]\n"
          ],
          "name": "stdout"
        }
      ]
    },
    {
      "cell_type": "markdown",
      "metadata": {
        "id": "NONvvOAqk2Ga",
        "colab_type": "text"
      },
      "source": [
        "## Prediction for Day 4"
      ]
    },
    {
      "cell_type": "markdown",
      "metadata": {
        "id": "sH-ffPgqk2Gb",
        "colab_type": "text"
      },
      "source": [
        "Predicting day 4 data\n",
        "\n",
        "\n",
        "We have received data of day 4(Input features) and we will predict the labels using clf model"
      ]
    },
    {
      "cell_type": "code",
      "metadata": {
        "id": "DURLGETAk2Gb",
        "colab_type": "code",
        "colab": {}
      },
      "source": [
        "day4=pd.read_csv('Day4_input.xls')"
      ],
      "execution_count": 112,
      "outputs": []
    },
    {
      "cell_type": "code",
      "metadata": {
        "id": "_u9iD5Iqk2Gf",
        "colab_type": "code",
        "colab": {
          "base_uri": "https://localhost:8080/",
          "height": 195
        },
        "outputId": "96656530-8a59-415c-8dad-89667a771090"
      },
      "source": [
        "day4.tail()"
      ],
      "execution_count": 113,
      "outputs": [
        {
          "output_type": "execute_result",
          "data": {
            "text/html": [
              "<div>\n",
              "<style scoped>\n",
              "    .dataframe tbody tr th:only-of-type {\n",
              "        vertical-align: middle;\n",
              "    }\n",
              "\n",
              "    .dataframe tbody tr th {\n",
              "        vertical-align: top;\n",
              "    }\n",
              "\n",
              "    .dataframe thead th {\n",
              "        text-align: right;\n",
              "    }\n",
              "</style>\n",
              "<table border=\"1\" class=\"dataframe\">\n",
              "  <thead>\n",
              "    <tr style=\"text-align: right;\">\n",
              "      <th></th>\n",
              "      <th>age</th>\n",
              "      <th>job</th>\n",
              "      <th>marital</th>\n",
              "      <th>education</th>\n",
              "      <th>default</th>\n",
              "      <th>balance</th>\n",
              "      <th>housing</th>\n",
              "      <th>loan</th>\n",
              "      <th>contact</th>\n",
              "      <th>day</th>\n",
              "      <th>month</th>\n",
              "      <th>duration</th>\n",
              "      <th>campaign</th>\n",
              "      <th>pdays</th>\n",
              "      <th>previous</th>\n",
              "      <th>poutcome</th>\n",
              "    </tr>\n",
              "  </thead>\n",
              "  <tbody>\n",
              "    <tr>\n",
              "      <th>22</th>\n",
              "      <td>39</td>\n",
              "      <td>admin.</td>\n",
              "      <td>divorced</td>\n",
              "      <td>secondary</td>\n",
              "      <td>no</td>\n",
              "      <td>83</td>\n",
              "      <td>yes</td>\n",
              "      <td>no</td>\n",
              "      <td>cellular</td>\n",
              "      <td>30</td>\n",
              "      <td>jul</td>\n",
              "      <td>69</td>\n",
              "      <td>6</td>\n",
              "      <td>-1</td>\n",
              "      <td>0</td>\n",
              "      <td>unknown</td>\n",
              "    </tr>\n",
              "    <tr>\n",
              "      <th>23</th>\n",
              "      <td>59</td>\n",
              "      <td>admin.</td>\n",
              "      <td>married</td>\n",
              "      <td>secondary</td>\n",
              "      <td>no</td>\n",
              "      <td>817</td>\n",
              "      <td>no</td>\n",
              "      <td>no</td>\n",
              "      <td>cellular</td>\n",
              "      <td>9</td>\n",
              "      <td>apr</td>\n",
              "      <td>304</td>\n",
              "      <td>1</td>\n",
              "      <td>-1</td>\n",
              "      <td>0</td>\n",
              "      <td>unknown</td>\n",
              "    </tr>\n",
              "    <tr>\n",
              "      <th>24</th>\n",
              "      <td>34</td>\n",
              "      <td>technician</td>\n",
              "      <td>married</td>\n",
              "      <td>tertiary</td>\n",
              "      <td>no</td>\n",
              "      <td>1539</td>\n",
              "      <td>yes</td>\n",
              "      <td>no</td>\n",
              "      <td>cellular</td>\n",
              "      <td>15</td>\n",
              "      <td>jun</td>\n",
              "      <td>441</td>\n",
              "      <td>1</td>\n",
              "      <td>56</td>\n",
              "      <td>1</td>\n",
              "      <td>other</td>\n",
              "    </tr>\n",
              "    <tr>\n",
              "      <th>25</th>\n",
              "      <td>37</td>\n",
              "      <td>management</td>\n",
              "      <td>married</td>\n",
              "      <td>tertiary</td>\n",
              "      <td>no</td>\n",
              "      <td>0</td>\n",
              "      <td>no</td>\n",
              "      <td>no</td>\n",
              "      <td>cellular</td>\n",
              "      <td>16</td>\n",
              "      <td>jul</td>\n",
              "      <td>268</td>\n",
              "      <td>2</td>\n",
              "      <td>182</td>\n",
              "      <td>3</td>\n",
              "      <td>success</td>\n",
              "    </tr>\n",
              "    <tr>\n",
              "      <th>26</th>\n",
              "      <td>27</td>\n",
              "      <td>admin.</td>\n",
              "      <td>divorced</td>\n",
              "      <td>secondary</td>\n",
              "      <td>no</td>\n",
              "      <td>451</td>\n",
              "      <td>yes</td>\n",
              "      <td>no</td>\n",
              "      <td>cellular</td>\n",
              "      <td>16</td>\n",
              "      <td>jul</td>\n",
              "      <td>652</td>\n",
              "      <td>1</td>\n",
              "      <td>-1</td>\n",
              "      <td>0</td>\n",
              "      <td>unknown</td>\n",
              "    </tr>\n",
              "  </tbody>\n",
              "</table>\n",
              "</div>"
            ],
            "text/plain": [
              "    age         job   marital  education default  balance housing loan  \\\n",
              "22   39      admin.  divorced  secondary      no       83     yes   no   \n",
              "23   59      admin.   married  secondary      no      817      no   no   \n",
              "24   34  technician   married   tertiary      no     1539     yes   no   \n",
              "25   37  management   married   tertiary      no        0      no   no   \n",
              "26   27      admin.  divorced  secondary      no      451     yes   no   \n",
              "\n",
              "     contact  day month  duration  campaign  pdays  previous poutcome  \n",
              "22  cellular   30   jul        69         6     -1         0  unknown  \n",
              "23  cellular    9   apr       304         1     -1         0  unknown  \n",
              "24  cellular   15   jun       441         1     56         1    other  \n",
              "25  cellular   16   jul       268         2    182         3  success  \n",
              "26  cellular   16   jul       652         1     -1         0  unknown  "
            ]
          },
          "metadata": {
            "tags": []
          },
          "execution_count": 113
        }
      ]
    },
    {
      "cell_type": "code",
      "metadata": {
        "id": "BfyaRcrFk2Gi",
        "colab_type": "code",
        "colab": {
          "base_uri": "https://localhost:8080/",
          "height": 34
        },
        "outputId": "167e8afc-aae5-47d8-c39d-30af5c4c624d"
      },
      "source": [
        "day4.shape"
      ],
      "execution_count": 114,
      "outputs": [
        {
          "output_type": "execute_result",
          "data": {
            "text/plain": [
              "(27, 16)"
            ]
          },
          "metadata": {
            "tags": []
          },
          "execution_count": 114
        }
      ]
    },
    {
      "cell_type": "markdown",
      "metadata": {
        "id": "IdH799s_2Mt3",
        "colab_type": "text"
      },
      "source": [
        "### Feature Engineering - Day 4"
      ]
    },
    {
      "cell_type": "code",
      "metadata": {
        "id": "E9reE7qYk2Gm",
        "colab_type": "code",
        "colab": {}
      },
      "source": [
        "day4_df=X.append(day4)"
      ],
      "execution_count": 115,
      "outputs": []
    },
    {
      "cell_type": "code",
      "metadata": {
        "id": "6dUum8fik2Gp",
        "colab_type": "code",
        "colab": {
          "base_uri": "https://localhost:8080/",
          "height": 34
        },
        "outputId": "c3946939-0d1b-461f-f7d6-3aa28ff02cb2"
      },
      "source": [
        "day4_df.shape"
      ],
      "execution_count": 116,
      "outputs": [
        {
          "output_type": "execute_result",
          "data": {
            "text/plain": [
              "(4440, 16)"
            ]
          },
          "metadata": {
            "tags": []
          },
          "execution_count": 116
        }
      ]
    },
    {
      "cell_type": "code",
      "metadata": {
        "id": "32Nq_YAFk2HE",
        "colab_type": "code",
        "colab": {
          "base_uri": "https://localhost:8080/",
          "height": 34
        },
        "outputId": "ca5182d8-1d88-4df0-f4ac-bdacc358a022"
      },
      "source": [
        "# Dummify categorical features \n",
        "\n",
        "encoded_day4 = pd.get_dummies(day4_df[cat_cols], drop_first=True)\n",
        "day4_df = day4_df.drop(cat_cols, 1)\n",
        "day4df = pd.concat([day4_df, encoded_day2], 1)\n",
        "day4df = day2df[-27:]\n",
        "day4df.shape"
      ],
      "execution_count": 117,
      "outputs": [
        {
          "output_type": "execute_result",
          "data": {
            "text/plain": [
              "(27, 42)"
            ]
          },
          "metadata": {
            "tags": []
          },
          "execution_count": 117
        }
      ]
    },
    {
      "cell_type": "markdown",
      "metadata": {
        "id": "56Y9Cr02k2HL",
        "colab_type": "text"
      },
      "source": [
        "Predicting day 4 data\n",
        "We have received data of day 4(Input features) and we will predict the labels using clf model\n"
      ]
    },
    {
      "cell_type": "markdown",
      "metadata": {
        "id": "mfRqXzxI1rkL",
        "colab_type": "text"
      },
      "source": [
        "### Predicting day 4 data"
      ]
    },
    {
      "cell_type": "code",
      "metadata": {
        "id": "RZGVdFmNk2HL",
        "colab_type": "code",
        "colab": {}
      },
      "source": [
        "day4_pred=clf.predict(day4df)"
      ],
      "execution_count": 118,
      "outputs": []
    },
    {
      "cell_type": "code",
      "metadata": {
        "id": "WPMY9NSAk2HM",
        "colab_type": "code",
        "colab": {}
      },
      "source": [
        "for i in range(0,27):\n",
        "    if day4_pred[i]>=.5:       # setting threshold to .5\n",
        "       day4_pred[i]=1\n",
        "    else:  \n",
        "       day4_pred[i]=0"
      ],
      "execution_count": 119,
      "outputs": []
    },
    {
      "cell_type": "markdown",
      "metadata": {
        "id": "rEqcpwUTk2HM",
        "colab_type": "text"
      },
      "source": [
        "We have received actual what happend on day3(Actual day3_output)"
      ]
    },
    {
      "cell_type": "code",
      "metadata": {
        "id": "VuxzydeNk2HN",
        "colab_type": "code",
        "colab": {}
      },
      "source": [
        "day4_actual =pd.read_csv('Day4_Actual_output.xls')"
      ],
      "execution_count": 120,
      "outputs": []
    },
    {
      "cell_type": "code",
      "metadata": {
        "id": "UuM_DHlPk2HO",
        "colab_type": "code",
        "colab": {
          "base_uri": "https://localhost:8080/",
          "height": 190
        },
        "outputId": "ed4db2aa-cdbb-44ee-c628-71a6f95199aa"
      },
      "source": [
        "day4_actual=le.fit_transform(day4_actual)\n",
        "pd.crosstab(day4_actual,'count')"
      ],
      "execution_count": 121,
      "outputs": [
        {
          "output_type": "stream",
          "text": [
            "/usr/local/lib/python3.6/dist-packages/sklearn/preprocessing/_label.py:251: DataConversionWarning: A column-vector y was passed when a 1d array was expected. Please change the shape of y to (n_samples, ), for example using ravel().\n",
            "  y = column_or_1d(y, warn=True)\n"
          ],
          "name": "stderr"
        },
        {
          "output_type": "execute_result",
          "data": {
            "text/html": [
              "<div>\n",
              "<style scoped>\n",
              "    .dataframe tbody tr th:only-of-type {\n",
              "        vertical-align: middle;\n",
              "    }\n",
              "\n",
              "    .dataframe tbody tr th {\n",
              "        vertical-align: top;\n",
              "    }\n",
              "\n",
              "    .dataframe thead th {\n",
              "        text-align: right;\n",
              "    }\n",
              "</style>\n",
              "<table border=\"1\" class=\"dataframe\">\n",
              "  <thead>\n",
              "    <tr style=\"text-align: right;\">\n",
              "      <th>col_0</th>\n",
              "      <th>count</th>\n",
              "    </tr>\n",
              "    <tr>\n",
              "      <th>row_0</th>\n",
              "      <th></th>\n",
              "    </tr>\n",
              "  </thead>\n",
              "  <tbody>\n",
              "    <tr>\n",
              "      <th>0</th>\n",
              "      <td>24</td>\n",
              "    </tr>\n",
              "    <tr>\n",
              "      <th>1</th>\n",
              "      <td>3</td>\n",
              "    </tr>\n",
              "  </tbody>\n",
              "</table>\n",
              "</div>"
            ],
            "text/plain": [
              "col_0  count\n",
              "row_0       \n",
              "0         24\n",
              "1          3"
            ]
          },
          "metadata": {
            "tags": []
          },
          "execution_count": 121
        }
      ]
    },
    {
      "cell_type": "code",
      "metadata": {
        "id": "jgLggnbJk2HP",
        "colab_type": "code",
        "colab": {
          "base_uri": "https://localhost:8080/",
          "height": 168
        },
        "outputId": "a7febf4f-3b28-41dc-d9df-a2d28e3bda90"
      },
      "source": [
        "print(classification_report(day4_actual,day4_pred))"
      ],
      "execution_count": 122,
      "outputs": [
        {
          "output_type": "stream",
          "text": [
            "              precision    recall  f1-score   support\n",
            "\n",
            "           0       0.92      0.96      0.94        24\n",
            "           1       0.50      0.33      0.40         3\n",
            "\n",
            "    accuracy                           0.89        27\n",
            "   macro avg       0.71      0.65      0.67        27\n",
            "weighted avg       0.87      0.89      0.88        27\n",
            "\n"
          ],
          "name": "stdout"
        }
      ]
    },
    {
      "cell_type": "code",
      "metadata": {
        "id": "kWLH9knUk2HP",
        "colab_type": "code",
        "colab": {
          "base_uri": "https://localhost:8080/",
          "height": 34
        },
        "outputId": "227349af-d5ed-4aa1-e9f7-07aca84194bd"
      },
      "source": [
        "day4_recall=recall_score(day4_actual,day4_pred)\n",
        "day4_recall"
      ],
      "execution_count": 123,
      "outputs": [
        {
          "output_type": "execute_result",
          "data": {
            "text/plain": [
              "0.3333333333333333"
            ]
          },
          "metadata": {
            "tags": []
          },
          "execution_count": 123
        }
      ]
    },
    {
      "cell_type": "code",
      "metadata": {
        "id": "X-hugAgGk2HQ",
        "colab_type": "code",
        "colab": {
          "base_uri": "https://localhost:8080/",
          "height": 50
        },
        "outputId": "2e16c1f8-01ba-4eeb-97a3-483ff747491a"
      },
      "source": [
        "print(confusion_matrix(day4_actual,day4_pred))"
      ],
      "execution_count": 124,
      "outputs": [
        {
          "output_type": "stream",
          "text": [
            "[[23  1]\n",
            " [ 2  1]]\n"
          ],
          "name": "stdout"
        }
      ]
    },
    {
      "cell_type": "code",
      "metadata": {
        "id": "T3Z_oNGbk2HS",
        "colab_type": "code",
        "colab": {
          "base_uri": "https://localhost:8080/",
          "height": 265
        },
        "outputId": "eea11937-d3fc-4578-bdd5-6e81d940a023"
      },
      "source": [
        "all_recall = [day1_recall, day2_recall, day3_recall, day4_recall]\n",
        "\n",
        "a=range(0,4)\n",
        "plt.bar(a,all_recall)\n",
        "plt.show()"
      ],
      "execution_count": 125,
      "outputs": [
        {
          "output_type": "display_data",
          "data": {
            "image/png": "[encoded data removed]",
            "text/plain": [
              "<Figure size 432x288 with 1 Axes>"
            ]
          },
          "metadata": {
            "tags": []
          }
        }
      ]
    },
    {
      "cell_type": "markdown",
      "metadata": {
        "id": "6FMvtQehk2HS",
        "colab_type": "text"
      },
      "source": [
        "# Retrain the model with day 1,2,3 and 4 data"
      ]
    },
    {
      "cell_type": "code",
      "metadata": {
        "id": "Naghz5mBk2HT",
        "colab_type": "code",
        "colab": {}
      },
      "source": [
        "import numpy as np"
      ],
      "execution_count": 126,
      "outputs": []
    },
    {
      "cell_type": "code",
      "metadata": {
        "id": "BAmuDXtS8m15",
        "colab_type": "code",
        "colab": {}
      },
      "source": [
        "col_names = ['age', 'balance', 'day', 'duration', 'campaign', 'pdays', 'previous',\n",
        "             'job_blue-collar', 'job_entrepreneur', 'job_housemaid',\n",
        "             'job_management', 'job_retired', 'job_self-employed', 'job_services',\n",
        "             'job_student', 'job_technician', 'job_unemployed', 'job_unknown',\n",
        "             'marital_married', 'marital_single', 'education_secondary',\n",
        "             'education_tertiary', 'education_unknown', 'default_yes', 'housing_yes',\n",
        "             'loan_yes', 'contact_telephone', 'contact_unknown', 'month_aug',\n",
        "             'month_dec', 'month_feb', 'month_jan', 'month_jul', 'month_jun',\n",
        "             'month_mar', 'month_may', 'month_nov', 'month_oct', 'month_sep',\n",
        "             'poutcome_other', 'poutcome_success', 'poutcome_unknown']"
      ],
      "execution_count": 127,
      "outputs": []
    },
    {
      "cell_type": "code",
      "metadata": {
        "id": "29I6sAN79DiN",
        "colab_type": "code",
        "colab": {}
      },
      "source": [
        "day1df.columns = col_names\n",
        "day2df.columns = col_names\n",
        "day3df.columns = col_names\n",
        "day4df.columns = col_names\n"
      ],
      "execution_count": 128,
      "outputs": []
    },
    {
      "cell_type": "code",
      "metadata": {
        "id": "MlT5GtEXk2HV",
        "colab_type": "code",
        "colab": {}
      },
      "source": [
        "retrain_X = pd.concat([X_encoded, day1df, day2df, day3df, day4df], axis=0)"
      ],
      "execution_count": 129,
      "outputs": []
    },
    {
      "cell_type": "code",
      "metadata": {
        "id": "xkRhlcHlk2HZ",
        "colab_type": "code",
        "colab": {
          "base_uri": "https://localhost:8080/",
          "height": 34
        },
        "outputId": "aa7bf955-7de7-42b2-c694-400748fcd6a5"
      },
      "source": [
        "retrain_X.shape"
      ],
      "execution_count": 130,
      "outputs": [
        {
          "output_type": "execute_result",
          "data": {
            "text/plain": [
              "(4521, 42)"
            ]
          },
          "metadata": {
            "tags": []
          },
          "execution_count": 130
        }
      ]
    },
    {
      "cell_type": "code",
      "metadata": {
        "id": "eIcpxgNSk2HV",
        "colab_type": "code",
        "colab": {}
      },
      "source": [
        "Y = np.concatenate((y,day1_actual, day2_actual, day3_Actual, day4_actual), axis=0)"
      ],
      "execution_count": 131,
      "outputs": []
    },
    {
      "cell_type": "code",
      "metadata": {
        "id": "5rjQZkMEk2HW",
        "colab_type": "code",
        "colab": {
          "base_uri": "https://localhost:8080/",
          "height": 34
        },
        "outputId": "31eb8a58-23ad-4567-d738-3e352844d80e"
      },
      "source": [
        "Y.shape"
      ],
      "execution_count": 132,
      "outputs": [
        {
          "output_type": "execute_result",
          "data": {
            "text/plain": [
              "(4521,)"
            ]
          },
          "metadata": {
            "tags": []
          },
          "execution_count": 132
        }
      ]
    },
    {
      "cell_type": "code",
      "metadata": {
        "id": "gaBQjuE8k2Ha",
        "colab_type": "code",
        "colab": {
          "base_uri": "https://localhost:8080/",
          "height": 70
        },
        "outputId": "a4e583d0-4614-46ac-b557-87d09785d844"
      },
      "source": [
        "smote=SMOTE(ratio='minority')\n",
        "X_sm, Y_sm=smote.fit_sample(retrain_X, Y)"
      ],
      "execution_count": 133,
      "outputs": [
        {
          "output_type": "stream",
          "text": [
            "/usr/local/lib/python3.6/dist-packages/sklearn/utils/deprecation.py:87: FutureWarning: Function safe_indexing is deprecated; safe_indexing is deprecated in version 0.22 and will be removed in version 0.24.\n",
            "  warnings.warn(msg, category=FutureWarning)\n"
          ],
          "name": "stderr"
        }
      ]
    },
    {
      "cell_type": "code",
      "metadata": {
        "id": "6Lu5s5SFk2Hd",
        "colab_type": "code",
        "colab": {}
      },
      "source": [
        "# Spilitting data in to train and test\n",
        "X_train, X_test, Y_train, Y_test = train_test_split(X_sm, Y_sm, test_size=0.3, random_state=1234)"
      ],
      "execution_count": 134,
      "outputs": []
    },
    {
      "cell_type": "code",
      "metadata": {
        "id": "f4g5QZJnk2Hd",
        "colab_type": "code",
        "colab": {
          "base_uri": "https://localhost:8080/",
          "height": 84
        },
        "outputId": "62307256-316a-46a8-832f-93d559c8dbba"
      },
      "source": [
        "print(X_train.shape)\n",
        "print(X_test.shape)\n",
        "print(Y_train.shape)\n",
        "print(Y_test.shape)"
      ],
      "execution_count": 135,
      "outputs": [
        {
          "output_type": "stream",
          "text": [
            "(5600, 42)\n",
            "(2400, 42)\n",
            "(5600,)\n",
            "(2400,)\n"
          ],
          "name": "stdout"
        }
      ]
    },
    {
      "cell_type": "code",
      "metadata": {
        "id": "acYV84i-k2Hf",
        "colab_type": "code",
        "colab": {}
      },
      "source": [
        "d_train = lgb.Dataset(X_train, label=Y_train)\n",
        "params = {}\n",
        "params['learning_rate'] = 0.003\n",
        "params['boosting_type'] = 'gbdt'\n",
        "params['objective'] = 'binary'\n",
        "params['metric'] = 'binary_logloss'\n",
        "params['sub_feature'] = 0.5\n",
        "params['num_leaves'] = 15\n",
        "params['min_data'] = 50\n",
        "params['max_depth'] = 10\n",
        "clf1 = lgb.train(params, d_train, 100)"
      ],
      "execution_count": 136,
      "outputs": []
    },
    {
      "cell_type": "code",
      "metadata": {
        "id": "sLhR0Hj6k2Hg",
        "colab_type": "code",
        "colab": {}
      },
      "source": [
        "final_y_pred=clf1.predict(X_test)"
      ],
      "execution_count": 137,
      "outputs": []
    },
    {
      "cell_type": "code",
      "metadata": {
        "id": "oF5VHuj3k2Hg",
        "colab_type": "code",
        "colab": {}
      },
      "source": [
        "for i in range(0,2400):\n",
        "    if final_y_pred[i]>=0.5:\n",
        "       final_y_pred[i]=1\n",
        "    else:\n",
        "       final_y_pred[i]=0"
      ],
      "execution_count": 139,
      "outputs": []
    },
    {
      "cell_type": "code",
      "metadata": {
        "id": "aKZ6HYCNk2Hh",
        "colab_type": "code",
        "colab": {
          "base_uri": "https://localhost:8080/",
          "height": 50
        },
        "outputId": "5cf100d8-7c1c-41e3-8620-391d39d9324f"
      },
      "source": [
        "print('Accuracy\\n',accuracy_score(Y_test,final_y_pred))"
      ],
      "execution_count": 140,
      "outputs": [
        {
          "output_type": "stream",
          "text": [
            "Accuracy\n",
            " 0.89125\n"
          ],
          "name": "stdout"
        }
      ]
    },
    {
      "cell_type": "code",
      "metadata": {
        "id": "_46l7Jqxk2Hi",
        "colab_type": "code",
        "colab": {
          "base_uri": "https://localhost:8080/",
          "height": 185
        },
        "outputId": "3c04be3f-7162-49e3-e54d-19e67093314b"
      },
      "source": [
        "print('classification_report\\n',classification_report(Y_test, final_y_pred))"
      ],
      "execution_count": 141,
      "outputs": [
        {
          "output_type": "stream",
          "text": [
            "classification_report\n",
            "               precision    recall  f1-score   support\n",
            "\n",
            "           0       0.88      0.90      0.89      1186\n",
            "           1       0.90      0.88      0.89      1214\n",
            "\n",
            "    accuracy                           0.89      2400\n",
            "   macro avg       0.89      0.89      0.89      2400\n",
            "weighted avg       0.89      0.89      0.89      2400\n",
            "\n"
          ],
          "name": "stdout"
        }
      ]
    },
    {
      "cell_type": "code",
      "metadata": {
        "id": "8i3BSyXVk2Hj",
        "colab_type": "code",
        "colab": {
          "base_uri": "https://localhost:8080/",
          "height": 67
        },
        "outputId": "1600d026-e514-4a15-d5e9-38da4bfeca90"
      },
      "source": [
        "print('confusion_matrix\\n',confusion_matrix(Y_test,final_y_pred))"
      ],
      "execution_count": 142,
      "outputs": [
        {
          "output_type": "stream",
          "text": [
            "confusion_matrix\n",
            " [[1073  113]\n",
            " [ 148 1066]]\n"
          ],
          "name": "stdout"
        }
      ]
    },
    {
      "cell_type": "markdown",
      "metadata": {
        "id": "IetLGakMk2Hk",
        "colab_type": "text"
      },
      "source": [
        "#### Compare Recall_score of final model with previous one"
      ]
    },
    {
      "cell_type": "code",
      "metadata": {
        "id": "HNv1oHR-k2Hk",
        "colab_type": "code",
        "colab": {
          "base_uri": "https://localhost:8080/",
          "height": 34
        },
        "outputId": "f3a867f9-e35e-4bce-a46a-b6d0732d5f25"
      },
      "source": [
        "print(recall_score(y_test,y_pred))  # First model"
      ],
      "execution_count": 144,
      "outputs": [
        {
          "output_type": "stream",
          "text": [
            "0.8848080133555927\n"
          ],
          "name": "stdout"
        }
      ]
    },
    {
      "cell_type": "code",
      "metadata": {
        "id": "lCktVlyrk2Hm",
        "colab_type": "code",
        "colab": {
          "base_uri": "https://localhost:8080/",
          "height": 34
        },
        "outputId": "6d86d397-d926-4435-903c-b6e141e0d284"
      },
      "source": [
        "print(recall_score(Y_test,final_y_pred))  # Final model"
      ],
      "execution_count": 145,
      "outputs": [
        {
          "output_type": "stream",
          "text": [
            "0.8780889621087314\n"
          ],
          "name": "stdout"
        }
      ]
    },
    {
      "cell_type": "markdown",
      "metadata": {
        "id": "rsBPO-Vik2Ho",
        "colab_type": "text"
      },
      "source": [
        "An improvement in recall score is obsevered in the final model built on the entire data\n",
        "Thus we can retrain our existing model to find performance of the model on more data"
      ]
    },
    {
      "cell_type": "markdown",
      "metadata": {
        "id": "Uu_UyNAD093-",
        "colab_type": "text"
      },
      "source": [
        "# Training a Random Forest Classifier on the entire data"
      ]
    },
    {
      "cell_type": "code",
      "metadata": {
        "id": "n2T5Ol3hk2Hq",
        "colab_type": "code",
        "colab": {}
      },
      "source": [
        "rf=RandomForestClassifier() # Define the classifier"
      ],
      "execution_count": 146,
      "outputs": []
    },
    {
      "cell_type": "markdown",
      "metadata": {
        "id": "SRsK9TYck2Hr",
        "colab_type": "text"
      },
      "source": [
        "## 6.2 Train a Random Forest model"
      ]
    },
    {
      "cell_type": "code",
      "metadata": {
        "id": "ZHQEfa9Kk2Hr",
        "colab_type": "code",
        "colab": {
          "base_uri": "https://localhost:8080/",
          "height": 34
        },
        "outputId": "c0946e54-dc3e-491f-b28a-4c1ae2ecedb9"
      },
      "source": [
        "rf_model=rf.fit(X_train,Y_train)\n",
        "rf_train_pred=rf_model.predict(X_train)\n",
        "print(accuracy_score(Y_train,rf_train_pred))"
      ],
      "execution_count": 147,
      "outputs": [
        {
          "output_type": "stream",
          "text": [
            "1.0\n"
          ],
          "name": "stdout"
        }
      ]
    },
    {
      "cell_type": "markdown",
      "metadata": {
        "id": "1ArngwgFk2Hs",
        "colab_type": "text"
      },
      "source": [
        "##### Validate the model on validation data"
      ]
    },
    {
      "cell_type": "code",
      "metadata": {
        "id": "YGC-1s9_k2Hs",
        "colab_type": "code",
        "colab": {
          "base_uri": "https://localhost:8080/",
          "height": 34
        },
        "outputId": "4f21e3ec-c7f1-4e2f-b9c9-65269cd26475"
      },
      "source": [
        "rf_test_pred=rf_model.predict(X_test)\n",
        "print(accuracy_score(rf_test_pred,Y_test))"
      ],
      "execution_count": 148,
      "outputs": [
        {
          "output_type": "stream",
          "text": [
            "0.9304166666666667\n"
          ],
          "name": "stdout"
        }
      ]
    },
    {
      "cell_type": "code",
      "metadata": {
        "id": "J3a4MqIAk2Ht",
        "colab_type": "code",
        "colab": {
          "base_uri": "https://localhost:8080/",
          "height": 218
        },
        "outputId": "3a9a3c53-8818-4fbb-84c7-676a1b2588f8"
      },
      "source": [
        "print(confusion_matrix(Y_test,rf_test_pred))\n",
        "print('classification_report \\n',classification_report(rf_test_pred,Y_test))"
      ],
      "execution_count": 149,
      "outputs": [
        {
          "output_type": "stream",
          "text": [
            "[[1122   64]\n",
            " [ 103 1111]]\n",
            "classification_report \n",
            "               precision    recall  f1-score   support\n",
            "\n",
            "           0       0.95      0.92      0.93      1225\n",
            "           1       0.92      0.95      0.93      1175\n",
            "\n",
            "    accuracy                           0.93      2400\n",
            "   macro avg       0.93      0.93      0.93      2400\n",
            "weighted avg       0.93      0.93      0.93      2400\n",
            "\n"
          ],
          "name": "stdout"
        }
      ]
    },
    {
      "cell_type": "markdown",
      "metadata": {
        "id": "gWe1Ml9Rk2Hu",
        "colab_type": "text"
      },
      "source": [
        "#### Recall score of RandomForest model"
      ]
    },
    {
      "cell_type": "code",
      "metadata": {
        "id": "Yfv3IfFwk2Hv",
        "colab_type": "code",
        "colab": {
          "base_uri": "https://localhost:8080/",
          "height": 34
        },
        "outputId": "350bae71-b8cb-4089-c249-ce5ce7bb6314"
      },
      "source": [
        "rf_recall=recall_score(rf_test_pred,Y_test)\n",
        "rf_recall"
      ],
      "execution_count": 150,
      "outputs": [
        {
          "output_type": "execute_result",
          "data": {
            "text/plain": [
              "0.945531914893617"
            ]
          },
          "metadata": {
            "tags": []
          },
          "execution_count": 150
        }
      ]
    },
    {
      "cell_type": "markdown",
      "metadata": {
        "id": "5J_kaf5yk2Hv",
        "colab_type": "text"
      },
      "source": [
        "#### Recall Score of LightGBM model"
      ]
    },
    {
      "cell_type": "code",
      "metadata": {
        "id": "q4N2QtPQk2Hw",
        "colab_type": "code",
        "colab": {
          "base_uri": "https://localhost:8080/",
          "height": 34
        },
        "outputId": "36bf3edb-6cb3-4902-fe03-0324bb3f6b1b"
      },
      "source": [
        "lightGBM_recall=recall_score(Y_test,final_y_pred)\n",
        "lightGBM_recall"
      ],
      "execution_count": 151,
      "outputs": [
        {
          "output_type": "execute_result",
          "data": {
            "text/plain": [
              "0.8780889621087314"
            ]
          },
          "metadata": {
            "tags": []
          },
          "execution_count": 151
        }
      ]
    },
    {
      "cell_type": "markdown",
      "metadata": {
        "id": "uUKi8KT1k2Hw",
        "colab_type": "text"
      },
      "source": [
        "#### We can conclude that the performance of Random forest is better than LightGBM in terms of all the classification performance metrics"
      ]
    },
    {
      "cell_type": "markdown",
      "metadata": {
        "id": "seP2Gt9Ik2Hw",
        "colab_type": "text"
      },
      "source": [
        "## Let's find ROC-AUC score and curve of Random forest model"
      ]
    },
    {
      "cell_type": "code",
      "metadata": {
        "id": "P_daNypfk2Hx",
        "colab_type": "code",
        "colab": {}
      },
      "source": [
        "predict_probabilities = rf_model.predict_proba(X_test)[:,1]"
      ],
      "execution_count": 152,
      "outputs": []
    },
    {
      "cell_type": "code",
      "metadata": {
        "id": "Z_ikLbUyk2Hx",
        "colab_type": "code",
        "colab": {
          "base_uri": "https://localhost:8080/",
          "height": 34
        },
        "outputId": "674ce999-7f76-469b-d51b-13d7e53d76c7"
      },
      "source": [
        "from sklearn.metrics import roc_auc_score, roc_curve\n",
        "\n",
        "\n",
        "ROCAUC=roc_auc_score(Y_test, rf_test_pred)\n",
        "ROCAUC"
      ],
      "execution_count": 153,
      "outputs": [
        {
          "output_type": "execute_result",
          "data": {
            "text/plain": [
              "0.9305968034538035"
            ]
          },
          "metadata": {
            "tags": []
          },
          "execution_count": 153
        }
      ]
    },
    {
      "cell_type": "code",
      "metadata": {
        "id": "xJO7s8U1k2Hy",
        "colab_type": "code",
        "colab": {
          "base_uri": "https://localhost:8080/",
          "height": 299
        },
        "outputId": "7c4c7c8f-cafc-4a38-f897-87173db41436"
      },
      "source": [
        "fpr, tpr, thresholds = roc_curve(Y_test, predict_probabilities)\n",
        "plt.plot(fpr, tpr)\n",
        "plt.xlim([0.0, 1.0])\n",
        "plt.ylim([0.0, 1.0])\n",
        "plt.title('ROC curve for Term Deposit data')\n",
        "plt.xlabel('False Positive Rate (1 - Specificity)')\n",
        "plt.ylabel('True Positive Rate (Sensitivity)')\n",
        "plt.grid(True)\n",
        "plt.show()"
      ],
      "execution_count": 154,
      "outputs": [
        {
          "output_type": "display_data",
          "data": {
            "image/png": "[encoded data removed]",
            "text/plain": [
              "<Figure size 432x288 with 1 Axes>"
            ]
          },
          "metadata": {
            "tags": []
          }
        }
      ]
    }
  ]
}