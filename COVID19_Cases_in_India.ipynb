{
  "nbformat": 4,
  "nbformat_minor": 0,
  "metadata": {
    "colab": {
      "name": "COVID19 Cases in India",
      "provenance": [],
      "collapsed_sections": [],
      "toc_visible": true,
      "authorship_tag": "ABX9TyMnCUNzKWii2sGgvC/vt6yI",
      "include_colab_link": true
    },
    "kernelspec": {
      "name": "python3",
      "display_name": "Python 3"
    }
  },
  "cells": [
    {
      "cell_type": "markdown",
      "metadata": {
        "id": "view-in-github",
        "colab_type": "text"
      },
      "source": [
        "<a href=\"https://colab.research.google.com/github/sanu1230/Professional_Projects/blob/master/COVID19_Cases_in_India.ipynb\" target=\"_parent\"><img src=\"https://colab.research.google.com/assets/colab-badge.svg\" alt=\"Open In Colab\"/></a>"
      ]
    },
    {
      "cell_type": "markdown",
      "metadata": {
        "id": "rXMuAaMIS4WY",
        "colab_type": "text"
      },
      "source": [
        "# COVID19 Cases in India"
      ]
    },
    {
      "cell_type": "markdown",
      "metadata": {
        "id": "ayTbCR8GTCSr",
        "colab_type": "text"
      },
      "source": [
        "## Task\n",
        "\n",
        "**To find insights from the data**"
      ]
    },
    {
      "cell_type": "markdown",
      "metadata": {
        "id": "e88UbvTXTS1V",
        "colab_type": "text"
      },
      "source": [
        "## Attribute\n",
        "\n",
        "- Sno - Serial number\n",
        "- Date -  Date of diagnoses\n",
        "- State/UnionTerritory\n",
        "- ConfirmedIndianNational \n",
        "- ConfirmedForeignNational\n",
        "- Cured\n",
        "- Deaths\n",
        "- Confirmed - confirmed positive\n"
      ]
    },
    {
      "cell_type": "markdown",
      "metadata": {
        "id": "sGXzogX1WWCf",
        "colab_type": "text"
      },
      "source": [
        "## Loading necessary packages"
      ]
    },
    {
      "cell_type": "code",
      "metadata": {
        "id": "WWPMoxscReI5",
        "colab_type": "code",
        "colab": {
          "base_uri": "https://localhost:8080/",
          "height": 403
        },
        "outputId": "b852cdb8-f3cc-4c25-9211-db8bd7c471da"
      },
      "source": [
        "!pip -q install pandas_profiling==2.5.0"
      ],
      "execution_count": 2,
      "outputs": [
        {
          "output_type": "stream",
          "text": [
            "\u001b[K     |████████████████████████████████| 194kB 2.8MB/s \n",
            "\u001b[K     |████████████████████████████████| 10.4MB 8.8MB/s \n",
            "\u001b[K     |████████████████████████████████| 133kB 42.1MB/s \n",
            "\u001b[K     |████████████████████████████████| 614kB 35.2MB/s \n",
            "\u001b[K     |████████████████████████████████| 1.5MB 34.9MB/s \n",
            "\u001b[K     |████████████████████████████████| 61kB 5.5MB/s \n",
            "\u001b[K     |████████████████████████████████| 61kB 5.3MB/s \n",
            "\u001b[K     |████████████████████████████████| 256kB 42.2MB/s \n",
            "\u001b[K     |████████████████████████████████| 61kB 7.2MB/s \n",
            "\u001b[K     |████████████████████████████████| 327kB 47.8MB/s \n",
            "\u001b[K     |████████████████████████████████| 215kB 38.6MB/s \n",
            "\u001b[K     |████████████████████████████████| 51kB 883kB/s \n",
            "\u001b[K     |████████████████████████████████| 61kB 5.2MB/s \n",
            "\u001b[K     |████████████████████████████████| 747kB 33.7MB/s \n",
            "\u001b[?25h  Building wheel for pandas-profiling (setup.py) ... \u001b[?25l\u001b[?25hdone\n",
            "  Building wheel for confuse (setup.py) ... \u001b[?25l\u001b[?25hdone\n",
            "  Building wheel for visions (setup.py) ... \u001b[?25l\u001b[?25hdone\n",
            "  Building wheel for htmlmin (setup.py) ... \u001b[?25l\u001b[?25hdone\n",
            "  Building wheel for tangled-up-in-unicode (setup.py) ... \u001b[?25l\u001b[?25hdone\n",
            "  Building wheel for attr (setup.py) ... \u001b[?25l\u001b[?25hdone\n",
            "\u001b[31mERROR: google-colab 1.0.0 has requirement pandas~=1.0.0; python_version >= \"3.0\", but you'll have pandas 0.25.3 which is incompatible.\u001b[0m\n",
            "\u001b[31mERROR: google-colab 1.0.0 has requirement requests~=2.23.0, but you'll have requests 2.22.0 which is incompatible.\u001b[0m\n",
            "\u001b[31mERROR: datascience 0.10.6 has requirement folium==0.2.1, but you'll have folium 0.8.3 which is incompatible.\u001b[0m\n"
          ],
          "name": "stdout"
        }
      ]
    },
    {
      "cell_type": "code",
      "metadata": {
        "id": "xS6nI8cfWexV",
        "colab_type": "code",
        "colab": {
          "base_uri": "https://localhost:8080/",
          "height": 101
        },
        "outputId": "f2b38093-525c-4722-c7c5-ffade7ee0882"
      },
      "source": [
        "!pip freeze | grep pandas"
      ],
      "execution_count": 1,
      "outputs": [
        {
          "output_type": "stream",
          "text": [
            "pandas==0.25.3\n",
            "pandas-datareader==0.8.1\n",
            "pandas-gbq==0.11.0\n",
            "pandas-profiling==2.5.0\n",
            "sklearn-pandas==1.8.0\n"
          ],
          "name": "stdout"
        }
      ]
    },
    {
      "cell_type": "code",
      "metadata": {
        "id": "SRkzZQjTWjN6",
        "colab_type": "code",
        "colab": {
          "base_uri": "https://localhost:8080/",
          "height": 134
        },
        "outputId": "fbb6266a-0423-4782-bdc8-8336bfcf68fa"
      },
      "source": [
        "!pip -q install imgaug==0.2.6\n",
        "!pip -q install lime\n",
        "!pip -q install shap\n",
        "!pip -q install eli5"
      ],
      "execution_count": 2,
      "outputs": [
        {
          "output_type": "stream",
          "text": [
            "\u001b[?25l\r\u001b[K     |▌                               | 10kB 14.8MB/s eta 0:00:01\r\u001b[K     |█                               | 20kB 1.8MB/s eta 0:00:01\r\u001b[K     |█▋                              | 30kB 2.3MB/s eta 0:00:01\r\u001b[K     |██                              | 40kB 2.6MB/s eta 0:00:01\r\u001b[K     |██▋                             | 51kB 2.0MB/s eta 0:00:01\r\u001b[K     |███▏                            | 61kB 2.3MB/s eta 0:00:01\r\u001b[K     |███▋                            | 71kB 2.5MB/s eta 0:00:01\r\u001b[K     |████▏                           | 81kB 2.8MB/s eta 0:00:01\r\u001b[K     |████▊                           | 92kB 2.9MB/s eta 0:00:01\r\u001b[K     |█████▏                          | 102kB 2.8MB/s eta 0:00:01\r\u001b[K     |█████▊                          | 112kB 2.8MB/s eta 0:00:01\r\u001b[K     |██████▎                         | 122kB 2.8MB/s eta 0:00:01\r\u001b[K     |██████▊                         | 133kB 2.8MB/s eta 0:00:01\r\u001b[K     |███████▎                        | 143kB 2.8MB/s eta 0:00:01\r\u001b[K     |███████▉                        | 153kB 2.8MB/s eta 0:00:01\r\u001b[K     |████████▎                       | 163kB 2.8MB/s eta 0:00:01\r\u001b[K     |████████▉                       | 174kB 2.8MB/s eta 0:00:01\r\u001b[K     |█████████▍                      | 184kB 2.8MB/s eta 0:00:01\r\u001b[K     |█████████▉                      | 194kB 2.8MB/s eta 0:00:01\r\u001b[K     |██████████▍                     | 204kB 2.8MB/s eta 0:00:01\r\u001b[K     |███████████                     | 215kB 2.8MB/s eta 0:00:01\r\u001b[K     |███████████▍                    | 225kB 2.8MB/s eta 0:00:01\r\u001b[K     |████████████                    | 235kB 2.8MB/s eta 0:00:01\r\u001b[K     |████████████▌                   | 245kB 2.8MB/s eta 0:00:01\r\u001b[K     |█████████████                   | 256kB 2.8MB/s eta 0:00:01\r\u001b[K     |█████████████▌                  | 266kB 2.8MB/s eta 0:00:01\r\u001b[K     |██████████████                  | 276kB 2.8MB/s eta 0:00:01\r\u001b[K     |██████████████▌                 | 286kB 2.8MB/s eta 0:00:01\r\u001b[K     |███████████████                 | 296kB 2.8MB/s eta 0:00:01\r\u001b[K     |███████████████▋                | 307kB 2.8MB/s eta 0:00:01\r\u001b[K     |████████████████                | 317kB 2.8MB/s eta 0:00:01\r\u001b[K     |████████████████▋               | 327kB 2.8MB/s eta 0:00:01\r\u001b[K     |█████████████████▏              | 337kB 2.8MB/s eta 0:00:01\r\u001b[K     |█████████████████▋              | 348kB 2.8MB/s eta 0:00:01\r\u001b[K     |██████████████████▏             | 358kB 2.8MB/s eta 0:00:01\r\u001b[K     |██████████████████▊             | 368kB 2.8MB/s eta 0:00:01\r\u001b[K     |███████████████████▏            | 378kB 2.8MB/s eta 0:00:01\r\u001b[K     |███████████████████▊            | 389kB 2.8MB/s eta 0:00:01\r\u001b[K     |████████████████████▎           | 399kB 2.8MB/s eta 0:00:01\r\u001b[K     |████████████████████▊           | 409kB 2.8MB/s eta 0:00:01\r\u001b[K     |█████████████████████▎          | 419kB 2.8MB/s eta 0:00:01\r\u001b[K     |█████████████████████▉          | 430kB 2.8MB/s eta 0:00:01\r\u001b[K     |██████████████████████▎         | 440kB 2.8MB/s eta 0:00:01\r\u001b[K     |██████████████████████▉         | 450kB 2.8MB/s eta 0:00:01\r\u001b[K     |███████████████████████▍        | 460kB 2.8MB/s eta 0:00:01\r\u001b[K     |███████████████████████▉        | 471kB 2.8MB/s eta 0:00:01\r\u001b[K     |████████████████████████▍       | 481kB 2.8MB/s eta 0:00:01\r\u001b[K     |█████████████████████████       | 491kB 2.8MB/s eta 0:00:01\r\u001b[K     |█████████████████████████▍      | 501kB 2.8MB/s eta 0:00:01\r\u001b[K     |██████████████████████████      | 512kB 2.8MB/s eta 0:00:01\r\u001b[K     |██████████████████████████▌     | 522kB 2.8MB/s eta 0:00:01\r\u001b[K     |███████████████████████████     | 532kB 2.8MB/s eta 0:00:01\r\u001b[K     |███████████████████████████▌    | 542kB 2.8MB/s eta 0:00:01\r\u001b[K     |████████████████████████████    | 552kB 2.8MB/s eta 0:00:01\r\u001b[K     |████████████████████████████▌   | 563kB 2.8MB/s eta 0:00:01\r\u001b[K     |█████████████████████████████   | 573kB 2.8MB/s eta 0:00:01\r\u001b[K     |█████████████████████████████▋  | 583kB 2.8MB/s eta 0:00:01\r\u001b[K     |██████████████████████████████  | 593kB 2.8MB/s eta 0:00:01\r\u001b[K     |██████████████████████████████▋ | 604kB 2.8MB/s eta 0:00:01\r\u001b[K     |███████████████████████████████▏| 614kB 2.8MB/s eta 0:00:01\r\u001b[K     |███████████████████████████████▋| 624kB 2.8MB/s eta 0:00:01\r\u001b[K     |████████████████████████████████| 634kB 2.8MB/s \n",
            "\u001b[?25h  Building wheel for imgaug (setup.py) ... \u001b[?25l\u001b[?25hdone\n",
            "\u001b[K     |████████████████████████████████| 276kB 2.8MB/s \n",
            "\u001b[?25h  Building wheel for lime (setup.py) ... \u001b[?25l\u001b[?25hdone\n",
            "\u001b[K     |████████████████████████████████| 276kB 2.8MB/s \n",
            "\u001b[?25h  Building wheel for shap (setup.py) ... \u001b[?25l\u001b[?25hdone\n",
            "\u001b[K     |████████████████████████████████| 112kB 2.8MB/s \n",
            "\u001b[?25h"
          ],
          "name": "stdout"
        }
      ]
    },
    {
      "cell_type": "code",
      "metadata": {
        "id": "511-2BQzW_sD",
        "colab_type": "code",
        "colab": {}
      },
      "source": [
        "import warnings\n",
        "warnings.filterwarnings(\"ignore\")\n",
        "import pandas as pd\n",
        "import numpy as np\n",
        "import matplotlib.pyplot as plt\n",
        "%matplotlib inline\n",
        "import seaborn as sns\n",
        "import plotly.express as px\n",
        "import pandas_profiling\n",
        "from IPython.display import display, HTML, IFrame"
      ],
      "execution_count": 3,
      "outputs": []
    },
    {
      "cell_type": "code",
      "metadata": {
        "id": "xyA3rpFLX_HK",
        "colab_type": "code",
        "colab": {
          "base_uri": "https://localhost:8080/",
          "height": 121
        },
        "outputId": "8be96d26-ef66-4f2b-f63e-20c0c04c1e35"
      },
      "source": [
        "from google.colab import drive\n",
        "drive.mount('/content/drive')"
      ],
      "execution_count": 4,
      "outputs": [
        {
          "output_type": "stream",
          "text": [
            "Go to this URL in a browser: https://accounts.google.com/o/oauth2/auth?client_id=947318989803-6bn6qk8qdgf4n4g3pfee6491hc0brc4i.apps.googleusercontent.com&redirect_uri=urn%3aietf%3awg%3aoauth%3a2.0%3aoob&response_type=code&scope=email%20https%3a%2f%2fwww.googleapis.com%2fauth%2fdocs.test%20https%3a%2f%2fwww.googleapis.com%2fauth%2fdrive%20https%3a%2f%2fwww.googleapis.com%2fauth%2fdrive.photos.readonly%20https%3a%2f%2fwww.googleapis.com%2fauth%2fpeopleapi.readonly\n",
            "\n",
            "Enter your authorization code:\n",
            "··········\n",
            "Mounted at /content/drive\n"
          ],
          "name": "stdout"
        }
      ]
    },
    {
      "cell_type": "code",
      "metadata": {
        "id": "qw_m9Sdvf8YJ",
        "colab_type": "code",
        "colab": {
          "base_uri": "https://localhost:8080/",
          "height": 195
        },
        "outputId": "ccf64703-2781-4627-aa8f-278809afcfdf"
      },
      "source": [
        "# This is our main dataset\n",
        "df = pd.read_csv('/content/drive/My Drive/Colab Notebooks/ML Projects/My Projects/COVID19 INDIA/Covid_19_India/covid_19_india.csv')\n",
        "df.head()"
      ],
      "execution_count": 5,
      "outputs": [
        {
          "output_type": "execute_result",
          "data": {
            "text/html": [
              "<div>\n",
              "<style scoped>\n",
              "    .dataframe tbody tr th:only-of-type {\n",
              "        vertical-align: middle;\n",
              "    }\n",
              "\n",
              "    .dataframe tbody tr th {\n",
              "        vertical-align: top;\n",
              "    }\n",
              "\n",
              "    .dataframe thead th {\n",
              "        text-align: right;\n",
              "    }\n",
              "</style>\n",
              "<table border=\"1\" class=\"dataframe\">\n",
              "  <thead>\n",
              "    <tr style=\"text-align: right;\">\n",
              "      <th></th>\n",
              "      <th>Sno</th>\n",
              "      <th>Date</th>\n",
              "      <th>Time</th>\n",
              "      <th>State/UnionTerritory</th>\n",
              "      <th>ConfirmedIndianNational</th>\n",
              "      <th>ConfirmedForeignNational</th>\n",
              "      <th>Cured</th>\n",
              "      <th>Deaths</th>\n",
              "      <th>Confirmed</th>\n",
              "    </tr>\n",
              "  </thead>\n",
              "  <tbody>\n",
              "    <tr>\n",
              "      <th>0</th>\n",
              "      <td>1</td>\n",
              "      <td>30/01/20</td>\n",
              "      <td>6:00 PM</td>\n",
              "      <td>Kerala</td>\n",
              "      <td>1</td>\n",
              "      <td>0</td>\n",
              "      <td>0</td>\n",
              "      <td>0</td>\n",
              "      <td>1</td>\n",
              "    </tr>\n",
              "    <tr>\n",
              "      <th>1</th>\n",
              "      <td>2</td>\n",
              "      <td>31/01/20</td>\n",
              "      <td>6:00 PM</td>\n",
              "      <td>Kerala</td>\n",
              "      <td>1</td>\n",
              "      <td>0</td>\n",
              "      <td>0</td>\n",
              "      <td>0</td>\n",
              "      <td>1</td>\n",
              "    </tr>\n",
              "    <tr>\n",
              "      <th>2</th>\n",
              "      <td>3</td>\n",
              "      <td>1/2/2020</td>\n",
              "      <td>6:00 PM</td>\n",
              "      <td>Kerala</td>\n",
              "      <td>2</td>\n",
              "      <td>0</td>\n",
              "      <td>0</td>\n",
              "      <td>0</td>\n",
              "      <td>2</td>\n",
              "    </tr>\n",
              "    <tr>\n",
              "      <th>3</th>\n",
              "      <td>4</td>\n",
              "      <td>2/2/2020</td>\n",
              "      <td>6:00 PM</td>\n",
              "      <td>Kerala</td>\n",
              "      <td>3</td>\n",
              "      <td>0</td>\n",
              "      <td>0</td>\n",
              "      <td>0</td>\n",
              "      <td>3</td>\n",
              "    </tr>\n",
              "    <tr>\n",
              "      <th>4</th>\n",
              "      <td>5</td>\n",
              "      <td>3/2/2020</td>\n",
              "      <td>6:00 PM</td>\n",
              "      <td>Kerala</td>\n",
              "      <td>3</td>\n",
              "      <td>0</td>\n",
              "      <td>0</td>\n",
              "      <td>0</td>\n",
              "      <td>3</td>\n",
              "    </tr>\n",
              "  </tbody>\n",
              "</table>\n",
              "</div>"
            ],
            "text/plain": [
              "   Sno      Date     Time  ... Cured Deaths Confirmed\n",
              "0    1  30/01/20  6:00 PM  ...     0      0         1\n",
              "1    2  31/01/20  6:00 PM  ...     0      0         1\n",
              "2    3  1/2/2020  6:00 PM  ...     0      0         2\n",
              "3    4  2/2/2020  6:00 PM  ...     0      0         3\n",
              "4    5  3/2/2020  6:00 PM  ...     0      0         3\n",
              "\n",
              "[5 rows x 9 columns]"
            ]
          },
          "metadata": {
            "tags": []
          },
          "execution_count": 5
        }
      ]
    },
    {
      "cell_type": "code",
      "metadata": {
        "id": "fsm8JsfTZtpb",
        "colab_type": "code",
        "colab": {
          "base_uri": "https://localhost:8080/",
          "height": 34
        },
        "outputId": "78502192-1647-4525-cd37-d11846197821"
      },
      "source": [
        "df.shape"
      ],
      "execution_count": 6,
      "outputs": [
        {
          "output_type": "execute_result",
          "data": {
            "text/plain": [
              "(3351, 9)"
            ]
          },
          "metadata": {
            "tags": []
          },
          "execution_count": 6
        }
      ]
    },
    {
      "cell_type": "code",
      "metadata": {
        "id": "aaCW_sokjecH",
        "colab_type": "code",
        "colab": {}
      },
      "source": [
        "df1 = df.copy()"
      ],
      "execution_count": 7,
      "outputs": []
    },
    {
      "cell_type": "code",
      "metadata": {
        "id": "B4a1LlSqjhnc",
        "colab_type": "code",
        "colab": {}
      },
      "source": [
        "df = df1.copy()"
      ],
      "execution_count": 207,
      "outputs": []
    },
    {
      "cell_type": "markdown",
      "metadata": {
        "id": "TAVJTUfJpLQq",
        "colab_type": "text"
      },
      "source": [
        "# Data Cleaning"
      ]
    },
    {
      "cell_type": "code",
      "metadata": {
        "id": "egcWd2XQhGfq",
        "colab_type": "code",
        "colab": {
          "base_uri": "https://localhost:8080/",
          "height": 84
        },
        "outputId": "7b8df5f1-2b25-4936-a1bd-07493d47ec47"
      },
      "source": [
        "df.columns"
      ],
      "execution_count": 208,
      "outputs": [
        {
          "output_type": "execute_result",
          "data": {
            "text/plain": [
              "Index(['Sno', 'Date', 'Time', 'State/UnionTerritory',\n",
              "       'ConfirmedIndianNational', 'ConfirmedForeignNational', 'Cured',\n",
              "       'Deaths', 'Confirmed'],\n",
              "      dtype='object')"
            ]
          },
          "metadata": {
            "tags": []
          },
          "execution_count": 208
        }
      ]
    },
    {
      "cell_type": "code",
      "metadata": {
        "id": "2fNhwEufnkNQ",
        "colab_type": "code",
        "colab": {}
      },
      "source": [
        "#@title Changing columns names"
      ],
      "execution_count": 209,
      "outputs": []
    },
    {
      "cell_type": "code",
      "metadata": {
        "id": "tQ7UP-MuhJcL",
        "colab_type": "code",
        "colab": {
          "base_uri": "https://localhost:8080/",
          "height": 67
        },
        "outputId": "565c67e7-b7eb-419e-f0ff-4f07d9d406db"
      },
      "source": [
        "df.columns = ['sr', 'date', 'time', 'state', 'is_indian', 'is_foreigner', 'cured', 'deaths', 'positive']\n",
        "df.columns"
      ],
      "execution_count": 210,
      "outputs": [
        {
          "output_type": "execute_result",
          "data": {
            "text/plain": [
              "Index(['sr', 'date', 'time', 'state', 'is_indian', 'is_foreigner', 'cured',\n",
              "       'deaths', 'positive'],\n",
              "      dtype='object')"
            ]
          },
          "metadata": {
            "tags": []
          },
          "execution_count": 210
        }
      ]
    },
    {
      "cell_type": "code",
      "metadata": {
        "id": "vv32MKfniH2K",
        "colab_type": "code",
        "colab": {
          "base_uri": "https://localhost:8080/",
          "height": 706
        },
        "outputId": "6f2720df-dabe-44fc-9b2f-30764606940a"
      },
      "source": [
        "df.state.value_counts()"
      ],
      "execution_count": 211,
      "outputs": [
        {
          "output_type": "execute_result",
          "data": {
            "text/plain": [
              "Kerala                                      146\n",
              "Delhi                                       114\n",
              "Rajasthan                                   113\n",
              "Uttar Pradesh                               112\n",
              "Haryana                                     112\n",
              "Tamil Nadu                                  109\n",
              "Ladakh                                      109\n",
              "Karnataka                                   107\n",
              "Maharashtra                                 107\n",
              "Punjab                                      107\n",
              "Jammu and Kashmir                           107\n",
              "Andhra Pradesh                              104\n",
              "Telengana                                   102\n",
              "Uttarakhand                                 101\n",
              "Odisha                                      100\n",
              "Puducherry                                   98\n",
              "West Bengal                                  98\n",
              "Chhattisgarh                                 97\n",
              "Chandigarh                                   97\n",
              "Gujarat                                      96\n",
              "Madhya Pradesh                               95\n",
              "Himachal Pradesh                             95\n",
              "Bihar                                        94\n",
              "Manipur                                      92\n",
              "Mizoram                                      91\n",
              "Andaman and Nicobar Islands                  90\n",
              "Goa                                          90\n",
              "Jharkhand                                    84\n",
              "Assam                                        84\n",
              "Arunachal Pradesh                            82\n",
              "Tripura                                      78\n",
              "Meghalaya                                    71\n",
              "Nagaland                                     38\n",
              "Dadar Nagar Haveli                           37\n",
              "Cases being reassigned to states             35\n",
              "Sikkim                                       31\n",
              "Telangana                                    12\n",
              "Dadra and Nagar Haveli and Daman and Diu     12\n",
              "Unassigned                                    3\n",
              "Daman & Diu                                   1\n",
              "Name: state, dtype: int64"
            ]
          },
          "metadata": {
            "tags": []
          },
          "execution_count": 211
        }
      ]
    },
    {
      "cell_type": "code",
      "metadata": {
        "id": "PhvOQtGfii08",
        "colab_type": "code",
        "colab": {
          "base_uri": "https://localhost:8080/",
          "height": 638
        },
        "outputId": "6fb04c43-892b-4ca3-9379-7f006075cad7"
      },
      "source": [
        "# Above we see that there are few values which are not states and some are reapeted\n",
        "# Unassigned &  Cases being reassigned to states are not states, hence lets drop them\n",
        "# Lets merge 'Dadar Nagar Haveli & 'Daman & Diu' in 'Dadra and Nagar Haveli and Daman and Diu'\n",
        "\n",
        "df['state'] = df.state.replace({'Dadar Nagar Haveli': 'Dadra and Nagar Haveli and Daman and Diu'})\n",
        "df['state'] = df.state.replace({'Daman & Diu': 'Dadra and Nagar Haveli and Daman and Diu'})\n",
        "\n",
        "df['state'] = df.state.replace({'Cases being reassigned to states': np.nan})\n",
        "df['state'] = df.state.replace({'Unassigned': np.nan})\n",
        "\n",
        "df['state'].value_counts()"
      ],
      "execution_count": 212,
      "outputs": [
        {
          "output_type": "execute_result",
          "data": {
            "text/plain": [
              "Kerala                                      146\n",
              "Delhi                                       114\n",
              "Rajasthan                                   113\n",
              "Uttar Pradesh                               112\n",
              "Haryana                                     112\n",
              "Tamil Nadu                                  109\n",
              "Ladakh                                      109\n",
              "Maharashtra                                 107\n",
              "Karnataka                                   107\n",
              "Jammu and Kashmir                           107\n",
              "Punjab                                      107\n",
              "Andhra Pradesh                              104\n",
              "Telengana                                   102\n",
              "Uttarakhand                                 101\n",
              "Odisha                                      100\n",
              "Puducherry                                   98\n",
              "West Bengal                                  98\n",
              "Chhattisgarh                                 97\n",
              "Chandigarh                                   97\n",
              "Gujarat                                      96\n",
              "Madhya Pradesh                               95\n",
              "Himachal Pradesh                             95\n",
              "Bihar                                        94\n",
              "Manipur                                      92\n",
              "Mizoram                                      91\n",
              "Goa                                          90\n",
              "Andaman and Nicobar Islands                  90\n",
              "Jharkhand                                    84\n",
              "Assam                                        84\n",
              "Arunachal Pradesh                            82\n",
              "Tripura                                      78\n",
              "Meghalaya                                    71\n",
              "Dadra and Nagar Haveli and Daman and Diu     50\n",
              "Nagaland                                     38\n",
              "Sikkim                                       31\n",
              "Telangana                                    12\n",
              "Name: state, dtype: int64"
            ]
          },
          "metadata": {
            "tags": []
          },
          "execution_count": 212
        }
      ]
    },
    {
      "cell_type": "code",
      "metadata": {
        "id": "aCJLgy1umA7C",
        "colab_type": "code",
        "colab": {
          "base_uri": "https://localhost:8080/",
          "height": 185
        },
        "outputId": "df7a28ab-dac6-4a7f-ff15-55980b05a169"
      },
      "source": [
        "#@title Missing values\n",
        "df.isna().sum()"
      ],
      "execution_count": 213,
      "outputs": [
        {
          "output_type": "execute_result",
          "data": {
            "text/plain": [
              "sr               0\n",
              "date             0\n",
              "time             0\n",
              "state           38\n",
              "is_indian        0\n",
              "is_foreigner     0\n",
              "cured            0\n",
              "deaths           0\n",
              "positive         0\n",
              "dtype: int64"
            ]
          },
          "metadata": {
            "tags": []
          },
          "execution_count": 213
        }
      ]
    },
    {
      "cell_type": "code",
      "metadata": {
        "id": "U84JZJk5tNMb",
        "colab_type": "code",
        "colab": {
          "base_uri": "https://localhost:8080/",
          "height": 118
        },
        "outputId": "ab142ba8-966b-43e2-9c28-10305dcb01ff"
      },
      "source": [
        "df.is_indian.unique()"
      ],
      "execution_count": 214,
      "outputs": [
        {
          "output_type": "execute_result",
          "data": {
            "text/plain": [
              "array(['1', '2', '3', '0', '6', '7', '8', '9', '4', '15', '5', '17', '10',\n",
              "       '11', '19', '14', '22', '32', '12', '23', '24', '36', '25', '39',\n",
              "       '44', '18', '16', '26', '49', '33', '60', '13', '28', '45', '64',\n",
              "       '21', '29', '71', '30', '37', '87', '86', '41', '101', '125', '34',\n",
              "       '35', '42', '55', '110', '20', '121', '40', '129', '127', '38',\n",
              "       '168', '177', '52', '46', '54', '-'], dtype=object)"
            ]
          },
          "metadata": {
            "tags": []
          },
          "execution_count": 214
        }
      ]
    },
    {
      "cell_type": "code",
      "metadata": {
        "id": "I0hNUo4-tUk1",
        "colab_type": "code",
        "colab": {}
      },
      "source": [
        "# There is a '-' value in feature is_indian which means missing value"
      ],
      "execution_count": 215,
      "outputs": []
    },
    {
      "cell_type": "code",
      "metadata": {
        "id": "mfS8E0lo9LGS",
        "colab_type": "code",
        "colab": {
          "base_uri": "https://localhost:8080/",
          "height": 218
        },
        "outputId": "ab857568-c31b-463e-820a-45b0c89c4ca1"
      },
      "source": [
        "df.is_indian.value_counts()"
      ],
      "execution_count": 216,
      "outputs": [
        {
          "output_type": "execute_result",
          "data": {
            "text/plain": [
              "-      2905\n",
              "1       108\n",
              "3        73\n",
              "2        33\n",
              "4        21\n",
              "       ... \n",
              "101       1\n",
              "54        1\n",
              "121       1\n",
              "177       1\n",
              "86        1\n",
              "Name: is_indian, Length: 62, dtype: int64"
            ]
          },
          "metadata": {
            "tags": []
          },
          "execution_count": 216
        }
      ]
    },
    {
      "cell_type": "code",
      "metadata": {
        "id": "ee1H2ETj9l-9",
        "colab_type": "code",
        "colab": {}
      },
      "source": [
        "# We see '-' missing value is more 90%"
      ],
      "execution_count": 217,
      "outputs": []
    },
    {
      "cell_type": "code",
      "metadata": {
        "id": "NHxETmnbtfzm",
        "colab_type": "code",
        "colab": {
          "base_uri": "https://localhost:8080/",
          "height": 50
        },
        "outputId": "82d6b692-d639-451e-a443-33dbc182199f"
      },
      "source": [
        "df.is_foreigner.unique()"
      ],
      "execution_count": 218,
      "outputs": [
        {
          "output_type": "execute_result",
          "data": {
            "text/plain": [
              "array(['0', '1', '2', '14', '3', '9', '7', '11', '10', '8', '6', '-'],\n",
              "      dtype=object)"
            ]
          },
          "metadata": {
            "tags": []
          },
          "execution_count": 218
        }
      ]
    },
    {
      "cell_type": "code",
      "metadata": {
        "id": "dQsvda2ytl_e",
        "colab_type": "code",
        "colab": {}
      },
      "source": [
        "# There is a '-' value in feature is_foreigner which needs to be dropped "
      ],
      "execution_count": 219,
      "outputs": []
    },
    {
      "cell_type": "code",
      "metadata": {
        "id": "UWjfwVzk97sL",
        "colab_type": "code",
        "colab": {
          "base_uri": "https://localhost:8080/",
          "height": 235
        },
        "outputId": "3d23e64f-6198-48d9-9cc8-9985a91a71ca"
      },
      "source": [
        "df.is_foreigner.value_counts()"
      ],
      "execution_count": 220,
      "outputs": [
        {
          "output_type": "execute_result",
          "data": {
            "text/plain": [
              "-     2905\n",
              "0      314\n",
              "1       39\n",
              "2       36\n",
              "14      25\n",
              "3       12\n",
              "10       6\n",
              "8        5\n",
              "6        3\n",
              "7        3\n",
              "11       2\n",
              "9        1\n",
              "Name: is_foreigner, dtype: int64"
            ]
          },
          "metadata": {
            "tags": []
          },
          "execution_count": 220
        }
      ]
    },
    {
      "cell_type": "code",
      "metadata": {
        "id": "Wqt_zuBq-Evx",
        "colab_type": "code",
        "colab": {}
      },
      "source": [
        "# We see '-' missing value is more 90%"
      ],
      "execution_count": 221,
      "outputs": []
    },
    {
      "cell_type": "code",
      "metadata": {
        "id": "Y5HOo2mrqPaR",
        "colab_type": "code",
        "colab": {
          "base_uri": "https://localhost:8080/",
          "height": 34
        },
        "outputId": "b5e3b2b9-f398-47d8-c4b4-a6055371c7e4"
      },
      "source": [
        "# We see that is_indian and is_foreigner which provided data on how many Indian or Foreigners are effected has \n",
        "# missing values more then 90%, hence lets drop the features\n",
        "\n",
        "df = df.drop(['is_indian', 'is_foreigner'], axis=1)\n",
        "df.shape"
      ],
      "execution_count": 222,
      "outputs": [
        {
          "output_type": "execute_result",
          "data": {
            "text/plain": [
              "(3351, 7)"
            ]
          },
          "metadata": {
            "tags": []
          },
          "execution_count": 222
        }
      ]
    },
    {
      "cell_type": "code",
      "metadata": {
        "id": "HX2EJZuyy9hR",
        "colab_type": "code",
        "colab": {
          "base_uri": "https://localhost:8080/",
          "height": 34
        },
        "outputId": "215992d4-4fa1-4680-b5c5-516bc93db3ec"
      },
      "source": [
        "# Lest drop nan values\n",
        "df = df.dropna()\n",
        "df.shape"
      ],
      "execution_count": 223,
      "outputs": [
        {
          "output_type": "execute_result",
          "data": {
            "text/plain": [
              "(3313, 7)"
            ]
          },
          "metadata": {
            "tags": []
          },
          "execution_count": 223
        }
      ]
    },
    {
      "cell_type": "code",
      "metadata": {
        "id": "rNwtABIv2LSe",
        "colab_type": "code",
        "colab": {}
      },
      "source": [
        "df2 = df.copy()"
      ],
      "execution_count": 224,
      "outputs": []
    },
    {
      "cell_type": "code",
      "metadata": {
        "id": "gFJd-EvJ2Nuj",
        "colab_type": "code",
        "colab": {}
      },
      "source": [
        "df = df2.copy()"
      ],
      "execution_count": 232,
      "outputs": []
    },
    {
      "cell_type": "markdown",
      "metadata": {
        "id": "3MYxv_4McYW7",
        "colab_type": "text"
      },
      "source": [
        "## Feature Engineering"
      ]
    },
    {
      "cell_type": "code",
      "metadata": {
        "id": "YqjUvsgHgTLi",
        "colab_type": "code",
        "colab": {
          "base_uri": "https://localhost:8080/",
          "height": 195
        },
        "outputId": "1ab021d6-e2a8-4a57-9bc2-0f9c96aa30d4"
      },
      "source": [
        "# Lets work in the date feature\n",
        "# The date feature has few values with 2 digit day and month (ex- 01 & 1) and some has 1 digit values\n",
        "# The year has few values of 4 digits YYYY and few with 2 digits YY\n",
        "# Hence dorectly applying the pd.datetime function will create different dates which are actually not there in the database (bug)\n",
        "# so we will split the string date into day, month & year and then convert them to int\n",
        "\n",
        "# Splitting the string data\n",
        "new_date = df['date'].str.split('/', 2, expand=True)\n",
        "df['day'] = new_date[0]\n",
        "df['month']= new_date[1]\n",
        "df['year'] = new_date[2]\n",
        "\n",
        "# Comnverting data type\n",
        "df['day'] = df['day'].astype(int)\n",
        "df['month'] = df['month'].astype(int)\n",
        "df['year'] = df['year'].astype(int)\n",
        "\n",
        "df.head()"
      ],
      "execution_count": 233,
      "outputs": [
        {
          "output_type": "execute_result",
          "data": {
            "text/html": [
              "<div>\n",
              "<style scoped>\n",
              "    .dataframe tbody tr th:only-of-type {\n",
              "        vertical-align: middle;\n",
              "    }\n",
              "\n",
              "    .dataframe tbody tr th {\n",
              "        vertical-align: top;\n",
              "    }\n",
              "\n",
              "    .dataframe thead th {\n",
              "        text-align: right;\n",
              "    }\n",
              "</style>\n",
              "<table border=\"1\" class=\"dataframe\">\n",
              "  <thead>\n",
              "    <tr style=\"text-align: right;\">\n",
              "      <th></th>\n",
              "      <th>sr</th>\n",
              "      <th>date</th>\n",
              "      <th>time</th>\n",
              "      <th>state</th>\n",
              "      <th>cured</th>\n",
              "      <th>deaths</th>\n",
              "      <th>positive</th>\n",
              "      <th>day</th>\n",
              "      <th>month</th>\n",
              "      <th>year</th>\n",
              "    </tr>\n",
              "  </thead>\n",
              "  <tbody>\n",
              "    <tr>\n",
              "      <th>0</th>\n",
              "      <td>1</td>\n",
              "      <td>30/01/20</td>\n",
              "      <td>6:00 PM</td>\n",
              "      <td>Kerala</td>\n",
              "      <td>0</td>\n",
              "      <td>0</td>\n",
              "      <td>1</td>\n",
              "      <td>30</td>\n",
              "      <td>1</td>\n",
              "      <td>20</td>\n",
              "    </tr>\n",
              "    <tr>\n",
              "      <th>1</th>\n",
              "      <td>2</td>\n",
              "      <td>31/01/20</td>\n",
              "      <td>6:00 PM</td>\n",
              "      <td>Kerala</td>\n",
              "      <td>0</td>\n",
              "      <td>0</td>\n",
              "      <td>1</td>\n",
              "      <td>31</td>\n",
              "      <td>1</td>\n",
              "      <td>20</td>\n",
              "    </tr>\n",
              "    <tr>\n",
              "      <th>2</th>\n",
              "      <td>3</td>\n",
              "      <td>1/2/2020</td>\n",
              "      <td>6:00 PM</td>\n",
              "      <td>Kerala</td>\n",
              "      <td>0</td>\n",
              "      <td>0</td>\n",
              "      <td>2</td>\n",
              "      <td>1</td>\n",
              "      <td>2</td>\n",
              "      <td>2020</td>\n",
              "    </tr>\n",
              "    <tr>\n",
              "      <th>3</th>\n",
              "      <td>4</td>\n",
              "      <td>2/2/2020</td>\n",
              "      <td>6:00 PM</td>\n",
              "      <td>Kerala</td>\n",
              "      <td>0</td>\n",
              "      <td>0</td>\n",
              "      <td>3</td>\n",
              "      <td>2</td>\n",
              "      <td>2</td>\n",
              "      <td>2020</td>\n",
              "    </tr>\n",
              "    <tr>\n",
              "      <th>4</th>\n",
              "      <td>5</td>\n",
              "      <td>3/2/2020</td>\n",
              "      <td>6:00 PM</td>\n",
              "      <td>Kerala</td>\n",
              "      <td>0</td>\n",
              "      <td>0</td>\n",
              "      <td>3</td>\n",
              "      <td>3</td>\n",
              "      <td>2</td>\n",
              "      <td>2020</td>\n",
              "    </tr>\n",
              "  </tbody>\n",
              "</table>\n",
              "</div>"
            ],
            "text/plain": [
              "   sr      date     time   state  cured  deaths  positive  day  month  year\n",
              "0   1  30/01/20  6:00 PM  Kerala      0       0         1   30      1    20\n",
              "1   2  31/01/20  6:00 PM  Kerala      0       0         1   31      1    20\n",
              "2   3  1/2/2020  6:00 PM  Kerala      0       0         2    1      2  2020\n",
              "3   4  2/2/2020  6:00 PM  Kerala      0       0         3    2      2  2020\n",
              "4   5  3/2/2020  6:00 PM  Kerala      0       0         3    3      2  2020"
            ]
          },
          "metadata": {
            "tags": []
          },
          "execution_count": 233
        }
      ]
    },
    {
      "cell_type": "code",
      "metadata": {
        "id": "_NJuXg7IGVMJ",
        "colab_type": "code",
        "colab": {
          "base_uri": "https://localhost:8080/",
          "height": 34
        },
        "outputId": "d18fc779-4d4c-4dd3-d295-fd05a79b4cb3"
      },
      "source": [
        "# Lets equilize the year column\n",
        "\n",
        "df['year'] = df['year'].apply(lambda x: 2020 if x < 30 else 2020 )\n",
        "df['year'].values"
      ],
      "execution_count": 234,
      "outputs": [
        {
          "output_type": "execute_result",
          "data": {
            "text/plain": [
              "array([2020, 2020, 2020, ..., 2020, 2020, 2020])"
            ]
          },
          "metadata": {
            "tags": []
          },
          "execution_count": 234
        }
      ]
    },
    {
      "cell_type": "code",
      "metadata": {
        "id": "uAO7lmcUF0K6",
        "colab_type": "code",
        "colab": {
          "base_uri": "https://localhost:8080/",
          "height": 195
        },
        "outputId": "fd2d1e24-48c4-4e24-fa26-1ce54f3eb9d7"
      },
      "source": [
        "# Now all the values in the year column is 2020\n",
        "# Now to get the month name , lets merge the day, month and year to make ot datetime\n",
        "\n",
        "df['date'] = pd.to_datetime(df[['day', 'month', 'year']])\n",
        "df['Month'] = df['date'].dt.month_name()\n",
        "\n",
        "# Lets drop day, month and year, since we have corrected date colum now\n",
        "df = df.drop(['day', 'month', 'year'], axis=1)\n",
        "\n",
        "df.head()"
      ],
      "execution_count": 235,
      "outputs": [
        {
          "output_type": "execute_result",
          "data": {
            "text/html": [
              "<div>\n",
              "<style scoped>\n",
              "    .dataframe tbody tr th:only-of-type {\n",
              "        vertical-align: middle;\n",
              "    }\n",
              "\n",
              "    .dataframe tbody tr th {\n",
              "        vertical-align: top;\n",
              "    }\n",
              "\n",
              "    .dataframe thead th {\n",
              "        text-align: right;\n",
              "    }\n",
              "</style>\n",
              "<table border=\"1\" class=\"dataframe\">\n",
              "  <thead>\n",
              "    <tr style=\"text-align: right;\">\n",
              "      <th></th>\n",
              "      <th>sr</th>\n",
              "      <th>date</th>\n",
              "      <th>time</th>\n",
              "      <th>state</th>\n",
              "      <th>cured</th>\n",
              "      <th>deaths</th>\n",
              "      <th>positive</th>\n",
              "      <th>Month</th>\n",
              "    </tr>\n",
              "  </thead>\n",
              "  <tbody>\n",
              "    <tr>\n",
              "      <th>0</th>\n",
              "      <td>1</td>\n",
              "      <td>2020-01-30</td>\n",
              "      <td>6:00 PM</td>\n",
              "      <td>Kerala</td>\n",
              "      <td>0</td>\n",
              "      <td>0</td>\n",
              "      <td>1</td>\n",
              "      <td>January</td>\n",
              "    </tr>\n",
              "    <tr>\n",
              "      <th>1</th>\n",
              "      <td>2</td>\n",
              "      <td>2020-01-31</td>\n",
              "      <td>6:00 PM</td>\n",
              "      <td>Kerala</td>\n",
              "      <td>0</td>\n",
              "      <td>0</td>\n",
              "      <td>1</td>\n",
              "      <td>January</td>\n",
              "    </tr>\n",
              "    <tr>\n",
              "      <th>2</th>\n",
              "      <td>3</td>\n",
              "      <td>2020-02-01</td>\n",
              "      <td>6:00 PM</td>\n",
              "      <td>Kerala</td>\n",
              "      <td>0</td>\n",
              "      <td>0</td>\n",
              "      <td>2</td>\n",
              "      <td>February</td>\n",
              "    </tr>\n",
              "    <tr>\n",
              "      <th>3</th>\n",
              "      <td>4</td>\n",
              "      <td>2020-02-02</td>\n",
              "      <td>6:00 PM</td>\n",
              "      <td>Kerala</td>\n",
              "      <td>0</td>\n",
              "      <td>0</td>\n",
              "      <td>3</td>\n",
              "      <td>February</td>\n",
              "    </tr>\n",
              "    <tr>\n",
              "      <th>4</th>\n",
              "      <td>5</td>\n",
              "      <td>2020-02-03</td>\n",
              "      <td>6:00 PM</td>\n",
              "      <td>Kerala</td>\n",
              "      <td>0</td>\n",
              "      <td>0</td>\n",
              "      <td>3</td>\n",
              "      <td>February</td>\n",
              "    </tr>\n",
              "  </tbody>\n",
              "</table>\n",
              "</div>"
            ],
            "text/plain": [
              "   sr       date     time   state  cured  deaths  positive     Month\n",
              "0   1 2020-01-30  6:00 PM  Kerala      0       0         1   January\n",
              "1   2 2020-01-31  6:00 PM  Kerala      0       0         1   January\n",
              "2   3 2020-02-01  6:00 PM  Kerala      0       0         2  February\n",
              "3   4 2020-02-02  6:00 PM  Kerala      0       0         3  February\n",
              "4   5 2020-02-03  6:00 PM  Kerala      0       0         3  February"
            ]
          },
          "metadata": {
            "tags": []
          },
          "execution_count": 235
        }
      ]
    },
    {
      "cell_type": "markdown",
      "metadata": {
        "id": "-LfE99cPhUO0",
        "colab_type": "text"
      },
      "source": [
        "### Converting Data Type"
      ]
    },
    {
      "cell_type": "code",
      "metadata": {
        "id": "ySgBPHdy7UQr",
        "colab_type": "code",
        "colab": {
          "base_uri": "https://localhost:8080/",
          "height": 195
        },
        "outputId": "35358b5d-d61b-44c2-bd3b-2dfb0ed51901"
      },
      "source": [
        "# Lets start by converting the data type to its correct \n",
        "\n",
        "# state & time to be converted to category\n",
        "\n",
        "df['state'] = df['state'].astype('category')\n",
        "df['time'] = df['time'].astype('category')\n",
        "\n",
        "df.head()"
      ],
      "execution_count": 236,
      "outputs": [
        {
          "output_type": "execute_result",
          "data": {
            "text/html": [
              "<div>\n",
              "<style scoped>\n",
              "    .dataframe tbody tr th:only-of-type {\n",
              "        vertical-align: middle;\n",
              "    }\n",
              "\n",
              "    .dataframe tbody tr th {\n",
              "        vertical-align: top;\n",
              "    }\n",
              "\n",
              "    .dataframe thead th {\n",
              "        text-align: right;\n",
              "    }\n",
              "</style>\n",
              "<table border=\"1\" class=\"dataframe\">\n",
              "  <thead>\n",
              "    <tr style=\"text-align: right;\">\n",
              "      <th></th>\n",
              "      <th>sr</th>\n",
              "      <th>date</th>\n",
              "      <th>time</th>\n",
              "      <th>state</th>\n",
              "      <th>cured</th>\n",
              "      <th>deaths</th>\n",
              "      <th>positive</th>\n",
              "      <th>Month</th>\n",
              "    </tr>\n",
              "  </thead>\n",
              "  <tbody>\n",
              "    <tr>\n",
              "      <th>0</th>\n",
              "      <td>1</td>\n",
              "      <td>2020-01-30</td>\n",
              "      <td>6:00 PM</td>\n",
              "      <td>Kerala</td>\n",
              "      <td>0</td>\n",
              "      <td>0</td>\n",
              "      <td>1</td>\n",
              "      <td>January</td>\n",
              "    </tr>\n",
              "    <tr>\n",
              "      <th>1</th>\n",
              "      <td>2</td>\n",
              "      <td>2020-01-31</td>\n",
              "      <td>6:00 PM</td>\n",
              "      <td>Kerala</td>\n",
              "      <td>0</td>\n",
              "      <td>0</td>\n",
              "      <td>1</td>\n",
              "      <td>January</td>\n",
              "    </tr>\n",
              "    <tr>\n",
              "      <th>2</th>\n",
              "      <td>3</td>\n",
              "      <td>2020-02-01</td>\n",
              "      <td>6:00 PM</td>\n",
              "      <td>Kerala</td>\n",
              "      <td>0</td>\n",
              "      <td>0</td>\n",
              "      <td>2</td>\n",
              "      <td>February</td>\n",
              "    </tr>\n",
              "    <tr>\n",
              "      <th>3</th>\n",
              "      <td>4</td>\n",
              "      <td>2020-02-02</td>\n",
              "      <td>6:00 PM</td>\n",
              "      <td>Kerala</td>\n",
              "      <td>0</td>\n",
              "      <td>0</td>\n",
              "      <td>3</td>\n",
              "      <td>February</td>\n",
              "    </tr>\n",
              "    <tr>\n",
              "      <th>4</th>\n",
              "      <td>5</td>\n",
              "      <td>2020-02-03</td>\n",
              "      <td>6:00 PM</td>\n",
              "      <td>Kerala</td>\n",
              "      <td>0</td>\n",
              "      <td>0</td>\n",
              "      <td>3</td>\n",
              "      <td>February</td>\n",
              "    </tr>\n",
              "  </tbody>\n",
              "</table>\n",
              "</div>"
            ],
            "text/plain": [
              "   sr       date     time   state  cured  deaths  positive     Month\n",
              "0   1 2020-01-30  6:00 PM  Kerala      0       0         1   January\n",
              "1   2 2020-01-31  6:00 PM  Kerala      0       0         1   January\n",
              "2   3 2020-02-01  6:00 PM  Kerala      0       0         2  February\n",
              "3   4 2020-02-02  6:00 PM  Kerala      0       0         3  February\n",
              "4   5 2020-02-03  6:00 PM  Kerala      0       0         3  February"
            ]
          },
          "metadata": {
            "tags": []
          },
          "execution_count": 236
        }
      ]
    },
    {
      "cell_type": "code",
      "metadata": {
        "id": "NQPWr136PGRk",
        "colab_type": "code",
        "colab": {
          "base_uri": "https://localhost:8080/",
          "height": 235
        },
        "outputId": "cdb9ba78-4034-481c-d2a9-bbb45247120e"
      },
      "source": [
        "# Now lets convert Month to category  for data visulization pourpose\n",
        "\n",
        "df['Month'] = df['Month'].astype('category')\n",
        "\n",
        "df.info()"
      ],
      "execution_count": 238,
      "outputs": [
        {
          "output_type": "stream",
          "text": [
            "<class 'pandas.core.frame.DataFrame'>\n",
            "Int64Index: 3313 entries, 0 to 3349\n",
            "Data columns (total 8 columns):\n",
            "sr          3313 non-null int64\n",
            "date        3313 non-null datetime64[ns]\n",
            "time        3313 non-null category\n",
            "state       3313 non-null category\n",
            "cured       3313 non-null int64\n",
            "deaths      3313 non-null int64\n",
            "positive    3313 non-null int64\n",
            "Month       3313 non-null category\n",
            "dtypes: category(3), datetime64[ns](1), int64(4)\n",
            "memory usage: 167.1 KB\n"
          ],
          "name": "stdout"
        }
      ]
    },
    {
      "cell_type": "markdown",
      "metadata": {
        "id": "HRAFQxj-fvub",
        "colab_type": "text"
      },
      "source": [
        "# Observation: \n",
        "\n",
        "In the above data we see that the feartue 'positive' shows total number of positive cases up until a particular date, hence which means, at the end of every month, it will show the total number of positive cases, total cured and total deaths.\n",
        "\n",
        "So to further analysis, we would take only the data of the last day of each month."
      ]
    },
    {
      "cell_type": "code",
      "metadata": {
        "id": "ABi9kOP2gf3G",
        "colab_type": "code",
        "colab": {
          "base_uri": "https://localhost:8080/",
          "height": 84
        },
        "outputId": "8f269842-d9c3-4aef-8f44-9f1d2a9faf19"
      },
      "source": [
        "jan = df[df['date']=='2020-01-31']\n",
        "feb = df[df['date']=='2020-02-29']\n",
        "mar = df[df['date']=='2020-03-31']\n",
        "apr = df[df['date']=='2020-04-30']\n",
        "may = df[df['date']=='2020-05-31']\n",
        "jun = df[df['date']=='2020-06-22']\n",
        "\n",
        "frame = [jan, feb, mar, apr, may, jun]\n",
        "\n",
        "df = pd.concat(frame)\n",
        "\n",
        "df.date.unique()"
      ],
      "execution_count": 239,
      "outputs": [
        {
          "output_type": "execute_result",
          "data": {
            "text/plain": [
              "array(['2020-01-31T00:00:00.000000000', '2020-02-29T00:00:00.000000000',\n",
              "       '2020-03-31T00:00:00.000000000', '2020-04-30T00:00:00.000000000',\n",
              "       '2020-05-31T00:00:00.000000000', '2020-06-22T00:00:00.000000000'],\n",
              "      dtype='datetime64[ns]')"
            ]
          },
          "metadata": {
            "tags": []
          },
          "execution_count": 239
        }
      ]
    },
    {
      "cell_type": "markdown",
      "metadata": {
        "id": "fh40CDujt90A",
        "colab_type": "text"
      },
      "source": [
        "\n",
        "# Data Visualization"
      ]
    },
    {
      "cell_type": "markdown",
      "metadata": {
        "id": "2ZVAprxCB9Pe",
        "colab_type": "text"
      },
      "source": [
        "## Number of Cases each month"
      ]
    },
    {
      "cell_type": "code",
      "metadata": {
        "id": "KRLx_fpoer67",
        "colab_type": "code",
        "colab": {
          "base_uri": "https://localhost:8080/",
          "height": 418
        },
        "outputId": "0c4071e5-7165-4e98-d6d1-9c85ea3aec2f"
      },
      "source": [
        "# Lets check the number of cases each month\n",
        "\n",
        "f, ax = plt.subplots(figsize=(10, 6))\n",
        "sns.barplot(x=df.Month.unique(), y=df.Month.value_counts().sort_values(ascending=True), data=df, color= 'blue')\n",
        "ax.set_title('Number of Cases each month', fontsize= 20)\n",
        "ax.set_xlabel('Months', fontsize=16)\n",
        "ax.set_ylabel('Number of Positive cases', fontsize=16)\n",
        "plt.show()"
      ],
      "execution_count": 240,
      "outputs": [
        {
          "output_type": "display_data",
          "data": {
            "image/png": "[encoded data removed]",
            "text/plain": [
              "<Figure size 720x432 with 1 Axes>"
            ]
          },
          "metadata": {
            "tags": []
          }
        }
      ]
    },
    {
      "cell_type": "markdown",
      "metadata": {
        "id": "YwUoCrLGzl_m",
        "colab_type": "text"
      },
      "source": [
        "**Observation** As per the data we see that there were hardly 1 or 2 cases tested or diagnosed till February 2020. However,the real testing started in the month of March 2020 and we can also see a jump in the number of positive cases in the month of April 2020."
      ]
    },
    {
      "cell_type": "markdown",
      "metadata": {
        "id": "ZOSMEX3tCDuM",
        "colab_type": "text"
      },
      "source": [
        "## Number of Cases Statewise in the month April 2020"
      ]
    },
    {
      "cell_type": "code",
      "metadata": {
        "id": "7cXauXJzkgA8",
        "colab_type": "code",
        "colab": {
          "base_uri": "https://localhost:8080/",
          "height": 635
        },
        "outputId": "fe873d51-9614-4fa0-9c39-408158c8eb5c"
      },
      "source": [
        "# Lets check the number of cases statewise in the month of April 2020\n",
        "\n",
        "#Lets create a new dataframe only for the month of April2020\n",
        "df_April = df[df['Month']=='April']\n",
        "\n",
        "# Creting a new dataframe with groupby\n",
        "df_April_State = df_April.groupby(['state'], as_index=False)['positive'].agg('sum').sort_values('positive', ascending=False)\n",
        "\n",
        "# Lets plot the new dataframe\n",
        "f, ax = plt.subplots(figsize=(10, 10))\n",
        "sns.barplot(x='positive', y='state',\n",
        "            order=df_April_State['state'], data=df_April_State, color= 'blue', ax=ax)\n",
        "ax.set_title('Number of cases statewise in the month of April 2020', fontsize= 20)\n",
        "ax.set_ylabel('States/UT', fontsize=16)\n",
        "ax.set_xlabel('Number of Positive cases', fontsize=16)\n",
        "plt.close(2)\n",
        "plt.show()"
      ],
      "execution_count": 241,
      "outputs": [
        {
          "output_type": "display_data",
          "data": {
            "image/png": "[encoded data removed]",
            "text/plain": [
              "<Figure size 720x720 with 1 Axes>"
            ]
          },
          "metadata": {
            "tags": []
          }
        }
      ]
    },
    {
      "cell_type": "markdown",
      "metadata": {
        "id": "ientYYFUCN7N",
        "colab_type": "text"
      },
      "source": [
        "## Number of cases cured in each state\n",
        "\n"
      ]
    },
    {
      "cell_type": "code",
      "metadata": {
        "id": "kEXPwpv4TBQz",
        "colab_type": "code",
        "colab": {
          "base_uri": "https://localhost:8080/",
          "height": 635
        },
        "outputId": "6be32caa-be2d-4961-e9ad-6001daa2f38a"
      },
      "source": [
        "df_cured = df.groupby(df['state'], as_index=False)['cured'].agg('sum').sort_values('cured', ascending=False)\n",
        "\n",
        "plt.figure(figsize=(10, 10))\n",
        "\n",
        "sns.barplot(x='cured', y='state', order=df_cured['state'], data=df_cured, color='blue')\n",
        "plt.title('Number of cases statewise in the month of April 2020', fontsize= 20)\n",
        "plt.ylabel('States/UT', fontsize=16)\n",
        "plt.xlabel('Number of Positive cases', fontsize=16)\n",
        "plt.show()"
      ],
      "execution_count": 242,
      "outputs": [
        {
          "output_type": "display_data",
          "data": {
            "image/png": "[encoded data removed]",
            "text/plain": [
              "<Figure size 720x720 with 1 Axes>"
            ]
          },
          "metadata": {
            "tags": []
          }
        }
      ]
    },
    {
      "cell_type": "markdown",
      "metadata": {
        "id": "5gKp77etM7jI",
        "colab_type": "text"
      },
      "source": [
        "## Current status of Covid 19 in India"
      ]
    },
    {
      "cell_type": "code",
      "metadata": {
        "id": "rN-JVV-wDHB3",
        "colab_type": "code",
        "colab": {
          "base_uri": "https://localhost:8080/",
          "height": 559
        },
        "outputId": "af7af0e9-3695-47b7-ede4-6e03b61a9c3d"
      },
      "source": [
        "# Current Status\n",
        "positive = df['positive'].sum()\n",
        "cured = df['cured'].sum()\n",
        "deaths =df['deaths'].sum()\n",
        "data_pie = [positive, cured, deaths]\n",
        "plt.figure(figsize=(6, 6))\n",
        "fig = px.pie(data_frame= df, values=data_pie, names=['Positive Cases', 'Cured People', 'Deaths'],\n",
        "             title= 'Currrent status of Covid19 India')\n",
        "fig.update_traces(textposition='inside', textinfo='percent+label')\n",
        "fig.show()\n"
      ],
      "execution_count": 243,
      "outputs": [
        {
          "output_type": "display_data",
          "data": {
            "text/html": [
              "<html>\n",
              "<head><meta charset=\"utf-8\" /></head>\n",
              "<body>\n",
              "    <div>\n",
              "            <script src=\"https://cdnjs.cloudflare.com/ajax/libs/mathjax/2.7.5/MathJax.js?config=TeX-AMS-MML_SVG\"></script><script type=\"text/javascript\">if (window.MathJax) {MathJax.Hub.Config({SVG: {font: \"STIX-Web\"}});}</script>\n",
              "                <script type=\"text/javascript\">window.PlotlyConfig = {MathJaxConfig: 'local'};</script>\n",
              "        <script src=\"https://cdn.plot.ly/plotly-latest.min.js\"></script>    \n",
              "            <div id=\"005dea35-de31-46b2-8b19-01ea24feb472\" class=\"plotly-graph-div\" style=\"height:525px; width:100%;\"></div>\n",
              "            <script type=\"text/javascript\">\n",
              "                \n",
              "                    window.PLOTLYENV=window.PLOTLYENV || {};\n",
              "                    \n",
              "                if (document.getElementById(\"005dea35-de31-46b2-8b19-01ea24feb472\")) {\n",
              "                    Plotly.newPlot(\n",
              "                        '005dea35-de31-46b2-8b19-01ea24feb472',\n",
              "                        [{\"domain\": {\"x\": [0.0, 1.0], \"y\": [0.0, 1.0]}, \"hoverlabel\": {\"namelength\": 0}, \"hovertemplate\": \"label=%{label}<br>value=%{value}\", \"labels\": [\"Positive Cases\", \"Cured People\", \"Deaths\"], \"legendgroup\": \"\", \"name\": \"\", \"showlegend\": true, \"textinfo\": \"percent+label\", \"textposition\": \"inside\", \"type\": \"pie\", \"values\": [643545, 343671, 20285]}],\n",
              "                        {\"legend\": {\"tracegroupgap\": 0}, \"template\": {\"data\": {\"bar\": [{\"error_x\": {\"color\": \"#2a3f5f\"}, \"error_y\": {\"color\": \"#2a3f5f\"}, \"marker\": {\"line\": {\"color\": \"#E5ECF6\", \"width\": 0.5}}, \"type\": \"bar\"}], \"barpolar\": [{\"marker\": {\"line\": {\"color\": \"#E5ECF6\", \"width\": 0.5}}, \"type\": \"barpolar\"}], \"carpet\": [{\"aaxis\": {\"endlinecolor\": \"#2a3f5f\", \"gridcolor\": \"white\", \"linecolor\": \"white\", \"minorgridcolor\": \"white\", \"startlinecolor\": \"#2a3f5f\"}, \"baxis\": {\"endlinecolor\": \"#2a3f5f\", \"gridcolor\": \"white\", \"linecolor\": \"white\", \"minorgridcolor\": \"white\", \"startlinecolor\": \"#2a3f5f\"}, \"type\": \"carpet\"}], \"choropleth\": [{\"colorbar\": {\"outlinewidth\": 0, \"ticks\": \"\"}, \"type\": \"choropleth\"}], \"contour\": [{\"colorbar\": {\"outlinewidth\": 0, \"ticks\": \"\"}, \"colorscale\": [[0.0, \"#0d0887\"], [0.1111111111111111, \"#46039f\"], [0.2222222222222222, \"#7201a8\"], [0.3333333333333333, \"#9c179e\"], [0.4444444444444444, \"#bd3786\"], [0.5555555555555556, \"#d8576b\"], [0.6666666666666666, \"#ed7953\"], [0.7777777777777778, \"#fb9f3a\"], [0.8888888888888888, \"#fdca26\"], [1.0, \"#f0f921\"]], \"type\": \"contour\"}], \"contourcarpet\": [{\"colorbar\": {\"outlinewidth\": 0, \"ticks\": \"\"}, \"type\": \"contourcarpet\"}], \"heatmap\": [{\"colorbar\": {\"outlinewidth\": 0, \"ticks\": \"\"}, \"colorscale\": [[0.0, \"#0d0887\"], [0.1111111111111111, \"#46039f\"], [0.2222222222222222, \"#7201a8\"], [0.3333333333333333, \"#9c179e\"], [0.4444444444444444, \"#bd3786\"], [0.5555555555555556, \"#d8576b\"], [0.6666666666666666, \"#ed7953\"], [0.7777777777777778, \"#fb9f3a\"], [0.8888888888888888, \"#fdca26\"], [1.0, \"#f0f921\"]], \"type\": \"heatmap\"}], \"heatmapgl\": [{\"colorbar\": {\"outlinewidth\": 0, \"ticks\": \"\"}, \"colorscale\": [[0.0, \"#0d0887\"], [0.1111111111111111, \"#46039f\"], [0.2222222222222222, \"#7201a8\"], [0.3333333333333333, \"#9c179e\"], [0.4444444444444444, \"#bd3786\"], [0.5555555555555556, \"#d8576b\"], [0.6666666666666666, \"#ed7953\"], [0.7777777777777778, \"#fb9f3a\"], [0.8888888888888888, \"#fdca26\"], [1.0, \"#f0f921\"]], \"type\": \"heatmapgl\"}], \"histogram\": [{\"marker\": {\"colorbar\": {\"outlinewidth\": 0, \"ticks\": \"\"}}, \"type\": \"histogram\"}], \"histogram2d\": [{\"colorbar\": {\"outlinewidth\": 0, \"ticks\": \"\"}, \"colorscale\": [[0.0, \"#0d0887\"], [0.1111111111111111, \"#46039f\"], [0.2222222222222222, \"#7201a8\"], [0.3333333333333333, \"#9c179e\"], [0.4444444444444444, \"#bd3786\"], [0.5555555555555556, \"#d8576b\"], [0.6666666666666666, \"#ed7953\"], [0.7777777777777778, \"#fb9f3a\"], [0.8888888888888888, \"#fdca26\"], [1.0, \"#f0f921\"]], \"type\": \"histogram2d\"}], \"histogram2dcontour\": [{\"colorbar\": {\"outlinewidth\": 0, \"ticks\": \"\"}, \"colorscale\": [[0.0, \"#0d0887\"], [0.1111111111111111, \"#46039f\"], [0.2222222222222222, \"#7201a8\"], [0.3333333333333333, \"#9c179e\"], [0.4444444444444444, \"#bd3786\"], [0.5555555555555556, \"#d8576b\"], [0.6666666666666666, \"#ed7953\"], [0.7777777777777778, \"#fb9f3a\"], [0.8888888888888888, \"#fdca26\"], [1.0, \"#f0f921\"]], \"type\": \"histogram2dcontour\"}], \"mesh3d\": [{\"colorbar\": {\"outlinewidth\": 0, \"ticks\": \"\"}, \"type\": \"mesh3d\"}], \"parcoords\": [{\"line\": {\"colorbar\": {\"outlinewidth\": 0, \"ticks\": \"\"}}, \"type\": \"parcoords\"}], \"pie\": [{\"automargin\": true, \"type\": \"pie\"}], \"scatter\": [{\"marker\": {\"colorbar\": {\"outlinewidth\": 0, \"ticks\": \"\"}}, \"type\": \"scatter\"}], \"scatter3d\": [{\"line\": {\"colorbar\": {\"outlinewidth\": 0, \"ticks\": \"\"}}, \"marker\": {\"colorbar\": {\"outlinewidth\": 0, \"ticks\": \"\"}}, \"type\": \"scatter3d\"}], \"scattercarpet\": [{\"marker\": {\"colorbar\": {\"outlinewidth\": 0, \"ticks\": \"\"}}, \"type\": \"scattercarpet\"}], \"scattergeo\": [{\"marker\": {\"colorbar\": {\"outlinewidth\": 0, \"ticks\": \"\"}}, \"type\": \"scattergeo\"}], \"scattergl\": [{\"marker\": {\"colorbar\": {\"outlinewidth\": 0, \"ticks\": \"\"}}, \"type\": \"scattergl\"}], \"scattermapbox\": [{\"marker\": {\"colorbar\": {\"outlinewidth\": 0, \"ticks\": \"\"}}, \"type\": \"scattermapbox\"}], \"scatterpolar\": [{\"marker\": {\"colorbar\": {\"outlinewidth\": 0, \"ticks\": \"\"}}, \"type\": \"scatterpolar\"}], \"scatterpolargl\": [{\"marker\": {\"colorbar\": {\"outlinewidth\": 0, \"ticks\": \"\"}}, \"type\": \"scatterpolargl\"}], \"scatterternary\": [{\"marker\": {\"colorbar\": {\"outlinewidth\": 0, \"ticks\": \"\"}}, \"type\": \"scatterternary\"}], \"surface\": [{\"colorbar\": {\"outlinewidth\": 0, \"ticks\": \"\"}, \"colorscale\": [[0.0, \"#0d0887\"], [0.1111111111111111, \"#46039f\"], [0.2222222222222222, \"#7201a8\"], [0.3333333333333333, \"#9c179e\"], [0.4444444444444444, \"#bd3786\"], [0.5555555555555556, \"#d8576b\"], [0.6666666666666666, \"#ed7953\"], [0.7777777777777778, \"#fb9f3a\"], [0.8888888888888888, \"#fdca26\"], [1.0, \"#f0f921\"]], \"type\": \"surface\"}], \"table\": [{\"cells\": {\"fill\": {\"color\": \"#EBF0F8\"}, \"line\": {\"color\": \"white\"}}, \"header\": {\"fill\": {\"color\": \"#C8D4E3\"}, \"line\": {\"color\": \"white\"}}, \"type\": \"table\"}]}, \"layout\": {\"annotationdefaults\": {\"arrowcolor\": \"#2a3f5f\", \"arrowhead\": 0, \"arrowwidth\": 1}, \"coloraxis\": {\"colorbar\": {\"outlinewidth\": 0, \"ticks\": \"\"}}, \"colorscale\": {\"diverging\": [[0, \"#8e0152\"], [0.1, \"#c51b7d\"], [0.2, \"#de77ae\"], [0.3, \"#f1b6da\"], [0.4, \"#fde0ef\"], [0.5, \"#f7f7f7\"], [0.6, \"#e6f5d0\"], [0.7, \"#b8e186\"], [0.8, \"#7fbc41\"], [0.9, \"#4d9221\"], [1, \"#276419\"]], \"sequential\": [[0.0, \"#0d0887\"], [0.1111111111111111, \"#46039f\"], [0.2222222222222222, \"#7201a8\"], [0.3333333333333333, \"#9c179e\"], [0.4444444444444444, \"#bd3786\"], [0.5555555555555556, \"#d8576b\"], [0.6666666666666666, \"#ed7953\"], [0.7777777777777778, \"#fb9f3a\"], [0.8888888888888888, \"#fdca26\"], [1.0, \"#f0f921\"]], \"sequentialminus\": [[0.0, \"#0d0887\"], [0.1111111111111111, \"#46039f\"], [0.2222222222222222, \"#7201a8\"], [0.3333333333333333, \"#9c179e\"], [0.4444444444444444, \"#bd3786\"], [0.5555555555555556, \"#d8576b\"], [0.6666666666666666, \"#ed7953\"], [0.7777777777777778, \"#fb9f3a\"], [0.8888888888888888, \"#fdca26\"], [1.0, \"#f0f921\"]]}, \"colorway\": [\"#636efa\", \"#EF553B\", \"#00cc96\", \"#ab63fa\", \"#FFA15A\", \"#19d3f3\", \"#FF6692\", \"#B6E880\", \"#FF97FF\", \"#FECB52\"], \"font\": {\"color\": \"#2a3f5f\"}, \"geo\": {\"bgcolor\": \"white\", \"lakecolor\": \"white\", \"landcolor\": \"#E5ECF6\", \"showlakes\": true, \"showland\": true, \"subunitcolor\": \"white\"}, \"hoverlabel\": {\"align\": \"left\"}, \"hovermode\": \"closest\", \"mapbox\": {\"style\": \"light\"}, \"paper_bgcolor\": \"white\", \"plot_bgcolor\": \"#E5ECF6\", \"polar\": {\"angularaxis\": {\"gridcolor\": \"white\", \"linecolor\": \"white\", \"ticks\": \"\"}, \"bgcolor\": \"#E5ECF6\", \"radialaxis\": {\"gridcolor\": \"white\", \"linecolor\": \"white\", \"ticks\": \"\"}}, \"scene\": {\"xaxis\": {\"backgroundcolor\": \"#E5ECF6\", \"gridcolor\": \"white\", \"gridwidth\": 2, \"linecolor\": \"white\", \"showbackground\": true, \"ticks\": \"\", \"zerolinecolor\": \"white\"}, \"yaxis\": {\"backgroundcolor\": \"#E5ECF6\", \"gridcolor\": \"white\", \"gridwidth\": 2, \"linecolor\": \"white\", \"showbackground\": true, \"ticks\": \"\", \"zerolinecolor\": \"white\"}, \"zaxis\": {\"backgroundcolor\": \"#E5ECF6\", \"gridcolor\": \"white\", \"gridwidth\": 2, \"linecolor\": \"white\", \"showbackground\": true, \"ticks\": \"\", \"zerolinecolor\": \"white\"}}, \"shapedefaults\": {\"line\": {\"color\": \"#2a3f5f\"}}, \"ternary\": {\"aaxis\": {\"gridcolor\": \"white\", \"linecolor\": \"white\", \"ticks\": \"\"}, \"baxis\": {\"gridcolor\": \"white\", \"linecolor\": \"white\", \"ticks\": \"\"}, \"bgcolor\": \"#E5ECF6\", \"caxis\": {\"gridcolor\": \"white\", \"linecolor\": \"white\", \"ticks\": \"\"}}, \"title\": {\"x\": 0.05}, \"xaxis\": {\"automargin\": true, \"gridcolor\": \"white\", \"linecolor\": \"white\", \"ticks\": \"\", \"title\": {\"standoff\": 15}, \"zerolinecolor\": \"white\", \"zerolinewidth\": 2}, \"yaxis\": {\"automargin\": true, \"gridcolor\": \"white\", \"linecolor\": \"white\", \"ticks\": \"\", \"title\": {\"standoff\": 15}, \"zerolinecolor\": \"white\", \"zerolinewidth\": 2}}}, \"title\": {\"text\": \"Currrent status of Covid19 India\"}},\n",
              "                        {\"responsive\": true}\n",
              "                    ).then(function(){\n",
              "                            \n",
              "var gd = document.getElementById('005dea35-de31-46b2-8b19-01ea24feb472');\n",
              "var x = new MutationObserver(function (mutations, observer) {{\n",
              "        var display = window.getComputedStyle(gd).display;\n",
              "        if (!display || display === 'none') {{\n",
              "            console.log([gd, 'removed!']);\n",
              "            Plotly.purge(gd);\n",
              "            observer.disconnect();\n",
              "        }}\n",
              "}});\n",
              "\n",
              "// Listen for the removal of the full notebook cells\n",
              "var notebookContainer = gd.closest('#notebook-container');\n",
              "if (notebookContainer) {{\n",
              "    x.observe(notebookContainer, {childList: true});\n",
              "}}\n",
              "\n",
              "// Listen for the clearing of the current output cell\n",
              "var outputEl = gd.closest('.output');\n",
              "if (outputEl) {{\n",
              "    x.observe(outputEl, {childList: true});\n",
              "}}\n",
              "\n",
              "                        })\n",
              "                };\n",
              "                \n",
              "            </script>\n",
              "        </div>\n",
              "</body>\n",
              "</html>"
            ]
          },
          "metadata": {
            "tags": []
          }
        },
        {
          "output_type": "display_data",
          "data": {
            "text/plain": [
              "<Figure size 432x432 with 0 Axes>"
            ]
          },
          "metadata": {
            "tags": []
          }
        }
      ]
    },
    {
      "cell_type": "markdown",
      "metadata": {
        "id": "z898Bs-xbI7-",
        "colab_type": "text"
      },
      "source": [
        "## Most number of cases/cure/deaths on Monthly basis"
      ]
    },
    {
      "cell_type": "code",
      "metadata": {
        "id": "lBz4r5WmHmlV",
        "colab_type": "code",
        "colab": {
          "base_uri": "https://localhost:8080/",
          "height": 542
        },
        "outputId": "1b6d5b55-40c0-4829-d41d-9609168e78b3"
      },
      "source": [
        "# Monthwise graph of Number of positive cases found in last 6 months\n",
        "df_month = df.groupby(df['Month'], as_index=False)['positive', 'cured', 'deaths'].agg('sum').sort_values(by='positive', ascending=True)\n",
        "\n",
        "px.bar(df_month, x='Month', y='positive', color='Month', \n",
        "          labels={'positive': 'Positive cases', 'cured': 'People cured', 'deaths': 'Deaths occured'},\n",
        "          hover_data= ['positive', 'cured', 'deaths'], title='Most number of cases/cure/deaths on Monthly basis', log_y=True)"
      ],
      "execution_count": 244,
      "outputs": [
        {
          "output_type": "display_data",
          "data": {
            "text/html": [
              "<html>\n",
              "<head><meta charset=\"utf-8\" /></head>\n",
              "<body>\n",
              "    <div>\n",
              "            <script src=\"https://cdnjs.cloudflare.com/ajax/libs/mathjax/2.7.5/MathJax.js?config=TeX-AMS-MML_SVG\"></script><script type=\"text/javascript\">if (window.MathJax) {MathJax.Hub.Config({SVG: {font: \"STIX-Web\"}});}</script>\n",
              "                <script type=\"text/javascript\">window.PlotlyConfig = {MathJaxConfig: 'local'};</script>\n",
              "        <script src=\"https://cdn.plot.ly/plotly-latest.min.js\"></script>    \n",
              "            <div id=\"83d88992-0a24-4bea-a5e8-ce1a36595fe5\" class=\"plotly-graph-div\" style=\"height:525px; width:100%;\"></div>\n",
              "            <script type=\"text/javascript\">\n",
              "                \n",
              "                    window.PLOTLYENV=window.PLOTLYENV || {};\n",
              "                    \n",
              "                if (document.getElementById(\"83d88992-0a24-4bea-a5e8-ce1a36595fe5\")) {\n",
              "                    Plotly.newPlot(\n",
              "                        '83d88992-0a24-4bea-a5e8-ce1a36595fe5',\n",
              "                        [{\"alignmentgroup\": \"True\", \"customdata\": [[1, 0, 0]], \"hoverlabel\": {\"namelength\": 0}, \"hovertemplate\": \"Month=%{x}<br>Positive cases=%{customdata[0]}<br>People cured=%{customdata[1]}<br>Deaths occured=%{customdata[2]}\", \"legendgroup\": \"Month=January\", \"marker\": {\"color\": \"#636efa\"}, \"name\": \"Month=January\", \"offsetgroup\": \"Month=January\", \"orientation\": \"v\", \"showlegend\": true, \"textposition\": \"auto\", \"type\": \"bar\", \"x\": [\"January\"], \"xaxis\": \"x\", \"y\": [1], \"yaxis\": \"y\"}, {\"alignmentgroup\": \"True\", \"customdata\": [[3, 0, 0]], \"hoverlabel\": {\"namelength\": 0}, \"hovertemplate\": \"Month=%{x}<br>Positive cases=%{customdata[0]}<br>People cured=%{customdata[1]}<br>Deaths occured=%{customdata[2]}\", \"legendgroup\": \"Month=February\", \"marker\": {\"color\": \"#EF553B\"}, \"name\": \"Month=February\", \"offsetgroup\": \"Month=February\", \"orientation\": \"v\", \"showlegend\": true, \"textposition\": \"auto\", \"type\": \"bar\", \"x\": [\"February\"], \"xaxis\": \"x\", \"y\": [3], \"yaxis\": \"y\"}, {\"alignmentgroup\": \"True\", \"customdata\": [[1359, 124, 35]], \"hoverlabel\": {\"namelength\": 0}, \"hovertemplate\": \"Month=%{x}<br>Positive cases=%{customdata[0]}<br>People cured=%{customdata[1]}<br>Deaths occured=%{customdata[2]}\", \"legendgroup\": \"Month=March\", \"marker\": {\"color\": \"#00cc96\"}, \"name\": \"Month=March\", \"offsetgroup\": \"Month=March\", \"orientation\": \"v\", \"showlegend\": true, \"textposition\": \"auto\", \"type\": \"bar\", \"x\": [\"March\"], \"xaxis\": \"x\", \"y\": [1359], \"yaxis\": \"y\"}, {\"alignmentgroup\": \"True\", \"customdata\": [[33330, 8373, 1075]], \"hoverlabel\": {\"namelength\": 0}, \"hovertemplate\": \"Month=%{x}<br>Positive cases=%{customdata[0]}<br>People cured=%{customdata[1]}<br>Deaths occured=%{customdata[2]}\", \"legendgroup\": \"Month=April\", \"marker\": {\"color\": \"#ab63fa\"}, \"name\": \"Month=April\", \"offsetgroup\": \"Month=April\", \"orientation\": \"v\", \"showlegend\": true, \"textposition\": \"auto\", \"type\": \"bar\", \"x\": [\"April\"], \"xaxis\": \"x\", \"y\": [33330], \"yaxis\": \"y\"}, {\"alignmentgroup\": \"True\", \"customdata\": [[176652, 86984, 5164]], \"hoverlabel\": {\"namelength\": 0}, \"hovertemplate\": \"Month=%{x}<br>Positive cases=%{customdata[0]}<br>People cured=%{customdata[1]}<br>Deaths occured=%{customdata[2]}\", \"legendgroup\": \"Month=May\", \"marker\": {\"color\": \"#FFA15A\"}, \"name\": \"Month=May\", \"offsetgroup\": \"Month=May\", \"orientation\": \"v\", \"showlegend\": true, \"textposition\": \"auto\", \"type\": \"bar\", \"x\": [\"May\"], \"xaxis\": \"x\", \"y\": [176652], \"yaxis\": \"y\"}, {\"alignmentgroup\": \"True\", \"customdata\": [[432200, 248190, 14011]], \"hoverlabel\": {\"namelength\": 0}, \"hovertemplate\": \"Month=%{x}<br>Positive cases=%{customdata[0]}<br>People cured=%{customdata[1]}<br>Deaths occured=%{customdata[2]}\", \"legendgroup\": \"Month=June\", \"marker\": {\"color\": \"#19d3f3\"}, \"name\": \"Month=June\", \"offsetgroup\": \"Month=June\", \"orientation\": \"v\", \"showlegend\": true, \"textposition\": \"auto\", \"type\": \"bar\", \"x\": [\"June\"], \"xaxis\": \"x\", \"y\": [432200], \"yaxis\": \"y\"}],\n",
              "                        {\"barmode\": \"relative\", \"legend\": {\"tracegroupgap\": 0}, \"template\": {\"data\": {\"bar\": [{\"error_x\": {\"color\": \"#2a3f5f\"}, \"error_y\": {\"color\": \"#2a3f5f\"}, \"marker\": {\"line\": {\"color\": \"#E5ECF6\", \"width\": 0.5}}, \"type\": \"bar\"}], \"barpolar\": [{\"marker\": {\"line\": {\"color\": \"#E5ECF6\", \"width\": 0.5}}, \"type\": \"barpolar\"}], \"carpet\": [{\"aaxis\": {\"endlinecolor\": \"#2a3f5f\", \"gridcolor\": \"white\", \"linecolor\": \"white\", \"minorgridcolor\": \"white\", \"startlinecolor\": \"#2a3f5f\"}, \"baxis\": {\"endlinecolor\": \"#2a3f5f\", \"gridcolor\": \"white\", \"linecolor\": \"white\", \"minorgridcolor\": \"white\", \"startlinecolor\": \"#2a3f5f\"}, \"type\": \"carpet\"}], \"choropleth\": [{\"colorbar\": {\"outlinewidth\": 0, \"ticks\": \"\"}, \"type\": \"choropleth\"}], \"contour\": [{\"colorbar\": {\"outlinewidth\": 0, \"ticks\": \"\"}, \"colorscale\": [[0.0, \"#0d0887\"], [0.1111111111111111, \"#46039f\"], [0.2222222222222222, \"#7201a8\"], [0.3333333333333333, \"#9c179e\"], [0.4444444444444444, \"#bd3786\"], [0.5555555555555556, \"#d8576b\"], [0.6666666666666666, \"#ed7953\"], [0.7777777777777778, \"#fb9f3a\"], [0.8888888888888888, \"#fdca26\"], [1.0, \"#f0f921\"]], \"type\": \"contour\"}], \"contourcarpet\": [{\"colorbar\": {\"outlinewidth\": 0, \"ticks\": \"\"}, \"type\": \"contourcarpet\"}], \"heatmap\": [{\"colorbar\": {\"outlinewidth\": 0, \"ticks\": \"\"}, \"colorscale\": [[0.0, \"#0d0887\"], [0.1111111111111111, \"#46039f\"], [0.2222222222222222, \"#7201a8\"], [0.3333333333333333, \"#9c179e\"], [0.4444444444444444, \"#bd3786\"], [0.5555555555555556, \"#d8576b\"], [0.6666666666666666, \"#ed7953\"], [0.7777777777777778, \"#fb9f3a\"], [0.8888888888888888, \"#fdca26\"], [1.0, \"#f0f921\"]], \"type\": \"heatmap\"}], \"heatmapgl\": [{\"colorbar\": {\"outlinewidth\": 0, \"ticks\": \"\"}, \"colorscale\": [[0.0, \"#0d0887\"], [0.1111111111111111, \"#46039f\"], [0.2222222222222222, \"#7201a8\"], [0.3333333333333333, \"#9c179e\"], [0.4444444444444444, \"#bd3786\"], [0.5555555555555556, \"#d8576b\"], [0.6666666666666666, \"#ed7953\"], [0.7777777777777778, \"#fb9f3a\"], [0.8888888888888888, \"#fdca26\"], [1.0, \"#f0f921\"]], \"type\": \"heatmapgl\"}], \"histogram\": [{\"marker\": {\"colorbar\": {\"outlinewidth\": 0, \"ticks\": \"\"}}, \"type\": \"histogram\"}], \"histogram2d\": [{\"colorbar\": {\"outlinewidth\": 0, \"ticks\": \"\"}, \"colorscale\": [[0.0, \"#0d0887\"], [0.1111111111111111, \"#46039f\"], [0.2222222222222222, \"#7201a8\"], [0.3333333333333333, \"#9c179e\"], [0.4444444444444444, \"#bd3786\"], [0.5555555555555556, \"#d8576b\"], [0.6666666666666666, \"#ed7953\"], [0.7777777777777778, \"#fb9f3a\"], [0.8888888888888888, \"#fdca26\"], [1.0, \"#f0f921\"]], \"type\": \"histogram2d\"}], \"histogram2dcontour\": [{\"colorbar\": {\"outlinewidth\": 0, \"ticks\": \"\"}, \"colorscale\": [[0.0, \"#0d0887\"], [0.1111111111111111, \"#46039f\"], [0.2222222222222222, \"#7201a8\"], [0.3333333333333333, \"#9c179e\"], [0.4444444444444444, \"#bd3786\"], [0.5555555555555556, \"#d8576b\"], [0.6666666666666666, \"#ed7953\"], [0.7777777777777778, \"#fb9f3a\"], [0.8888888888888888, \"#fdca26\"], [1.0, \"#f0f921\"]], \"type\": \"histogram2dcontour\"}], \"mesh3d\": [{\"colorbar\": {\"outlinewidth\": 0, \"ticks\": \"\"}, \"type\": \"mesh3d\"}], \"parcoords\": [{\"line\": {\"colorbar\": {\"outlinewidth\": 0, \"ticks\": \"\"}}, \"type\": \"parcoords\"}], \"pie\": [{\"automargin\": true, \"type\": \"pie\"}], \"scatter\": [{\"marker\": {\"colorbar\": {\"outlinewidth\": 0, \"ticks\": \"\"}}, \"type\": \"scatter\"}], \"scatter3d\": [{\"line\": {\"colorbar\": {\"outlinewidth\": 0, \"ticks\": \"\"}}, \"marker\": {\"colorbar\": {\"outlinewidth\": 0, \"ticks\": \"\"}}, \"type\": \"scatter3d\"}], \"scattercarpet\": [{\"marker\": {\"colorbar\": {\"outlinewidth\": 0, \"ticks\": \"\"}}, \"type\": \"scattercarpet\"}], \"scattergeo\": [{\"marker\": {\"colorbar\": {\"outlinewidth\": 0, \"ticks\": \"\"}}, \"type\": \"scattergeo\"}], \"scattergl\": [{\"marker\": {\"colorbar\": {\"outlinewidth\": 0, \"ticks\": \"\"}}, \"type\": \"scattergl\"}], \"scattermapbox\": [{\"marker\": {\"colorbar\": {\"outlinewidth\": 0, \"ticks\": \"\"}}, \"type\": \"scattermapbox\"}], \"scatterpolar\": [{\"marker\": {\"colorbar\": {\"outlinewidth\": 0, \"ticks\": \"\"}}, \"type\": \"scatterpolar\"}], \"scatterpolargl\": [{\"marker\": {\"colorbar\": {\"outlinewidth\": 0, \"ticks\": \"\"}}, \"type\": \"scatterpolargl\"}], \"scatterternary\": [{\"marker\": {\"colorbar\": {\"outlinewidth\": 0, \"ticks\": \"\"}}, \"type\": \"scatterternary\"}], \"surface\": [{\"colorbar\": {\"outlinewidth\": 0, \"ticks\": \"\"}, \"colorscale\": [[0.0, \"#0d0887\"], [0.1111111111111111, \"#46039f\"], [0.2222222222222222, \"#7201a8\"], [0.3333333333333333, \"#9c179e\"], [0.4444444444444444, \"#bd3786\"], [0.5555555555555556, \"#d8576b\"], [0.6666666666666666, \"#ed7953\"], [0.7777777777777778, \"#fb9f3a\"], [0.8888888888888888, \"#fdca26\"], [1.0, \"#f0f921\"]], \"type\": \"surface\"}], \"table\": [{\"cells\": {\"fill\": {\"color\": \"#EBF0F8\"}, \"line\": {\"color\": \"white\"}}, \"header\": {\"fill\": {\"color\": \"#C8D4E3\"}, \"line\": {\"color\": \"white\"}}, \"type\": \"table\"}]}, \"layout\": {\"annotationdefaults\": {\"arrowcolor\": \"#2a3f5f\", \"arrowhead\": 0, \"arrowwidth\": 1}, \"coloraxis\": {\"colorbar\": {\"outlinewidth\": 0, \"ticks\": \"\"}}, \"colorscale\": {\"diverging\": [[0, \"#8e0152\"], [0.1, \"#c51b7d\"], [0.2, \"#de77ae\"], [0.3, \"#f1b6da\"], [0.4, \"#fde0ef\"], [0.5, \"#f7f7f7\"], [0.6, \"#e6f5d0\"], [0.7, \"#b8e186\"], [0.8, \"#7fbc41\"], [0.9, \"#4d9221\"], [1, \"#276419\"]], \"sequential\": [[0.0, \"#0d0887\"], [0.1111111111111111, \"#46039f\"], [0.2222222222222222, \"#7201a8\"], [0.3333333333333333, \"#9c179e\"], [0.4444444444444444, \"#bd3786\"], [0.5555555555555556, \"#d8576b\"], [0.6666666666666666, \"#ed7953\"], [0.7777777777777778, \"#fb9f3a\"], [0.8888888888888888, \"#fdca26\"], [1.0, \"#f0f921\"]], \"sequentialminus\": [[0.0, \"#0d0887\"], [0.1111111111111111, \"#46039f\"], [0.2222222222222222, \"#7201a8\"], [0.3333333333333333, \"#9c179e\"], [0.4444444444444444, \"#bd3786\"], [0.5555555555555556, \"#d8576b\"], [0.6666666666666666, \"#ed7953\"], [0.7777777777777778, \"#fb9f3a\"], [0.8888888888888888, \"#fdca26\"], [1.0, \"#f0f921\"]]}, \"colorway\": [\"#636efa\", \"#EF553B\", \"#00cc96\", \"#ab63fa\", \"#FFA15A\", \"#19d3f3\", \"#FF6692\", \"#B6E880\", \"#FF97FF\", \"#FECB52\"], \"font\": {\"color\": \"#2a3f5f\"}, \"geo\": {\"bgcolor\": \"white\", \"lakecolor\": \"white\", \"landcolor\": \"#E5ECF6\", \"showlakes\": true, \"showland\": true, \"subunitcolor\": \"white\"}, \"hoverlabel\": {\"align\": \"left\"}, \"hovermode\": \"closest\", \"mapbox\": {\"style\": \"light\"}, \"paper_bgcolor\": \"white\", \"plot_bgcolor\": \"#E5ECF6\", \"polar\": {\"angularaxis\": {\"gridcolor\": \"white\", \"linecolor\": \"white\", \"ticks\": \"\"}, \"bgcolor\": \"#E5ECF6\", \"radialaxis\": {\"gridcolor\": \"white\", \"linecolor\": \"white\", \"ticks\": \"\"}}, \"scene\": {\"xaxis\": {\"backgroundcolor\": \"#E5ECF6\", \"gridcolor\": \"white\", \"gridwidth\": 2, \"linecolor\": \"white\", \"showbackground\": true, \"ticks\": \"\", \"zerolinecolor\": \"white\"}, \"yaxis\": {\"backgroundcolor\": \"#E5ECF6\", \"gridcolor\": \"white\", \"gridwidth\": 2, \"linecolor\": \"white\", \"showbackground\": true, \"ticks\": \"\", \"zerolinecolor\": \"white\"}, \"zaxis\": {\"backgroundcolor\": \"#E5ECF6\", \"gridcolor\": \"white\", \"gridwidth\": 2, \"linecolor\": \"white\", \"showbackground\": true, \"ticks\": \"\", \"zerolinecolor\": \"white\"}}, \"shapedefaults\": {\"line\": {\"color\": \"#2a3f5f\"}}, \"ternary\": {\"aaxis\": {\"gridcolor\": \"white\", \"linecolor\": \"white\", \"ticks\": \"\"}, \"baxis\": {\"gridcolor\": \"white\", \"linecolor\": \"white\", \"ticks\": \"\"}, \"bgcolor\": \"#E5ECF6\", \"caxis\": {\"gridcolor\": \"white\", \"linecolor\": \"white\", \"ticks\": \"\"}}, \"title\": {\"x\": 0.05}, \"xaxis\": {\"automargin\": true, \"gridcolor\": \"white\", \"linecolor\": \"white\", \"ticks\": \"\", \"title\": {\"standoff\": 15}, \"zerolinecolor\": \"white\", \"zerolinewidth\": 2}, \"yaxis\": {\"automargin\": true, \"gridcolor\": \"white\", \"linecolor\": \"white\", \"ticks\": \"\", \"title\": {\"standoff\": 15}, \"zerolinecolor\": \"white\", \"zerolinewidth\": 2}}}, \"title\": {\"text\": \"Most number of cases/cure/deaths on Monthly basis\"}, \"xaxis\": {\"anchor\": \"y\", \"categoryarray\": [\"January\", \"February\", \"March\", \"April\", \"May\", \"June\"], \"categoryorder\": \"array\", \"domain\": [0.0, 1.0], \"title\": {\"text\": \"Month\"}}, \"yaxis\": {\"anchor\": \"x\", \"domain\": [0.0, 1.0], \"title\": {\"text\": \"Positive cases\"}, \"type\": \"log\"}},\n",
              "                        {\"responsive\": true}\n",
              "                    ).then(function(){\n",
              "                            \n",
              "var gd = document.getElementById('83d88992-0a24-4bea-a5e8-ce1a36595fe5');\n",
              "var x = new MutationObserver(function (mutations, observer) {{\n",
              "        var display = window.getComputedStyle(gd).display;\n",
              "        if (!display || display === 'none') {{\n",
              "            console.log([gd, 'removed!']);\n",
              "            Plotly.purge(gd);\n",
              "            observer.disconnect();\n",
              "        }}\n",
              "}});\n",
              "\n",
              "// Listen for the removal of the full notebook cells\n",
              "var notebookContainer = gd.closest('#notebook-container');\n",
              "if (notebookContainer) {{\n",
              "    x.observe(notebookContainer, {childList: true});\n",
              "}}\n",
              "\n",
              "// Listen for the clearing of the current output cell\n",
              "var outputEl = gd.closest('.output');\n",
              "if (outputEl) {{\n",
              "    x.observe(outputEl, {childList: true});\n",
              "}}\n",
              "\n",
              "                        })\n",
              "                };\n",
              "                \n",
              "            </script>\n",
              "        </div>\n",
              "</body>\n",
              "</html>"
            ]
          },
          "metadata": {
            "tags": []
          }
        }
      ]
    },
    {
      "cell_type": "markdown",
      "metadata": {
        "id": "S3t68ABHcR6G",
        "colab_type": "text"
      },
      "source": [
        "# Conclusion\n",
        "\n",
        "With the data above we can see the increase in the number of cases in last 6 months, based on states & months. We are also able to how the number of test increased in the later months. However, the data does not have much information to to further analysis or do prediction. \n",
        "\n",
        "Many important information such as individual info, date, time & month of detection and date, time of patient cured, or did not survive etc are missing. \n",
        "\n",
        "Moreover symptoms of paitents, their recovery pattern can help in predict of new patient data.."
      ]
    }
  ]
}