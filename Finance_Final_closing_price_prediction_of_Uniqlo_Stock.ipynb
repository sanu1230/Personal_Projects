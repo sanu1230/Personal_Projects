{
  "nbformat": 4,
  "nbformat_minor": 0,
  "metadata": {
    "accelerator": "GPU",
    "colab": {
      "name": "Finance - Final_closing_price_prediction_of_Uniqlo_Stock",
      "provenance": [],
      "collapsed_sections": [],
      "toc_visible": true,
      "include_colab_link": true
    },
    "kernelspec": {
      "display_name": "Python 3",
      "language": "python",
      "name": "python3"
    },
    "language_info": {
      "codemirror_mode": {
        "name": "ipython",
        "version": 3
      },
      "file_extension": ".py",
      "mimetype": "text/x-python",
      "name": "python",
      "nbconvert_exporter": "python",
      "pygments_lexer": "ipython3",
      "version": "3.6.3"
    }
  },
  "cells": [
    {
      "cell_type": "markdown",
      "metadata": {
        "id": "view-in-github",
        "colab_type": "text"
      },
      "source": [
        "<a href=\"https://colab.research.google.com/github/sanu1230/Personal_Projects/blob/master/Finance_Final_closing_price_prediction_of_Uniqlo_Stock.ipynb\" target=\"_parent\"><img src=\"https://colab.research.google.com/assets/colab-badge.svg\" alt=\"Open In Colab\"/></a>"
      ]
    },
    {
      "cell_type": "markdown",
      "metadata": {
        "id": "mhK0POBdxUsN",
        "colab_type": "text"
      },
      "source": [
        "# Predicting Closing price of Uniqlo Stock\n",
        "\n",
        "\n",
        "\n"
      ]
    },
    {
      "cell_type": "markdown",
      "metadata": {
        "id": "N_VKZ9GuZuwI",
        "colab_type": "text"
      },
      "source": [
        "## Business Requirement\n",
        "\n",
        "- To Understand what will be the estimated stock price of the company in the next 7 days"
      ]
    },
    {
      "cell_type": "markdown",
      "metadata": {
        "id": "fz9ndRQ7xUsU",
        "colab_type": "text"
      },
      "source": [
        "## Importing the packages"
      ]
    },
    {
      "cell_type": "code",
      "metadata": {
        "colab_type": "code",
        "id": "x1VQuvMU4H1E",
        "colab": {}
      },
      "source": [
        "import pandas as pd\n",
        "import numpy as np\n",
        "import matplotlib.pyplot as plt\n",
        "%matplotlib inline\n"
      ],
      "execution_count": 3,
      "outputs": []
    },
    {
      "cell_type": "markdown",
      "metadata": {
        "id": "VnzjT7aKxUsP",
        "colab_type": "text"
      },
      "source": [
        "## Loading Data"
      ]
    },
    {
      "cell_type": "code",
      "metadata": {
        "id": "5EeoWtVFa6hu",
        "colab_type": "code",
        "colab": {
          "base_uri": "https://localhost:8080/",
          "height": 121
        },
        "outputId": "d10c59ab-22bf-4754-8665-0b2540de57c1"
      },
      "source": [
        "from google.colab import drive\n",
        "drive.mount('/content/drive')"
      ],
      "execution_count": 2,
      "outputs": [
        {
          "output_type": "stream",
          "text": [
            "Go to this URL in a browser: https://accounts.google.com/o/oauth2/auth?client_id=947318989803-6bn6qk8qdgf4n4g3pfee6491hc0brc4i.apps.googleusercontent.com&redirect_uri=urn%3aietf%3awg%3aoauth%3a2.0%3aoob&scope=email%20https%3a%2f%2fwww.googleapis.com%2fauth%2fdocs.test%20https%3a%2f%2fwww.googleapis.com%2fauth%2fdrive%20https%3a%2f%2fwww.googleapis.com%2fauth%2fdrive.photos.readonly%20https%3a%2f%2fwww.googleapis.com%2fauth%2fpeopleapi.readonly&response_type=code\n",
            "\n",
            "Enter your authorization code:\n",
            "··········\n",
            "Mounted at /content/drive\n"
          ],
          "name": "stdout"
        }
      ]
    },
    {
      "cell_type": "code",
      "metadata": {
        "colab_type": "code",
        "id": "_OS-49p04H5A",
        "colab": {}
      },
      "source": [
        "df=pd.read_csv(\"/content/drive/My Drive/Colab Notebooks/Uniqlo_2012-2016_Train.csv\")          # Reading the training data"
      ],
      "execution_count": 4,
      "outputs": []
    },
    {
      "cell_type": "code",
      "metadata": {
        "colab_type": "code",
        "id": "RNnTXY-d4H-0",
        "colab": {
          "base_uri": "https://localhost:8080/",
          "height": 195
        },
        "outputId": "b6ba74e8-94c1-4004-e963-02da5176b463"
      },
      "source": [
        "df.head()                                                                                 # Checking the first 5 rows of the data"
      ],
      "execution_count": 5,
      "outputs": [
        {
          "output_type": "execute_result",
          "data": {
            "text/html": [
              "<div>\n",
              "<style scoped>\n",
              "    .dataframe tbody tr th:only-of-type {\n",
              "        vertical-align: middle;\n",
              "    }\n",
              "\n",
              "    .dataframe tbody tr th {\n",
              "        vertical-align: top;\n",
              "    }\n",
              "\n",
              "    .dataframe thead th {\n",
              "        text-align: right;\n",
              "    }\n",
              "</style>\n",
              "<table border=\"1\" class=\"dataframe\">\n",
              "  <thead>\n",
              "    <tr style=\"text-align: right;\">\n",
              "      <th></th>\n",
              "      <th>Date</th>\n",
              "      <th>Open</th>\n",
              "      <th>High</th>\n",
              "      <th>Low</th>\n",
              "      <th>Close</th>\n",
              "      <th>Volume</th>\n",
              "      <th>Stock Trading</th>\n",
              "    </tr>\n",
              "  </thead>\n",
              "  <tbody>\n",
              "    <tr>\n",
              "      <th>0</th>\n",
              "      <td>2016-12-30</td>\n",
              "      <td>42120</td>\n",
              "      <td>42330</td>\n",
              "      <td>41700</td>\n",
              "      <td>41830</td>\n",
              "      <td>610000</td>\n",
              "      <td>25628028000</td>\n",
              "    </tr>\n",
              "    <tr>\n",
              "      <th>1</th>\n",
              "      <td>2016-12-29</td>\n",
              "      <td>43000</td>\n",
              "      <td>43220</td>\n",
              "      <td>42540</td>\n",
              "      <td>42660</td>\n",
              "      <td>448400</td>\n",
              "      <td>19188227000</td>\n",
              "    </tr>\n",
              "    <tr>\n",
              "      <th>2</th>\n",
              "      <td>2016-12-28</td>\n",
              "      <td>43940</td>\n",
              "      <td>43970</td>\n",
              "      <td>43270</td>\n",
              "      <td>43270</td>\n",
              "      <td>339900</td>\n",
              "      <td>14780670000</td>\n",
              "    </tr>\n",
              "    <tr>\n",
              "      <th>3</th>\n",
              "      <td>2016-12-27</td>\n",
              "      <td>43140</td>\n",
              "      <td>43700</td>\n",
              "      <td>43140</td>\n",
              "      <td>43620</td>\n",
              "      <td>400100</td>\n",
              "      <td>17427993000</td>\n",
              "    </tr>\n",
              "    <tr>\n",
              "      <th>4</th>\n",
              "      <td>2016-12-26</td>\n",
              "      <td>43310</td>\n",
              "      <td>43660</td>\n",
              "      <td>43090</td>\n",
              "      <td>43340</td>\n",
              "      <td>358200</td>\n",
              "      <td>15547803000</td>\n",
              "    </tr>\n",
              "  </tbody>\n",
              "</table>\n",
              "</div>"
            ],
            "text/plain": [
              "         Date   Open   High    Low  Close  Volume  Stock Trading\n",
              "0  2016-12-30  42120  42330  41700  41830  610000    25628028000\n",
              "1  2016-12-29  43000  43220  42540  42660  448400    19188227000\n",
              "2  2016-12-28  43940  43970  43270  43270  339900    14780670000\n",
              "3  2016-12-27  43140  43700  43140  43620  400100    17427993000\n",
              "4  2016-12-26  43310  43660  43090  43340  358200    15547803000"
            ]
          },
          "metadata": {
            "tags": []
          },
          "execution_count": 5
        }
      ]
    },
    {
      "cell_type": "markdown",
      "metadata": {
        "id": "6eOnQeNxxUsd",
        "colab_type": "text"
      },
      "source": [
        "We just need two features: Date and Close"
      ]
    },
    {
      "cell_type": "code",
      "metadata": {
        "colab_type": "code",
        "id": "8QYJvFiX4IDw",
        "colab": {
          "base_uri": "https://localhost:8080/",
          "height": 195
        },
        "outputId": "87b0836e-752f-4e0d-f604-62b0ec8fb633"
      },
      "source": [
        "cols=['Date','Close']\n",
        "stocks_df=df[cols]                                                                            # new_df contains only the required columns\n",
        "stocks_df.head()"
      ],
      "execution_count": 6,
      "outputs": [
        {
          "output_type": "execute_result",
          "data": {
            "text/html": [
              "<div>\n",
              "<style scoped>\n",
              "    .dataframe tbody tr th:only-of-type {\n",
              "        vertical-align: middle;\n",
              "    }\n",
              "\n",
              "    .dataframe tbody tr th {\n",
              "        vertical-align: top;\n",
              "    }\n",
              "\n",
              "    .dataframe thead th {\n",
              "        text-align: right;\n",
              "    }\n",
              "</style>\n",
              "<table border=\"1\" class=\"dataframe\">\n",
              "  <thead>\n",
              "    <tr style=\"text-align: right;\">\n",
              "      <th></th>\n",
              "      <th>Date</th>\n",
              "      <th>Close</th>\n",
              "    </tr>\n",
              "  </thead>\n",
              "  <tbody>\n",
              "    <tr>\n",
              "      <th>0</th>\n",
              "      <td>2016-12-30</td>\n",
              "      <td>41830</td>\n",
              "    </tr>\n",
              "    <tr>\n",
              "      <th>1</th>\n",
              "      <td>2016-12-29</td>\n",
              "      <td>42660</td>\n",
              "    </tr>\n",
              "    <tr>\n",
              "      <th>2</th>\n",
              "      <td>2016-12-28</td>\n",
              "      <td>43270</td>\n",
              "    </tr>\n",
              "    <tr>\n",
              "      <th>3</th>\n",
              "      <td>2016-12-27</td>\n",
              "      <td>43620</td>\n",
              "    </tr>\n",
              "    <tr>\n",
              "      <th>4</th>\n",
              "      <td>2016-12-26</td>\n",
              "      <td>43340</td>\n",
              "    </tr>\n",
              "  </tbody>\n",
              "</table>\n",
              "</div>"
            ],
            "text/plain": [
              "         Date  Close\n",
              "0  2016-12-30  41830\n",
              "1  2016-12-29  42660\n",
              "2  2016-12-28  43270\n",
              "3  2016-12-27  43620\n",
              "4  2016-12-26  43340"
            ]
          },
          "metadata": {
            "tags": []
          },
          "execution_count": 6
        }
      ]
    },
    {
      "cell_type": "markdown",
      "metadata": {
        "id": "BHb2g333xUsg",
        "colab_type": "text"
      },
      "source": [
        "## Exploring the data"
      ]
    },
    {
      "cell_type": "code",
      "metadata": {
        "id": "XQUNFueJxUsh",
        "colab_type": "code",
        "colab": {
          "base_uri": "https://localhost:8080/",
          "height": 168
        },
        "outputId": "27164a4a-c151-42b5-e3a9-b92319f03f18"
      },
      "source": [
        "stocks_df.info()                                                                             # Checking the missing values and datatypes"
      ],
      "execution_count": 7,
      "outputs": [
        {
          "output_type": "stream",
          "text": [
            "<class 'pandas.core.frame.DataFrame'>\n",
            "RangeIndex: 1226 entries, 0 to 1225\n",
            "Data columns (total 2 columns):\n",
            " #   Column  Non-Null Count  Dtype \n",
            "---  ------  --------------  ----- \n",
            " 0   Date    1226 non-null   object\n",
            " 1   Close   1226 non-null   int64 \n",
            "dtypes: int64(1), object(1)\n",
            "memory usage: 19.3+ KB\n"
          ],
          "name": "stdout"
        }
      ]
    },
    {
      "cell_type": "markdown",
      "metadata": {
        "id": "4I6F0fBExUsk",
        "colab_type": "text"
      },
      "source": [
        "**The Date column is an object. Let's convert it to datetime.**"
      ]
    },
    {
      "cell_type": "code",
      "metadata": {
        "colab_type": "code",
        "id": "bRuzkOrd5Wqs",
        "colab": {
          "base_uri": "https://localhost:8080/",
          "height": 118
        },
        "outputId": "eff0a0a8-4f9c-43b8-d87b-942f3b9229e6"
      },
      "source": [
        "stocks_df['Date']=pd.to_datetime(stocks_df['Date'])"
      ],
      "execution_count": 8,
      "outputs": [
        {
          "output_type": "stream",
          "text": [
            "/usr/local/lib/python3.6/dist-packages/ipykernel_launcher.py:1: SettingWithCopyWarning: \n",
            "A value is trying to be set on a copy of a slice from a DataFrame.\n",
            "Try using .loc[row_indexer,col_indexer] = value instead\n",
            "\n",
            "See the caveats in the documentation: https://pandas.pydata.org/pandas-docs/stable/user_guide/indexing.html#returning-a-view-versus-a-copy\n",
            "  \"\"\"Entry point for launching an IPython kernel.\n"
          ],
          "name": "stderr"
        }
      ]
    },
    {
      "cell_type": "code",
      "metadata": {
        "colab_type": "code",
        "id": "-CseY9QQ5jQi",
        "colab": {
          "base_uri": "https://localhost:8080/",
          "height": 168
        },
        "outputId": "10953bb5-a81e-4399-cd90-270a71613e59"
      },
      "source": [
        "# Lets recheck\n",
        "stocks_df.info()"
      ],
      "execution_count": 9,
      "outputs": [
        {
          "output_type": "stream",
          "text": [
            "<class 'pandas.core.frame.DataFrame'>\n",
            "RangeIndex: 1226 entries, 0 to 1225\n",
            "Data columns (total 2 columns):\n",
            " #   Column  Non-Null Count  Dtype         \n",
            "---  ------  --------------  -----         \n",
            " 0   Date    1226 non-null   datetime64[ns]\n",
            " 1   Close   1226 non-null   int64         \n",
            "dtypes: datetime64[ns](1), int64(1)\n",
            "memory usage: 19.3 KB\n"
          ],
          "name": "stdout"
        }
      ]
    },
    {
      "cell_type": "markdown",
      "metadata": {
        "id": "NsfrG1iDxUsr",
        "colab_type": "text"
      },
      "source": [
        "Setting the date column as index"
      ]
    },
    {
      "cell_type": "code",
      "metadata": {
        "colab_type": "code",
        "id": "BvnX-nO64IJB",
        "colab": {}
      },
      "source": [
        "stocks_df = stocks_df.set_index(\"Date\")"
      ],
      "execution_count": 10,
      "outputs": []
    },
    {
      "cell_type": "code",
      "metadata": {
        "colab_type": "code",
        "id": "Ca9JSPXm4IIM",
        "colab": {
          "base_uri": "https://localhost:8080/",
          "height": 431
        },
        "outputId": "42bca13c-c88c-4a70-89f3-c242776bf5ae"
      },
      "source": [
        "stocks_df"
      ],
      "execution_count": 13,
      "outputs": [
        {
          "output_type": "execute_result",
          "data": {
            "text/html": [
              "<div>\n",
              "<style scoped>\n",
              "    .dataframe tbody tr th:only-of-type {\n",
              "        vertical-align: middle;\n",
              "    }\n",
              "\n",
              "    .dataframe tbody tr th {\n",
              "        vertical-align: top;\n",
              "    }\n",
              "\n",
              "    .dataframe thead th {\n",
              "        text-align: right;\n",
              "    }\n",
              "</style>\n",
              "<table border=\"1\" class=\"dataframe\">\n",
              "  <thead>\n",
              "    <tr style=\"text-align: right;\">\n",
              "      <th></th>\n",
              "      <th>Close</th>\n",
              "    </tr>\n",
              "    <tr>\n",
              "      <th>Date</th>\n",
              "      <th></th>\n",
              "    </tr>\n",
              "  </thead>\n",
              "  <tbody>\n",
              "    <tr>\n",
              "      <th>2016-12-30</th>\n",
              "      <td>41830</td>\n",
              "    </tr>\n",
              "    <tr>\n",
              "      <th>2016-12-29</th>\n",
              "      <td>42660</td>\n",
              "    </tr>\n",
              "    <tr>\n",
              "      <th>2016-12-28</th>\n",
              "      <td>43270</td>\n",
              "    </tr>\n",
              "    <tr>\n",
              "      <th>2016-12-27</th>\n",
              "      <td>43620</td>\n",
              "    </tr>\n",
              "    <tr>\n",
              "      <th>2016-12-26</th>\n",
              "      <td>43340</td>\n",
              "    </tr>\n",
              "    <tr>\n",
              "      <th>...</th>\n",
              "      <td>...</td>\n",
              "    </tr>\n",
              "    <tr>\n",
              "      <th>2012-01-11</th>\n",
              "      <td>14590</td>\n",
              "    </tr>\n",
              "    <tr>\n",
              "      <th>2012-01-10</th>\n",
              "      <td>14390</td>\n",
              "    </tr>\n",
              "    <tr>\n",
              "      <th>2012-01-06</th>\n",
              "      <td>13850</td>\n",
              "    </tr>\n",
              "    <tr>\n",
              "      <th>2012-01-05</th>\n",
              "      <td>13800</td>\n",
              "    </tr>\n",
              "    <tr>\n",
              "      <th>2012-01-04</th>\n",
              "      <td>13720</td>\n",
              "    </tr>\n",
              "  </tbody>\n",
              "</table>\n",
              "<p>1226 rows × 1 columns</p>\n",
              "</div>"
            ],
            "text/plain": [
              "            Close\n",
              "Date             \n",
              "2016-12-30  41830\n",
              "2016-12-29  42660\n",
              "2016-12-28  43270\n",
              "2016-12-27  43620\n",
              "2016-12-26  43340\n",
              "...           ...\n",
              "2012-01-11  14590\n",
              "2012-01-10  14390\n",
              "2012-01-06  13850\n",
              "2012-01-05  13800\n",
              "2012-01-04  13720\n",
              "\n",
              "[1226 rows x 1 columns]"
            ]
          },
          "metadata": {
            "tags": []
          },
          "execution_count": 13
        }
      ]
    },
    {
      "cell_type": "markdown",
      "metadata": {
        "id": "NpZ-sBsrxUs0",
        "colab_type": "text"
      },
      "source": [
        "Our data starts from 4th January 2012 to 30th December 2016"
      ]
    },
    {
      "cell_type": "code",
      "metadata": {
        "id": "g4PP1KFMvOYq",
        "colab_type": "code",
        "colab": {
          "base_uri": "https://localhost:8080/",
          "height": 34
        },
        "outputId": "23de43fd-b5a2-468d-ee23-cf480b6c20b5"
      },
      "source": [
        "stocks_df.shape"
      ],
      "execution_count": 14,
      "outputs": [
        {
          "output_type": "execute_result",
          "data": {
            "text/plain": [
              "(1226, 1)"
            ]
          },
          "metadata": {
            "tags": []
          },
          "execution_count": 14
        }
      ]
    },
    {
      "cell_type": "code",
      "metadata": {
        "id": "OTk9RHi7dzzM",
        "colab_type": "code",
        "colab": {
          "base_uri": "https://localhost:8080/",
          "height": 414
        },
        "outputId": "6f9316b9-b6d1-4fe4-cd9a-ae19fd4164a2"
      },
      "source": [
        "import seaborn as sns\n",
        "plt.figure(figsize=(10, 6))\n",
        "sns.lineplot(data=stocks_df, x=stocks_df.index, y='Close')\n",
        "plt.xlabel(\"Date\", fontsize=16)\n",
        "plt.ylabel(\"Close Price\", fontsize=16)\n",
        "plt.title(\"Close Price Vs Date\", fontsize=20)\n",
        "plt.show()"
      ],
      "execution_count": 21,
      "outputs": [
        {
          "output_type": "display_data",
          "data": {
            "image/png": "[encoded data removed]",
            "text/plain": [
              "<Figure size 720x432 with 1 Axes>"
            ]
          },
          "metadata": {
            "tags": [],
            "needs_background": "light"
          }
        }
      ]
    },
    {
      "cell_type": "markdown",
      "metadata": {
        "id": "I-YzhXtfxUs3",
        "colab_type": "text"
      },
      "source": [
        "## Importing more packages for prediction"
      ]
    },
    {
      "cell_type": "code",
      "metadata": {
        "colab_type": "code",
        "id": "3WUElrhz4IDI",
        "colab": {}
      },
      "source": [
        "from keras.models import Sequential                   # Sequential model\n",
        "from keras.layers import Dense                        # For fully connected layers\n",
        "from keras.layers import LSTM                         # For LSTM layers\n",
        "from sklearn.preprocessing import MinMaxScaler        # Scaling the data\n",
        "min_max_scaler = MinMaxScaler()"
      ],
      "execution_count": 22,
      "outputs": []
    },
    {
      "cell_type": "code",
      "metadata": {
        "colab_type": "code",
        "id": "9NJRjkKs5Rvk",
        "colab": {
          "base_uri": "https://localhost:8080/",
          "height": 34
        },
        "outputId": "d32db857-9d1b-44b6-a95e-e58ce6d50d1d"
      },
      "source": [
        "len(stocks_df)"
      ],
      "execution_count": 23,
      "outputs": [
        {
          "output_type": "execute_result",
          "data": {
            "text/plain": [
              "1226"
            ]
          },
          "metadata": {
            "tags": []
          },
          "execution_count": 23
        }
      ]
    },
    {
      "cell_type": "markdown",
      "metadata": {
        "id": "EPAfSkBjxUs8",
        "colab_type": "text"
      },
      "source": [
        "Checking for null values"
      ]
    },
    {
      "cell_type": "code",
      "metadata": {
        "colab_type": "code",
        "id": "WvggWLoE5Ryb",
        "colab": {
          "base_uri": "https://localhost:8080/",
          "height": 50
        },
        "outputId": "7fd214d4-95e7-49f8-9783-5e1d37cfeda4"
      },
      "source": [
        "stocks_df.isnull().sum()                                 # There are no null values in the dataframe"
      ],
      "execution_count": 24,
      "outputs": [
        {
          "output_type": "execute_result",
          "data": {
            "text/plain": [
              "Close    0\n",
              "dtype: int64"
            ]
          },
          "metadata": {
            "tags": []
          },
          "execution_count": 24
        }
      ]
    },
    {
      "cell_type": "markdown",
      "metadata": {
        "id": "XYmgKKjSxUs_",
        "colab_type": "text"
      },
      "source": [
        "## Train Test Split\n",
        "Lets make prediction for 30 days"
      ]
    },
    {
      "cell_type": "code",
      "metadata": {
        "colab_type": "code",
        "id": "WrDQ1m6V5R07",
        "colab": {}
      },
      "source": [
        "prediction_days = -30\n",
        "ts_train= stocks_df[:prediction_days]       # Remove 30 days from the end for Training data\n",
        "ts_test= stocks_df[prediction_days:]        # Last 30 days values for test"
      ],
      "execution_count": 28,
      "outputs": []
    },
    {
      "cell_type": "code",
      "metadata": {
        "colab_type": "code",
        "id": "J1R4Bzpl5R3z",
        "colab": {
          "base_uri": "https://localhost:8080/",
          "height": 34
        },
        "outputId": "f39404aa-5642-4f7d-e66d-b9e17f637fa3"
      },
      "source": [
        "ts_train.shape                                             # Checking the number of rows in train data"
      ],
      "execution_count": 29,
      "outputs": [
        {
          "output_type": "execute_result",
          "data": {
            "text/plain": [
              "(1196, 1)"
            ]
          },
          "metadata": {
            "tags": []
          },
          "execution_count": 29
        }
      ]
    },
    {
      "cell_type": "code",
      "metadata": {
        "colab_type": "code",
        "id": "1PM52T2y5R61",
        "colab": {
          "base_uri": "https://localhost:8080/",
          "height": 34
        },
        "outputId": "d6215753-4267-40f4-8811-45a27c4eb16e"
      },
      "source": [
        "ts_test.shape                                              # Checking the number of rows in test data"
      ],
      "execution_count": 30,
      "outputs": [
        {
          "output_type": "execute_result",
          "data": {
            "text/plain": [
              "(30, 1)"
            ]
          },
          "metadata": {
            "tags": []
          },
          "execution_count": 30
        }
      ]
    },
    {
      "cell_type": "code",
      "metadata": {
        "colab_type": "code",
        "id": "v3QU9GTp5R9-",
        "colab": {
          "base_uri": "https://localhost:8080/",
          "height": 225
        },
        "outputId": "e72a901c-cfa4-446a-d307-fa9a2346710f"
      },
      "source": [
        "ts_test.tail()"
      ],
      "execution_count": 31,
      "outputs": [
        {
          "output_type": "execute_result",
          "data": {
            "text/html": [
              "<div>\n",
              "<style scoped>\n",
              "    .dataframe tbody tr th:only-of-type {\n",
              "        vertical-align: middle;\n",
              "    }\n",
              "\n",
              "    .dataframe tbody tr th {\n",
              "        vertical-align: top;\n",
              "    }\n",
              "\n",
              "    .dataframe thead th {\n",
              "        text-align: right;\n",
              "    }\n",
              "</style>\n",
              "<table border=\"1\" class=\"dataframe\">\n",
              "  <thead>\n",
              "    <tr style=\"text-align: right;\">\n",
              "      <th></th>\n",
              "      <th>Close</th>\n",
              "    </tr>\n",
              "    <tr>\n",
              "      <th>Date</th>\n",
              "      <th></th>\n",
              "    </tr>\n",
              "  </thead>\n",
              "  <tbody>\n",
              "    <tr>\n",
              "      <th>2012-01-11</th>\n",
              "      <td>14590</td>\n",
              "    </tr>\n",
              "    <tr>\n",
              "      <th>2012-01-10</th>\n",
              "      <td>14390</td>\n",
              "    </tr>\n",
              "    <tr>\n",
              "      <th>2012-01-06</th>\n",
              "      <td>13850</td>\n",
              "    </tr>\n",
              "    <tr>\n",
              "      <th>2012-01-05</th>\n",
              "      <td>13800</td>\n",
              "    </tr>\n",
              "    <tr>\n",
              "      <th>2012-01-04</th>\n",
              "      <td>13720</td>\n",
              "    </tr>\n",
              "  </tbody>\n",
              "</table>\n",
              "</div>"
            ],
            "text/plain": [
              "            Close\n",
              "Date             \n",
              "2012-01-11  14590\n",
              "2012-01-10  14390\n",
              "2012-01-06  13850\n",
              "2012-01-05  13800\n",
              "2012-01-04  13720"
            ]
          },
          "metadata": {
            "tags": []
          },
          "execution_count": 31
        }
      ]
    },
    {
      "cell_type": "code",
      "metadata": {
        "colab_type": "code",
        "id": "jWdhAhlG5SBj",
        "colab": {}
      },
      "source": [
        "# Scaling the train data\n",
        "\n",
        "training_set = ts_train.values\n",
        "training_set = min_max_scaler.fit_transform(training_set)"
      ],
      "execution_count": 32,
      "outputs": []
    },
    {
      "cell_type": "markdown",
      "metadata": {
        "id": "zw9PCMphxUtQ",
        "colab_type": "text"
      },
      "source": [
        "## Splitting into X and y\n",
        "**X is our inputs which is the training data.  <br>\n",
        "y is the output, which is training data shifted by 1.**   <br>\n",
        "\n",
        "For a given day, we want to predict the stock value for the next day."
      ]
    },
    {
      "cell_type": "code",
      "metadata": {
        "colab_type": "code",
        "id": "sbbMnz7Y4H9_",
        "colab": {}
      },
      "source": [
        "x_train=training_set[0:len(training_set)-1]\n",
        "y_train=training_set[1:len(training_set)]"
      ],
      "execution_count": 33,
      "outputs": []
    },
    {
      "cell_type": "code",
      "metadata": {
        "colab_type": "code",
        "id": "8TR1Csmf4H4h",
        "colab": {
          "base_uri": "https://localhost:8080/",
          "height": 101
        },
        "outputId": "bb0d4d6e-ebd7-454e-a54d-81d6c63f17e3"
      },
      "source": [
        "x_train[:5]                                                  # Checking the first 5 rows of the scaled training data"
      ],
      "execution_count": 34,
      "outputs": [
        {
          "output_type": "execute_result",
          "data": {
            "text/plain": [
              "array([[0.56968529],\n",
              "       [0.58745451],\n",
              "       [0.60051381],\n",
              "       [0.60800685],\n",
              "       [0.60201242]])"
            ]
          },
          "metadata": {
            "tags": []
          },
          "execution_count": 34
        }
      ]
    },
    {
      "cell_type": "code",
      "metadata": {
        "colab_type": "code",
        "id": "tNXfxBh992NW",
        "colab": {
          "base_uri": "https://localhost:8080/",
          "height": 101
        },
        "outputId": "41483114-ff76-4f76-dbd6-4fe8c7d7c657"
      },
      "source": [
        "y_train[:5]                                                  # Checking the first 5 rows of the scaled test data"
      ],
      "execution_count": 35,
      "outputs": [
        {
          "output_type": "execute_result",
          "data": {
            "text/plain": [
              "array([[0.58745451],\n",
              "       [0.60051381],\n",
              "       [0.60800685],\n",
              "       [0.60201242],\n",
              "       [0.60500963]])"
            ]
          },
          "metadata": {
            "tags": []
          },
          "execution_count": 35
        }
      ]
    },
    {
      "cell_type": "code",
      "metadata": {
        "colab_type": "code",
        "id": "UVI6RmlT4HzY",
        "colab": {
          "base_uri": "https://localhost:8080/",
          "height": 34
        },
        "outputId": "9818298c-3332-4d63-a689-7a1fd6ea5fcb"
      },
      "source": [
        "len(x_train)                                                 # We should have same number of records in x_train and y_train"
      ],
      "execution_count": 36,
      "outputs": [
        {
          "output_type": "execute_result",
          "data": {
            "text/plain": [
              "1195"
            ]
          },
          "metadata": {
            "tags": []
          },
          "execution_count": 36
        }
      ]
    },
    {
      "cell_type": "code",
      "metadata": {
        "colab_type": "code",
        "id": "GAu7Egv4-Arr",
        "colab": {
          "base_uri": "https://localhost:8080/",
          "height": 34
        },
        "outputId": "de730875-505d-4132-92d3-e3a71b49d00e"
      },
      "source": [
        "len(y_train)"
      ],
      "execution_count": 37,
      "outputs": [
        {
          "output_type": "execute_result",
          "data": {
            "text/plain": [
              "1195"
            ]
          },
          "metadata": {
            "tags": []
          },
          "execution_count": 37
        }
      ]
    },
    {
      "cell_type": "markdown",
      "metadata": {
        "id": "igMSGcANxUte",
        "colab_type": "text"
      },
      "source": [
        "## Model Building\n",
        "- Neural Network"
      ]
    },
    {
      "cell_type": "code",
      "metadata": {
        "colab_type": "code",
        "id": "M-HAm06z-Jr1",
        "colab": {}
      },
      "source": [
        "x_train = np.reshape(x_train, (len(x_train), 1, 1))          # We need to reshape the data before it is passed to the model"
      ],
      "execution_count": 43,
      "outputs": []
    },
    {
      "cell_type": "code",
      "metadata": {
        "id": "9tBVckKZ1YeN",
        "colab_type": "code",
        "colab": {
          "base_uri": "https://localhost:8080/",
          "height": 34
        },
        "outputId": "88d0f427-b1ff-4a07-95ed-b365d6dfdbdf"
      },
      "source": [
        "x_train.shape"
      ],
      "execution_count": 39,
      "outputs": [
        {
          "output_type": "execute_result",
          "data": {
            "text/plain": [
              "(1195, 1, 1)"
            ]
          },
          "metadata": {
            "tags": []
          },
          "execution_count": 39
        }
      ]
    },
    {
      "cell_type": "code",
      "metadata": {
        "id": "rjEHKpVkgnLi",
        "colab_type": "code",
        "colab": {
          "base_uri": "https://localhost:8080/",
          "height": 235
        },
        "outputId": "a2f651d1-9ca7-409b-8323-f52ab28980b2"
      },
      "source": [
        "print(x_train)"
      ],
      "execution_count": 40,
      "outputs": [
        {
          "output_type": "stream",
          "text": [
            "[[[0.56968529]]\n",
            "\n",
            " [[0.58745451]]\n",
            "\n",
            " [[0.60051381]]\n",
            "\n",
            " ...\n",
            "\n",
            " [[0.02633269]]\n",
            "\n",
            " [[0.02633269]]\n",
            "\n",
            " [[0.0261186 ]]]\n"
          ],
          "name": "stdout"
        }
      ]
    },
    {
      "cell_type": "code",
      "metadata": {
        "colab_type": "code",
        "id": "18FSfsRj-Ju1",
        "colab": {}
      },
      "source": [
        "num_units = 32\n",
        "activation_function = 'sigmoid'\n",
        "optimizer = 'adam'\n",
        "loss_function = 'mean_squared_error'\n",
        "batch_size = 5\n",
        "num_epochs = 50"
      ],
      "execution_count": 58,
      "outputs": []
    },
    {
      "cell_type": "code",
      "metadata": {
        "colab_type": "code",
        "id": "kxQTfUMB-Jxs",
        "scrolled": true,
        "colab": {
          "base_uri": "https://localhost:8080/",
          "height": 1000
        },
        "outputId": "7e45ce31-21e4-4583-8a13-c8772f7cd73f"
      },
      "source": [
        "# Training the data from 4-01-2012 to 16-11-2016\n",
        "\n",
        "regressor = Sequential()\n",
        "\n",
        "# Adding the input layer and the LSTM layer\n",
        "regressor.add(LSTM(units = num_units, activation = activation_function, input_shape=(None, 1)))\n",
        "\n",
        "# Adding the output layer\n",
        "regressor.add(Dense(units = 1))\n",
        "\n",
        "# Compiling the RNN\n",
        "regressor.compile(optimizer = optimizer, loss = loss_function)\n",
        "\n",
        "# Using the training set to train the model\n",
        "regressor.fit(x_train, y_train, batch_size = batch_size, epochs = num_epochs)"
      ],
      "execution_count": 59,
      "outputs": [
        {
          "output_type": "stream",
          "text": [
            "WARNING:tensorflow:Layer lstm will not use cuDNN kernel since it doesn't meet the cuDNN kernel criteria. It will use generic GPU kernel as fallback when running on GPU\n",
            "Epoch 1/50\n",
            "239/239 [==============================] - 1s 3ms/step - loss: 0.0462\n",
            "Epoch 2/50\n",
            "239/239 [==============================] - 1s 3ms/step - loss: 0.0300\n",
            "Epoch 3/50\n",
            "239/239 [==============================] - 1s 3ms/step - loss: 0.0171\n",
            "Epoch 4/50\n",
            "239/239 [==============================] - 1s 3ms/step - loss: 0.0081\n",
            "Epoch 5/50\n",
            "239/239 [==============================] - 1s 3ms/step - loss: 0.0030\n",
            "Epoch 6/50\n",
            "239/239 [==============================] - 1s 3ms/step - loss: 9.4778e-04\n",
            "Epoch 7/50\n",
            "239/239 [==============================] - 1s 3ms/step - loss: 4.3444e-04\n",
            "Epoch 8/50\n",
            "239/239 [==============================] - 1s 3ms/step - loss: 3.5921e-04\n",
            "Epoch 9/50\n",
            "239/239 [==============================] - 1s 3ms/step - loss: 3.4091e-04\n",
            "Epoch 10/50\n",
            "239/239 [==============================] - 1s 3ms/step - loss: 3.3945e-04\n",
            "Epoch 11/50\n",
            "239/239 [==============================] - 1s 3ms/step - loss: 3.4604e-04\n",
            "Epoch 12/50\n",
            "239/239 [==============================] - 1s 3ms/step - loss: 3.5877e-04\n",
            "Epoch 13/50\n",
            "239/239 [==============================] - 1s 3ms/step - loss: 3.4709e-04\n",
            "Epoch 14/50\n",
            "239/239 [==============================] - 1s 3ms/step - loss: 3.7255e-04\n",
            "Epoch 15/50\n",
            "239/239 [==============================] - 1s 3ms/step - loss: 3.6506e-04\n",
            "Epoch 16/50\n",
            "239/239 [==============================] - 1s 3ms/step - loss: 3.5716e-04\n",
            "Epoch 17/50\n",
            "239/239 [==============================] - 1s 3ms/step - loss: 3.6188e-04\n",
            "Epoch 18/50\n",
            "239/239 [==============================] - 1s 3ms/step - loss: 3.6675e-04\n",
            "Epoch 19/50\n",
            "239/239 [==============================] - 1s 3ms/step - loss: 3.5235e-04\n",
            "Epoch 20/50\n",
            "239/239 [==============================] - 1s 3ms/step - loss: 3.5254e-04\n",
            "Epoch 21/50\n",
            "239/239 [==============================] - 1s 3ms/step - loss: 3.4964e-04\n",
            "Epoch 22/50\n",
            "239/239 [==============================] - 1s 3ms/step - loss: 3.8034e-04\n",
            "Epoch 23/50\n",
            "239/239 [==============================] - 1s 3ms/step - loss: 3.6606e-04\n",
            "Epoch 24/50\n",
            "239/239 [==============================] - 1s 3ms/step - loss: 3.6911e-04\n",
            "Epoch 25/50\n",
            "239/239 [==============================] - 1s 3ms/step - loss: 3.6892e-04\n",
            "Epoch 26/50\n",
            "239/239 [==============================] - 1s 3ms/step - loss: 3.9057e-04\n",
            "Epoch 27/50\n",
            "239/239 [==============================] - 1s 3ms/step - loss: 3.5809e-04\n",
            "Epoch 28/50\n",
            "239/239 [==============================] - 1s 3ms/step - loss: 3.7557e-04\n",
            "Epoch 29/50\n",
            "239/239 [==============================] - 1s 3ms/step - loss: 3.7585e-04\n",
            "Epoch 30/50\n",
            "239/239 [==============================] - 1s 3ms/step - loss: 3.5232e-04\n",
            "Epoch 31/50\n",
            "239/239 [==============================] - 1s 3ms/step - loss: 3.5767e-04\n",
            "Epoch 32/50\n",
            "239/239 [==============================] - 1s 3ms/step - loss: 3.8154e-04\n",
            "Epoch 33/50\n",
            "239/239 [==============================] - 1s 3ms/step - loss: 3.7093e-04\n",
            "Epoch 34/50\n",
            "239/239 [==============================] - 1s 3ms/step - loss: 3.6527e-04\n",
            "Epoch 35/50\n",
            "239/239 [==============================] - 1s 3ms/step - loss: 3.6844e-04\n",
            "Epoch 36/50\n",
            "239/239 [==============================] - 1s 3ms/step - loss: 3.6162e-04\n",
            "Epoch 37/50\n",
            "239/239 [==============================] - 1s 3ms/step - loss: 3.7590e-04\n",
            "Epoch 38/50\n",
            "239/239 [==============================] - 1s 3ms/step - loss: 3.8806e-04\n",
            "Epoch 39/50\n",
            "239/239 [==============================] - 1s 3ms/step - loss: 3.7311e-04\n",
            "Epoch 40/50\n",
            "239/239 [==============================] - 1s 3ms/step - loss: 3.5580e-04\n",
            "Epoch 41/50\n",
            "239/239 [==============================] - 1s 3ms/step - loss: 3.6654e-04\n",
            "Epoch 42/50\n",
            "239/239 [==============================] - 1s 3ms/step - loss: 3.9501e-04\n",
            "Epoch 43/50\n",
            "239/239 [==============================] - 1s 3ms/step - loss: 3.5629e-04\n",
            "Epoch 44/50\n",
            "239/239 [==============================] - 1s 3ms/step - loss: 3.7437e-04\n",
            "Epoch 45/50\n",
            "239/239 [==============================] - 1s 3ms/step - loss: 3.9684e-04\n",
            "Epoch 46/50\n",
            "239/239 [==============================] - 1s 3ms/step - loss: 3.6113e-04\n",
            "Epoch 47/50\n",
            "239/239 [==============================] - 1s 3ms/step - loss: 3.6423e-04\n",
            "Epoch 48/50\n",
            "239/239 [==============================] - 1s 3ms/step - loss: 3.6911e-04\n",
            "Epoch 49/50\n",
            "239/239 [==============================] - 1s 3ms/step - loss: 3.8203e-04\n",
            "Epoch 50/50\n",
            "239/239 [==============================] - 1s 3ms/step - loss: 3.5837e-04\n"
          ],
          "name": "stdout"
        },
        {
          "output_type": "execute_result",
          "data": {
            "text/plain": [
              "<tensorflow.python.keras.callbacks.History at 0x7f18000c3748>"
            ]
          },
          "metadata": {
            "tags": []
          },
          "execution_count": 59
        }
      ]
    },
    {
      "cell_type": "markdown",
      "metadata": {
        "id": "9z0hg6uExUto",
        "colab_type": "text"
      },
      "source": [
        "## Prediction on ts_test"
      ]
    },
    {
      "cell_type": "code",
      "metadata": {
        "colab_type": "code",
        "id": "cxNusrmE-J0X",
        "colab": {}
      },
      "source": [
        "# We are going to make prediction from 17-11-2016 to 30-12-2016\n",
        "\n",
        "# Preprocess the test data\n",
        "\n",
        "test_set = ts_test.values\n",
        "\n",
        "inputs = np.reshape(test_set, (len(test_set), 1))                        # Reshape before passing in the input\n",
        "inputs = min_max_scaler.transform(inputs)                                # Scaling the data\n",
        "inputs = np.reshape(inputs, (len(inputs), 1, 1))\n",
        "\n",
        "predicted_price = regressor.predict(inputs)                              # Make predictions on the test data\n",
        "predicted_price = min_max_scaler.inverse_transform(predicted_price)      # Inverse transform the predicted price"
      ],
      "execution_count": 79,
      "outputs": []
    },
    {
      "cell_type": "code",
      "metadata": {
        "id": "k7WZNPXTbFVX",
        "colab_type": "code",
        "colab": {}
      },
      "source": [
        "# This is the close price of stocks for last 30 days\n",
        "\n",
        "# predicted_price             \n",
        "test_set = pd.DataFrame(test_set)\n",
        "test_set.columns = ['Close']  \n",
        "test_set['Close'] = test_set['Close'].astype('float64')                         "
      ],
      "execution_count": 94,
      "outputs": []
    },
    {
      "cell_type": "code",
      "metadata": {
        "colab_type": "code",
        "id": "3fUN1Os2VVrj",
        "colab": {
          "base_uri": "https://localhost:8080/",
          "height": 151
        },
        "outputId": "b14b3906-09d5-4c51-9d25-7d896fb8da4d"
      },
      "source": [
        "predicted_price = pd.DataFrame(predicted_price)\n",
        "predicted_price.columns = ['Close']\n",
        "predicted_price['Close'] = predicted_price['Close'].astype('float64')\n",
        "predicted_price.info()"
      ],
      "execution_count": 95,
      "outputs": [
        {
          "output_type": "stream",
          "text": [
            "<class 'pandas.core.frame.DataFrame'>\n",
            "RangeIndex: 30 entries, 0 to 29\n",
            "Data columns (total 1 columns):\n",
            " #   Column  Non-Null Count  Dtype  \n",
            "---  ------  --------------  -----  \n",
            " 0   Close   30 non-null     float64\n",
            "dtypes: float64(1)\n",
            "memory usage: 368.0 bytes\n"
          ],
          "name": "stdout"
        }
      ]
    },
    {
      "cell_type": "code",
      "metadata": {
        "colab_type": "code",
        "id": "q0WYt1LuVVy8",
        "colab": {
          "base_uri": "https://localhost:8080/",
          "height": 935
        },
        "outputId": "bd9e06c2-abf0-4b93-cbe9-7beede381fa0"
      },
      "source": [
        "# Lets have a look at the error values\n",
        "error=predicted_price-test_set                \n",
        "# Calculate the error\n",
        "\n",
        "error"
      ],
      "execution_count": 96,
      "outputs": [
        {
          "output_type": "execute_result",
          "data": {
            "text/html": [
              "<div>\n",
              "<style scoped>\n",
              "    .dataframe tbody tr th:only-of-type {\n",
              "        vertical-align: middle;\n",
              "    }\n",
              "\n",
              "    .dataframe tbody tr th {\n",
              "        vertical-align: top;\n",
              "    }\n",
              "\n",
              "    .dataframe thead th {\n",
              "        text-align: right;\n",
              "    }\n",
              "</style>\n",
              "<table border=\"1\" class=\"dataframe\">\n",
              "  <thead>\n",
              "    <tr style=\"text-align: right;\">\n",
              "      <th></th>\n",
              "      <th>Close</th>\n",
              "    </tr>\n",
              "  </thead>\n",
              "  <tbody>\n",
              "    <tr>\n",
              "      <th>0</th>\n",
              "      <td>137.887695</td>\n",
              "    </tr>\n",
              "    <tr>\n",
              "      <th>1</th>\n",
              "      <td>138.240234</td>\n",
              "    </tr>\n",
              "    <tr>\n",
              "      <th>2</th>\n",
              "      <td>138.331055</td>\n",
              "    </tr>\n",
              "    <tr>\n",
              "      <th>3</th>\n",
              "      <td>138.546875</td>\n",
              "    </tr>\n",
              "    <tr>\n",
              "      <th>4</th>\n",
              "      <td>138.240234</td>\n",
              "    </tr>\n",
              "    <tr>\n",
              "      <th>5</th>\n",
              "      <td>137.968750</td>\n",
              "    </tr>\n",
              "    <tr>\n",
              "      <th>6</th>\n",
              "      <td>138.346680</td>\n",
              "    </tr>\n",
              "    <tr>\n",
              "      <th>7</th>\n",
              "      <td>138.135742</td>\n",
              "    </tr>\n",
              "    <tr>\n",
              "      <th>8</th>\n",
              "      <td>138.587891</td>\n",
              "    </tr>\n",
              "    <tr>\n",
              "      <th>9</th>\n",
              "      <td>138.546875</td>\n",
              "    </tr>\n",
              "    <tr>\n",
              "      <th>10</th>\n",
              "      <td>138.942383</td>\n",
              "    </tr>\n",
              "    <tr>\n",
              "      <th>11</th>\n",
              "      <td>139.067383</td>\n",
              "    </tr>\n",
              "    <tr>\n",
              "      <th>12</th>\n",
              "      <td>139.360352</td>\n",
              "    </tr>\n",
              "    <tr>\n",
              "      <th>13</th>\n",
              "      <td>139.297852</td>\n",
              "    </tr>\n",
              "    <tr>\n",
              "      <th>14</th>\n",
              "      <td>139.422852</td>\n",
              "    </tr>\n",
              "    <tr>\n",
              "      <th>15</th>\n",
              "      <td>139.527344</td>\n",
              "    </tr>\n",
              "    <tr>\n",
              "      <th>16</th>\n",
              "      <td>139.160156</td>\n",
              "    </tr>\n",
              "    <tr>\n",
              "      <th>17</th>\n",
              "      <td>139.982422</td>\n",
              "    </tr>\n",
              "    <tr>\n",
              "      <th>18</th>\n",
              "      <td>140.084961</td>\n",
              "    </tr>\n",
              "    <tr>\n",
              "      <th>19</th>\n",
              "      <td>139.464844</td>\n",
              "    </tr>\n",
              "    <tr>\n",
              "      <th>20</th>\n",
              "      <td>139.402344</td>\n",
              "    </tr>\n",
              "    <tr>\n",
              "      <th>21</th>\n",
              "      <td>139.915039</td>\n",
              "    </tr>\n",
              "    <tr>\n",
              "      <th>22</th>\n",
              "      <td>140.258789</td>\n",
              "    </tr>\n",
              "    <tr>\n",
              "      <th>23</th>\n",
              "      <td>139.866211</td>\n",
              "    </tr>\n",
              "    <tr>\n",
              "      <th>24</th>\n",
              "      <td>140.497070</td>\n",
              "    </tr>\n",
              "    <tr>\n",
              "      <th>25</th>\n",
              "      <td>140.310547</td>\n",
              "    </tr>\n",
              "    <tr>\n",
              "      <th>26</th>\n",
              "      <td>140.856445</td>\n",
              "    </tr>\n",
              "    <tr>\n",
              "      <th>27</th>\n",
              "      <td>142.621094</td>\n",
              "    </tr>\n",
              "    <tr>\n",
              "      <th>28</th>\n",
              "      <td>142.805664</td>\n",
              "    </tr>\n",
              "    <tr>\n",
              "      <th>29</th>\n",
              "      <td>143.105469</td>\n",
              "    </tr>\n",
              "  </tbody>\n",
              "</table>\n",
              "</div>"
            ],
            "text/plain": [
              "         Close\n",
              "0   137.887695\n",
              "1   138.240234\n",
              "2   138.331055\n",
              "3   138.546875\n",
              "4   138.240234\n",
              "5   137.968750\n",
              "6   138.346680\n",
              "7   138.135742\n",
              "8   138.587891\n",
              "9   138.546875\n",
              "10  138.942383\n",
              "11  139.067383\n",
              "12  139.360352\n",
              "13  139.297852\n",
              "14  139.422852\n",
              "15  139.527344\n",
              "16  139.160156\n",
              "17  139.982422\n",
              "18  140.084961\n",
              "19  139.464844\n",
              "20  139.402344\n",
              "21  139.915039\n",
              "22  140.258789\n",
              "23  139.866211\n",
              "24  140.497070\n",
              "25  140.310547\n",
              "26  140.856445\n",
              "27  142.621094\n",
              "28  142.805664\n",
              "29  143.105469"
            ]
          },
          "metadata": {
            "tags": []
          },
          "execution_count": 96
        }
      ]
    },
    {
      "cell_type": "code",
      "metadata": {
        "colab_type": "code",
        "id": "22dNY2XwVV2B",
        "colab": {
          "base_uri": "https://localhost:8080/",
          "height": 579
        },
        "outputId": "e8ac3475-248b-4d25-a5db-932b310e0ddb"
      },
      "source": [
        "# Plot the Actual price and the predicted price\n",
        "\n",
        "plt.figure(figsize=(8, 8), dpi=80, facecolor = 'w', edgecolor = 'k')\n",
        "\n",
        "plt.plot(test_set['Close'], color='red', label='Real Uniqlo Price')                      # Actual Price\n",
        "plt.plot(predicted_price['Close'], color = 'blue', label = 'Predicted Close Price')      # Predicted Price\n",
        "\n",
        "plt.title('Uniqlo Price Prediction from 17-11-2016 to 30-12-2016', fontsize = 20)\n",
        "plt.xlabel('Time', fontsize=16)\n",
        "plt.ylabel('Uniqlo Price', fontsize = 16)\n",
        "plt.legend(loc = 'best')\n",
        "plt.show()"
      ],
      "execution_count": 105,
      "outputs": [
        {
          "output_type": "display_data",
          "data": {
            "image/png": "[encoded data removed]",
            "text/plain": [
              "<Figure size 640x640 with 1 Axes>"
            ]
          },
          "metadata": {
            "tags": []
          }
        }
      ]
    },
    {
      "cell_type": "markdown",
      "metadata": {
        "colab_type": "text",
        "id": "hj8q-RCYhc8Z"
      },
      "source": [
        "## Prediction with test data"
      ]
    },
    {
      "cell_type": "code",
      "metadata": {
        "colab_type": "code",
        "id": "FHeaIxrsv7Iz",
        "colab": {}
      },
      "source": [
        "test_data=pd.read_csv(\"/content/drive/My Drive/Colab Notebooks/Uniqlo_2017_Test.csv\")              # Loading the test data"
      ],
      "execution_count": 103,
      "outputs": []
    },
    {
      "cell_type": "code",
      "metadata": {
        "id": "acS3r54q7Xs9",
        "colab_type": "code",
        "colab": {
          "base_uri": "https://localhost:8080/",
          "height": 34
        },
        "outputId": "5b5fa2d7-d323-4df0-945c-d13542db775e"
      },
      "source": [
        "test_data.shape"
      ],
      "execution_count": 106,
      "outputs": [
        {
          "output_type": "execute_result",
          "data": {
            "text/plain": [
              "(7, 7)"
            ]
          },
          "metadata": {
            "tags": []
          },
          "execution_count": 106
        }
      ]
    },
    {
      "cell_type": "code",
      "metadata": {
        "id": "uHNnsVSWxUt1",
        "colab_type": "code",
        "colab": {
          "base_uri": "https://localhost:8080/",
          "height": 254
        },
        "outputId": "ec58d507-0743-4c94-dc51-b87a0210d798"
      },
      "source": [
        "test_data"
      ],
      "execution_count": 107,
      "outputs": [
        {
          "output_type": "execute_result",
          "data": {
            "text/html": [
              "<div>\n",
              "<style scoped>\n",
              "    .dataframe tbody tr th:only-of-type {\n",
              "        vertical-align: middle;\n",
              "    }\n",
              "\n",
              "    .dataframe tbody tr th {\n",
              "        vertical-align: top;\n",
              "    }\n",
              "\n",
              "    .dataframe thead th {\n",
              "        text-align: right;\n",
              "    }\n",
              "</style>\n",
              "<table border=\"1\" class=\"dataframe\">\n",
              "  <thead>\n",
              "    <tr style=\"text-align: right;\">\n",
              "      <th></th>\n",
              "      <th>Date</th>\n",
              "      <th>Open</th>\n",
              "      <th>High</th>\n",
              "      <th>Low</th>\n",
              "      <th>Close</th>\n",
              "      <th>Volume</th>\n",
              "      <th>Stock Trading</th>\n",
              "    </tr>\n",
              "  </thead>\n",
              "  <tbody>\n",
              "    <tr>\n",
              "      <th>0</th>\n",
              "      <td>2017-01-13</td>\n",
              "      <td>38900</td>\n",
              "      <td>39380</td>\n",
              "      <td>38240</td>\n",
              "      <td>38430</td>\n",
              "      <td>1321200</td>\n",
              "      <td>51197289000</td>\n",
              "    </tr>\n",
              "    <tr>\n",
              "      <th>1</th>\n",
              "      <td>2017-01-12</td>\n",
              "      <td>38300</td>\n",
              "      <td>38450</td>\n",
              "      <td>37930</td>\n",
              "      <td>38010</td>\n",
              "      <td>800900</td>\n",
              "      <td>30540359000</td>\n",
              "    </tr>\n",
              "    <tr>\n",
              "      <th>2</th>\n",
              "      <td>2017-01-11</td>\n",
              "      <td>38710</td>\n",
              "      <td>38880</td>\n",
              "      <td>38480</td>\n",
              "      <td>38560</td>\n",
              "      <td>545900</td>\n",
              "      <td>21089798000</td>\n",
              "    </tr>\n",
              "    <tr>\n",
              "      <th>3</th>\n",
              "      <td>2017-01-10</td>\n",
              "      <td>38620</td>\n",
              "      <td>38850</td>\n",
              "      <td>38150</td>\n",
              "      <td>38690</td>\n",
              "      <td>1196900</td>\n",
              "      <td>46107703000</td>\n",
              "    </tr>\n",
              "    <tr>\n",
              "      <th>4</th>\n",
              "      <td>2017-01-06</td>\n",
              "      <td>40500</td>\n",
              "      <td>41030</td>\n",
              "      <td>39720</td>\n",
              "      <td>39720</td>\n",
              "      <td>1435500</td>\n",
              "      <td>57708934000</td>\n",
              "    </tr>\n",
              "    <tr>\n",
              "      <th>5</th>\n",
              "      <td>2017-01-05</td>\n",
              "      <td>43250</td>\n",
              "      <td>43330</td>\n",
              "      <td>42470</td>\n",
              "      <td>42590</td>\n",
              "      <td>516800</td>\n",
              "      <td>22124250000</td>\n",
              "    </tr>\n",
              "    <tr>\n",
              "      <th>6</th>\n",
              "      <td>2017-01-04</td>\n",
              "      <td>42480</td>\n",
              "      <td>43330</td>\n",
              "      <td>42450</td>\n",
              "      <td>43290</td>\n",
              "      <td>648100</td>\n",
              "      <td>27916728000</td>\n",
              "    </tr>\n",
              "  </tbody>\n",
              "</table>\n",
              "</div>"
            ],
            "text/plain": [
              "         Date   Open   High    Low  Close   Volume  Stock Trading\n",
              "0  2017-01-13  38900  39380  38240  38430  1321200    51197289000\n",
              "1  2017-01-12  38300  38450  37930  38010   800900    30540359000\n",
              "2  2017-01-11  38710  38880  38480  38560   545900    21089798000\n",
              "3  2017-01-10  38620  38850  38150  38690  1196900    46107703000\n",
              "4  2017-01-06  40500  41030  39720  39720  1435500    57708934000\n",
              "5  2017-01-05  43250  43330  42470  42590   516800    22124250000\n",
              "6  2017-01-04  42480  43330  42450  43290   648100    27916728000"
            ]
          },
          "metadata": {
            "tags": []
          },
          "execution_count": 107
        }
      ]
    },
    {
      "cell_type": "markdown",
      "metadata": {
        "id": "2lgXg39dfnK2",
        "colab_type": "text"
      },
      "source": [
        "This has data for 7 days from 4-01-2017 to 13-1-2017 "
      ]
    },
    {
      "cell_type": "markdown",
      "metadata": {
        "id": "kB6xnFY9xUt4",
        "colab_type": "text"
      },
      "source": [
        "#### Extracting all the rows and 4th column"
      ]
    },
    {
      "cell_type": "code",
      "metadata": {
        "colab_type": "code",
        "id": "EYIvcrAjwLtH",
        "colab": {
          "base_uri": "https://localhost:8080/",
          "height": 151
        },
        "outputId": "19136b60-8620-43cf-8708-4ce160267a86"
      },
      "source": [
        "test_data1=test_data.iloc[:,4]                                                         # Extracting the close price\n",
        "test_data1"
      ],
      "execution_count": 108,
      "outputs": [
        {
          "output_type": "execute_result",
          "data": {
            "text/plain": [
              "0    38430\n",
              "1    38010\n",
              "2    38560\n",
              "3    38690\n",
              "4    39720\n",
              "5    42590\n",
              "6    43290\n",
              "Name: Close, dtype: int64"
            ]
          },
          "metadata": {
            "tags": []
          },
          "execution_count": 108
        }
      ]
    },
    {
      "cell_type": "markdown",
      "metadata": {
        "id": "dzyNSWEAUDhF",
        "colab_type": "text"
      },
      "source": [
        "#### We need to perform feature engineering on the test price before we can make predictions from the model."
      ]
    },
    {
      "cell_type": "code",
      "metadata": {
        "colab_type": "code",
        "id": "1u3Yzirew4l8",
        "colab": {}
      },
      "source": [
        "test_data1=np.array(test_data1)"
      ],
      "execution_count": 109,
      "outputs": []
    },
    {
      "cell_type": "code",
      "metadata": {
        "id": "QTuF9a8BLpdF",
        "colab_type": "code",
        "colab": {
          "base_uri": "https://localhost:8080/",
          "height": 34
        },
        "outputId": "616b652d-88cc-430b-a4e0-021545d1ca54"
      },
      "source": [
        "test_data1"
      ],
      "execution_count": 110,
      "outputs": [
        {
          "output_type": "execute_result",
          "data": {
            "text/plain": [
              "array([38430, 38010, 38560, 38690, 39720, 42590, 43290])"
            ]
          },
          "metadata": {
            "tags": []
          },
          "execution_count": 110
        }
      ]
    },
    {
      "cell_type": "code",
      "metadata": {
        "colab_type": "code",
        "id": "4uqCmf5Qwivo",
        "colab": {}
      },
      "source": [
        "test_data1 =test_data1.reshape(-1,1)                               # Reshape the data before you feed into the model"
      ],
      "execution_count": 111,
      "outputs": []
    },
    {
      "cell_type": "code",
      "metadata": {
        "id": "Otusr1wYLz06",
        "colab_type": "code",
        "colab": {
          "base_uri": "https://localhost:8080/",
          "height": 134
        },
        "outputId": "b179ca09-a0b2-45d3-a359-8b6063fe5b04"
      },
      "source": [
        "test_data1"
      ],
      "execution_count": 112,
      "outputs": [
        {
          "output_type": "execute_result",
          "data": {
            "text/plain": [
              "array([[38430],\n",
              "       [38010],\n",
              "       [38560],\n",
              "       [38690],\n",
              "       [39720],\n",
              "       [42590],\n",
              "       [43290]])"
            ]
          },
          "metadata": {
            "tags": []
          },
          "execution_count": 112
        }
      ]
    },
    {
      "cell_type": "code",
      "metadata": {
        "colab_type": "code",
        "id": "d147EZq3wLxf",
        "colab": {}
      },
      "source": [
        "test_input=min_max_scaler.transform(test_data1)                    # Scale the data"
      ],
      "execution_count": 113,
      "outputs": []
    },
    {
      "cell_type": "code",
      "metadata": {
        "id": "sPerTvXbL9Uu",
        "colab_type": "code",
        "colab": {
          "base_uri": "https://localhost:8080/",
          "height": 134
        },
        "outputId": "f1b1166e-25e9-4ec1-95a3-0f63da2ebe38"
      },
      "source": [
        "test_input"
      ],
      "execution_count": 114,
      "outputs": [
        {
          "output_type": "execute_result",
          "data": {
            "text/plain": [
              "array([[0.49689574],\n",
              "       [0.48790409],\n",
              "       [0.49967887],\n",
              "       [0.502462  ],\n",
              "       [0.52451295],\n",
              "       [0.5859559 ],\n",
              "       [0.60094198]])"
            ]
          },
          "metadata": {
            "tags": []
          },
          "execution_count": 114
        }
      ]
    },
    {
      "cell_type": "code",
      "metadata": {
        "id": "dB9oJ-FCQV2Z",
        "colab_type": "code",
        "colab": {
          "base_uri": "https://localhost:8080/",
          "height": 34
        },
        "outputId": "8df1871f-492f-41a2-ff64-675ceeb876f1"
      },
      "source": [
        "((38430-35349.7386336)/5280)"
      ],
      "execution_count": 115,
      "outputs": [
        {
          "output_type": "execute_result",
          "data": {
            "text/plain": [
              "0.5833828345454549"
            ]
          },
          "metadata": {
            "tags": []
          },
          "execution_count": 115
        }
      ]
    },
    {
      "cell_type": "code",
      "metadata": {
        "colab_type": "code",
        "id": "E4NT88qZwLwd",
        "colab": {
          "base_uri": "https://localhost:8080/",
          "height": 34
        },
        "outputId": "e1524243-602d-434a-aa2a-399c2c32528c"
      },
      "source": [
        "test_input.shape"
      ],
      "execution_count": 116,
      "outputs": [
        {
          "output_type": "execute_result",
          "data": {
            "text/plain": [
              "(7, 1)"
            ]
          },
          "metadata": {
            "tags": []
          },
          "execution_count": 116
        }
      ]
    },
    {
      "cell_type": "code",
      "metadata": {
        "colab_type": "code",
        "id": "STvB6LKPftRq",
        "colab": {}
      },
      "source": [
        "test_input=np.reshape(test_input, (len(test_input), 1, 1))"
      ],
      "execution_count": 117,
      "outputs": []
    },
    {
      "cell_type": "code",
      "metadata": {
        "colab_type": "code",
        "id": "N15rIi-_f738",
        "colab": {}
      },
      "source": [
        "test_prediction=regressor.predict(test_input)                          # Make predictions for the test data"
      ],
      "execution_count": 118,
      "outputs": []
    },
    {
      "cell_type": "code",
      "metadata": {
        "colab_type": "code",
        "id": "LBwFcnESgFXi",
        "colab": {}
      },
      "source": [
        "test_prediction=min_max_scaler.inverse_transform(test_prediction)      # Inverse transform the predictions"
      ],
      "execution_count": 119,
      "outputs": []
    },
    {
      "cell_type": "code",
      "metadata": {
        "colab_type": "code",
        "id": "ffDegVUhgNYf",
        "colab": {
          "base_uri": "https://localhost:8080/",
          "height": 134
        },
        "outputId": "f6fd680e-82d7-4851-9aa7-2c50ca8611ce"
      },
      "source": [
        "test_prediction"
      ],
      "execution_count": 120,
      "outputs": [
        {
          "output_type": "execute_result",
          "data": {
            "text/plain": [
              "array([[38664.34 ],\n",
              "       [38244.13 ],\n",
              "       [38794.363],\n",
              "       [38924.367],\n",
              "       [39953.65 ],\n",
              "       [42813.883],\n",
              "       [43509.56 ]], dtype=float32)"
            ]
          },
          "metadata": {
            "tags": []
          },
          "execution_count": 120
        }
      ]
    },
    {
      "cell_type": "code",
      "metadata": {
        "colab_type": "code",
        "id": "sMUwO12u-J6Q",
        "colab": {
          "base_uri": "https://localhost:8080/",
          "height": 34
        },
        "outputId": "dc7cde50-4726-4d52-d6d8-388574c0a60e"
      },
      "source": [
        "test_data.iloc[:,4].values"
      ],
      "execution_count": 121,
      "outputs": [
        {
          "output_type": "execute_result",
          "data": {
            "text/plain": [
              "array([38430, 38010, 38560, 38690, 39720, 42590, 43290])"
            ]
          },
          "metadata": {
            "tags": []
          },
          "execution_count": 121
        }
      ]
    },
    {
      "cell_type": "code",
      "metadata": {
        "colab_type": "code",
        "id": "Crmdb2CY-J3E",
        "colab": {
          "base_uri": "https://localhost:8080/",
          "height": 252
        },
        "outputId": "a6f76d42-2ac9-41d9-d590-656a3606beca"
      },
      "source": [
        "error1 = test_prediction - test_data.iloc[:,4].values\n",
        "error1"
      ],
      "execution_count": 122,
      "outputs": [
        {
          "output_type": "execute_result",
          "data": {
            "text/plain": [
              "array([[  234.33984375,   654.33984375,   104.33984375,   -25.66015625,\n",
              "        -1055.66015625, -3925.66015625, -4625.66015625],\n",
              "       [ -185.87109375,   234.12890625,  -315.87109375,  -445.87109375,\n",
              "        -1475.87109375, -4345.87109375, -5045.87109375],\n",
              "       [  364.36328125,   784.36328125,   234.36328125,   104.36328125,\n",
              "         -925.63671875, -3795.63671875, -4495.63671875],\n",
              "       [  494.3671875 ,   914.3671875 ,   364.3671875 ,   234.3671875 ,\n",
              "         -795.6328125 , -3665.6328125 , -4365.6328125 ],\n",
              "       [ 1523.6484375 ,  1943.6484375 ,  1393.6484375 ,  1263.6484375 ,\n",
              "          233.6484375 , -2636.3515625 , -3336.3515625 ],\n",
              "       [ 4383.8828125 ,  4803.8828125 ,  4253.8828125 ,  4123.8828125 ,\n",
              "         3093.8828125 ,   223.8828125 ,  -476.1171875 ],\n",
              "       [ 5079.55859375,  5499.55859375,  4949.55859375,  4819.55859375,\n",
              "         3789.55859375,   919.55859375,   219.55859375]])"
            ]
          },
          "metadata": {
            "tags": []
          },
          "execution_count": 122
        }
      ]
    },
    {
      "cell_type": "code",
      "metadata": {
        "id": "gAw5EvWlxUuS",
        "colab_type": "code",
        "colab": {
          "base_uri": "https://localhost:8080/",
          "height": 604
        },
        "outputId": "7bbd1b4e-d8dc-4e4b-d505-0dd674633987"
      },
      "source": [
        "# Plot the Actual price and the predicted price for test data\n",
        "\n",
        "plt.figure(figsize=(8, 8), dpi=80, facecolor = 'w', edgecolor = 'k')\n",
        "\n",
        "plt.plot(test_data.iloc[:, 4], color='red', label='Real Uniqlo Price')                      # Actual Price\n",
        "plt.plot(test_prediction[:, 0], color = 'blue', label = 'Predicted Close Price')      # Predicted Price\n",
        "\n",
        "plt.title('Uniqlo Price Prediction from 2017-01-04 to 2017-01-13', fontsize = 20)\n",
        "plt.xlabel('Time', fontsize=40)\n",
        "plt.ylabel('Uniqlo Price', fontsize = 40)\n",
        "plt.legend(loc = 'best')\n",
        "plt.show()"
      ],
      "execution_count": 123,
      "outputs": [
        {
          "output_type": "display_data",
          "data": {
            "image/png": "[encoded data removed]",
            "text/plain": [
              "<Figure size 640x640 with 1 Axes>"
            ]
          },
          "metadata": {
            "tags": []
          }
        }
      ]
    }
  ]
}